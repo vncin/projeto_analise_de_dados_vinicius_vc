{
  "nbformat": 4,
  "nbformat_minor": 0,
  "metadata": {
    "colab": {
      "name": "projeto_ad_vinicius_guitarTabs.ipynb",
      "provenance": [],
      "collapsed_sections": []
    },
    "kernelspec": {
      "name": "python3",
      "display_name": "Python 3"
    },
    "language_info": {
      "name": "python"
    }
  },
  "cells": [
    {
      "cell_type": "markdown",
      "metadata": {
        "id": "JQrC3_Zxw-bA"
      },
      "source": [
        "# **Início** \n",
        "Este projeto tem como objetivo apresentar uma análise exploratória de dados no [dataset](https://www.kaggle.com/thomaskonstantin/top-850-guitar-tabs ) encontrado no Kaggle. \n",
        "\n",
        "O desenvolvimento dessa atividade é requisito de aprovação para a disciplina, Introdução à Análise de Dados, ministrada pelo Prof Luciano Barbosa, do programa de Especialização/Residência em Visão Computacional pelo CIn/UFPE em parceria com o SiDi/Samsung. \n",
        "\n",
        "Esse dataset reúne dados sobre Cifras de instrumentos de corda (guitarra/violão/baixo, a princípio) para músicos. A cifra, de certa forma, é mais fácil de ler, se comparada a partitura (muito utilizada por orquestras e música clássica), sendo assim, as cifras são bastante utilizadas por músicos iniciantes e/ou entusiastas. \n",
        "\n",
        "A escolha desse tema, é pelo fato do autor do projeto, ser um entusiasta, conhecer e tocar violão/guitarra a mais de 10 anos e continua estudando/aprendendo músicas com o auxílio de cifras. \n",
        "\n",
        "As variáveis encontradas no dataset são:\n",
        "\n",
        "\n",
        "*   1 - Artist: Nome do artista\n",
        "*   2 - Song name: O nome da música\n",
        "*   3 - Song Rating (Avaliação da música): O número de usuários que avaliaram esta música (página da cifra que contém a música) com 5 estrelas em 5.\n",
        "* 4 - Song Hits: Número de acessos (o número de visualizações)\n",
        "* 5 - Page type: Que tipo de notas a página continha Guia / Chords / GP etc.\n",
        "* 6 - Difficulty: Quão difíceis são os acordes/tabs (iniciante, intermediario e avançado)\n",
        "* 7 - Key: Tom da música\n",
        "* 8 - Capo: Se você precisa de um capo para tocar a música e em que traste você aplica o capo. \n",
        "* 9 - Tuning: Afinação do instrumento.\n",
        "\n",
        "A partir dessas variáveis e da análise podemos tentar responder: \n",
        "\n",
        "*    O que leva os \"músicos\" a aprenderem uma música?  "
      ]
    },
    {
      "cell_type": "markdown",
      "metadata": {
        "id": "6JlKOpj70cbx"
      },
      "source": [
        "# 1 - **Introdução**\n",
        "\n",
        "Vamos iniciar importando as bibliotecas e o dataset. Além disso, vamos observar o comportamento do dataset, com os tipos de dados das colunas, quantidades e possíveis erros. "
      ]
    },
    {
      "cell_type": "code",
      "metadata": {
        "id": "6OkznRu5wr-M"
      },
      "source": [
        "import pandas as pd\n",
        "import matplotlib.pyplot as plt\n",
        "import seaborn as sns\n",
        "import numpy as np\n",
        "\n",
        "\n",
        "base = pd.read_csv(\"/content/drive/MyDrive/projeto_ad_vinicius_dantas/gutiarDB.csv\")"
      ],
      "execution_count": 1,
      "outputs": []
    },
    {
      "cell_type": "code",
      "metadata": {
        "colab": {
          "base_uri": "https://localhost:8080/",
          "height": 205
        },
        "id": "W3HmZIdjPHR5",
        "outputId": "05953127-d432-4c9b-8774-4bacc14706b7"
      },
      "source": [
        "#Verificando algumas informações sobre as colunas\n",
        "base.head()"
      ],
      "execution_count": 2,
      "outputs": [
        {
          "output_type": "execute_result",
          "data": {
            "text/html": [
              "<div>\n",
              "<style scoped>\n",
              "    .dataframe tbody tr th:only-of-type {\n",
              "        vertical-align: middle;\n",
              "    }\n",
              "\n",
              "    .dataframe tbody tr th {\n",
              "        vertical-align: top;\n",
              "    }\n",
              "\n",
              "    .dataframe thead th {\n",
              "        text-align: right;\n",
              "    }\n",
              "</style>\n",
              "<table border=\"1\" class=\"dataframe\">\n",
              "  <thead>\n",
              "    <tr style=\"text-align: right;\">\n",
              "      <th></th>\n",
              "      <th>Artist</th>\n",
              "      <th>Song Name</th>\n",
              "      <th>Song Rating</th>\n",
              "      <th>Song Hits</th>\n",
              "      <th>Page Type</th>\n",
              "      <th>Difficulty</th>\n",
              "      <th>Key</th>\n",
              "      <th>Capo</th>\n",
              "      <th>Tuning</th>\n",
              "    </tr>\n",
              "  </thead>\n",
              "  <tbody>\n",
              "    <tr>\n",
              "      <th>0</th>\n",
              "      <td>Jeff Buckley</td>\n",
              "      <td>Hallelujah</td>\n",
              "      <td>40,045</td>\n",
              "      <td>31,174,526</td>\n",
              "      <td>Chords</td>\n",
              "      <td>novice</td>\n",
              "      <td>Db</td>\n",
              "      <td>1st fret</td>\n",
              "      <td>E A D G B E</td>\n",
              "    </tr>\n",
              "    <tr>\n",
              "      <th>1</th>\n",
              "      <td>Ed Sheeran</td>\n",
              "      <td>Perfect</td>\n",
              "      <td>31,694</td>\n",
              "      <td>25,794,778</td>\n",
              "      <td>Chords</td>\n",
              "      <td>novice</td>\n",
              "      <td>Ab</td>\n",
              "      <td>1st fret</td>\n",
              "      <td>E A D G B E</td>\n",
              "    </tr>\n",
              "    <tr>\n",
              "      <th>2</th>\n",
              "      <td>John Legend</td>\n",
              "      <td>All Of Me</td>\n",
              "      <td>20,169</td>\n",
              "      <td>25,653,362</td>\n",
              "      <td>Chords</td>\n",
              "      <td>novice</td>\n",
              "      <td>Fm</td>\n",
              "      <td>1st fret</td>\n",
              "      <td>E A D G B E</td>\n",
              "    </tr>\n",
              "    <tr>\n",
              "      <th>3</th>\n",
              "      <td>Passenger</td>\n",
              "      <td>Let Her Go</td>\n",
              "      <td>17,267</td>\n",
              "      <td>24,556,593</td>\n",
              "      <td>Chords</td>\n",
              "      <td>novice</td>\n",
              "      <td>Em</td>\n",
              "      <td>7th fret</td>\n",
              "      <td>E A D G B E</td>\n",
              "    </tr>\n",
              "    <tr>\n",
              "      <th>4</th>\n",
              "      <td>Led Zeppelin</td>\n",
              "      <td>Stairway To Heaven</td>\n",
              "      <td>11,839</td>\n",
              "      <td>20,762,763</td>\n",
              "      <td>Tab</td>\n",
              "      <td>intermediate</td>\n",
              "      <td>Am</td>\n",
              "      <td>No Capo</td>\n",
              "      <td>E A D G B E</td>\n",
              "    </tr>\n",
              "  </tbody>\n",
              "</table>\n",
              "</div>"
            ],
            "text/plain": [
              "         Artist           Song Name Song Rating  ...  Key       Capo        Tuning\n",
              "0  Jeff Buckley         Hallelujah       40,045  ...   Db   1st fret   E A D G B E\n",
              "1    Ed Sheeran             Perfect      31,694  ...   Ab   1st fret   E A D G B E\n",
              "2   John Legend           All Of Me      20,169  ...   Fm   1st fret   E A D G B E\n",
              "3     Passenger          Let Her Go      17,267  ...   Em   7th fret   E A D G B E\n",
              "4  Led Zeppelin  Stairway To Heaven      11,839  ...   Am    No Capo   E A D G B E\n",
              "\n",
              "[5 rows x 9 columns]"
            ]
          },
          "metadata": {},
          "execution_count": 2
        }
      ]
    },
    {
      "cell_type": "code",
      "metadata": {
        "colab": {
          "base_uri": "https://localhost:8080/"
        },
        "id": "dCi619IPbsHh",
        "outputId": "2b6028ed-73d6-423e-e734-3c2eef167eaa"
      },
      "source": [
        "base.shape"
      ],
      "execution_count": 3,
      "outputs": [
        {
          "output_type": "execute_result",
          "data": {
            "text/plain": [
              "(850, 9)"
            ]
          },
          "metadata": {},
          "execution_count": 3
        }
      ]
    },
    {
      "cell_type": "code",
      "metadata": {
        "colab": {
          "base_uri": "https://localhost:8080/"
        },
        "id": "IvH5j4IUt0Kp",
        "outputId": "b7bdbd5f-5ea5-4555-d6ff-51941d71c17b"
      },
      "source": [
        "base.info()"
      ],
      "execution_count": 4,
      "outputs": [
        {
          "output_type": "stream",
          "name": "stdout",
          "text": [
            "<class 'pandas.core.frame.DataFrame'>\n",
            "RangeIndex: 850 entries, 0 to 849\n",
            "Data columns (total 9 columns):\n",
            " #   Column       Non-Null Count  Dtype \n",
            "---  ------       --------------  ----- \n",
            " 0   Artist       850 non-null    object\n",
            " 1   Song Name    850 non-null    object\n",
            " 2   Song Rating  850 non-null    object\n",
            " 3   Song Hits    850 non-null    object\n",
            " 4   Page Type    850 non-null    object\n",
            " 5   Difficulty   850 non-null    object\n",
            " 6   Key          850 non-null    object\n",
            " 7   Capo         850 non-null    object\n",
            " 8   Tuning       850 non-null    object\n",
            "dtypes: object(9)\n",
            "memory usage: 59.9+ KB\n"
          ]
        }
      ]
    },
    {
      "cell_type": "markdown",
      "metadata": {
        "id": "pWfrYspYPY84"
      },
      "source": [
        "Percebemos até aqui que todos os dados são do tipo \"objeto\" que é associado à String, além disso, de 850 entradas não há nenhuma nula/vazia. Porém, duas colunas (Song Rating e Song Hits) apresentam quantidades, elas apresentam a quantidade de votos 5 que uma página de cifra (de determinada música) recebeu e a quantidade de acessos (visualizações). É mais interessante trabalhar com essas colunas como númericas. "
      ]
    },
    {
      "cell_type": "code",
      "metadata": {
        "colab": {
          "base_uri": "https://localhost:8080/",
          "height": 205
        },
        "id": "ima9tL0pSnOD",
        "outputId": "220f6fd4-4d1a-4e00-dc4d-3323019a6160"
      },
      "source": [
        "#Substituindo a virgula por vazio nas colunas, para depois transformar em inteiro\n",
        "base[\"Song Rating\"] = base[\"Song Rating\"].str.replace(',', '')\n",
        "base[\"Song Hits\"] = base[\"Song Hits\"].str.replace(',', '')\n",
        "base.head()\n"
      ],
      "execution_count": 5,
      "outputs": [
        {
          "output_type": "execute_result",
          "data": {
            "text/html": [
              "<div>\n",
              "<style scoped>\n",
              "    .dataframe tbody tr th:only-of-type {\n",
              "        vertical-align: middle;\n",
              "    }\n",
              "\n",
              "    .dataframe tbody tr th {\n",
              "        vertical-align: top;\n",
              "    }\n",
              "\n",
              "    .dataframe thead th {\n",
              "        text-align: right;\n",
              "    }\n",
              "</style>\n",
              "<table border=\"1\" class=\"dataframe\">\n",
              "  <thead>\n",
              "    <tr style=\"text-align: right;\">\n",
              "      <th></th>\n",
              "      <th>Artist</th>\n",
              "      <th>Song Name</th>\n",
              "      <th>Song Rating</th>\n",
              "      <th>Song Hits</th>\n",
              "      <th>Page Type</th>\n",
              "      <th>Difficulty</th>\n",
              "      <th>Key</th>\n",
              "      <th>Capo</th>\n",
              "      <th>Tuning</th>\n",
              "    </tr>\n",
              "  </thead>\n",
              "  <tbody>\n",
              "    <tr>\n",
              "      <th>0</th>\n",
              "      <td>Jeff Buckley</td>\n",
              "      <td>Hallelujah</td>\n",
              "      <td>40045</td>\n",
              "      <td>31174526</td>\n",
              "      <td>Chords</td>\n",
              "      <td>novice</td>\n",
              "      <td>Db</td>\n",
              "      <td>1st fret</td>\n",
              "      <td>E A D G B E</td>\n",
              "    </tr>\n",
              "    <tr>\n",
              "      <th>1</th>\n",
              "      <td>Ed Sheeran</td>\n",
              "      <td>Perfect</td>\n",
              "      <td>31694</td>\n",
              "      <td>25794778</td>\n",
              "      <td>Chords</td>\n",
              "      <td>novice</td>\n",
              "      <td>Ab</td>\n",
              "      <td>1st fret</td>\n",
              "      <td>E A D G B E</td>\n",
              "    </tr>\n",
              "    <tr>\n",
              "      <th>2</th>\n",
              "      <td>John Legend</td>\n",
              "      <td>All Of Me</td>\n",
              "      <td>20169</td>\n",
              "      <td>25653362</td>\n",
              "      <td>Chords</td>\n",
              "      <td>novice</td>\n",
              "      <td>Fm</td>\n",
              "      <td>1st fret</td>\n",
              "      <td>E A D G B E</td>\n",
              "    </tr>\n",
              "    <tr>\n",
              "      <th>3</th>\n",
              "      <td>Passenger</td>\n",
              "      <td>Let Her Go</td>\n",
              "      <td>17267</td>\n",
              "      <td>24556593</td>\n",
              "      <td>Chords</td>\n",
              "      <td>novice</td>\n",
              "      <td>Em</td>\n",
              "      <td>7th fret</td>\n",
              "      <td>E A D G B E</td>\n",
              "    </tr>\n",
              "    <tr>\n",
              "      <th>4</th>\n",
              "      <td>Led Zeppelin</td>\n",
              "      <td>Stairway To Heaven</td>\n",
              "      <td>11839</td>\n",
              "      <td>20762763</td>\n",
              "      <td>Tab</td>\n",
              "      <td>intermediate</td>\n",
              "      <td>Am</td>\n",
              "      <td>No Capo</td>\n",
              "      <td>E A D G B E</td>\n",
              "    </tr>\n",
              "  </tbody>\n",
              "</table>\n",
              "</div>"
            ],
            "text/plain": [
              "         Artist           Song Name Song Rating  ...  Key       Capo        Tuning\n",
              "0  Jeff Buckley         Hallelujah        40045  ...   Db   1st fret   E A D G B E\n",
              "1    Ed Sheeran             Perfect       31694  ...   Ab   1st fret   E A D G B E\n",
              "2   John Legend           All Of Me       20169  ...   Fm   1st fret   E A D G B E\n",
              "3     Passenger          Let Her Go       17267  ...   Em   7th fret   E A D G B E\n",
              "4  Led Zeppelin  Stairway To Heaven       11839  ...   Am    No Capo   E A D G B E\n",
              "\n",
              "[5 rows x 9 columns]"
            ]
          },
          "metadata": {},
          "execution_count": 5
        }
      ]
    },
    {
      "cell_type": "code",
      "metadata": {
        "id": "jcKyhTrI8if2"
      },
      "source": [
        "#Convertendo os dados em inteiro\n",
        "base[\"Song Rating\"] = base[\"Song Rating\"].astype(int)\n",
        "base[\"Song Hits\"] = base[\"Song Hits\"].astype(int)"
      ],
      "execution_count": 6,
      "outputs": []
    },
    {
      "cell_type": "code",
      "metadata": {
        "colab": {
          "base_uri": "https://localhost:8080/",
          "height": 299
        },
        "id": "8ALoJ9xwQmrT",
        "outputId": "97f0f72f-4fbc-4164-a9b2-02147fb7e5fb"
      },
      "source": [
        "base.describe().round(1)\n",
        "#Alguns dados estatisticos com o describe, ele exibe apenas as colunas com valores númericos. "
      ],
      "execution_count": 7,
      "outputs": [
        {
          "output_type": "execute_result",
          "data": {
            "text/html": [
              "<div>\n",
              "<style scoped>\n",
              "    .dataframe tbody tr th:only-of-type {\n",
              "        vertical-align: middle;\n",
              "    }\n",
              "\n",
              "    .dataframe tbody tr th {\n",
              "        vertical-align: top;\n",
              "    }\n",
              "\n",
              "    .dataframe thead th {\n",
              "        text-align: right;\n",
              "    }\n",
              "</style>\n",
              "<table border=\"1\" class=\"dataframe\">\n",
              "  <thead>\n",
              "    <tr style=\"text-align: right;\">\n",
              "      <th></th>\n",
              "      <th>Song Rating</th>\n",
              "      <th>Song Hits</th>\n",
              "    </tr>\n",
              "  </thead>\n",
              "  <tbody>\n",
              "    <tr>\n",
              "      <th>count</th>\n",
              "      <td>850.0</td>\n",
              "      <td>850.0</td>\n",
              "    </tr>\n",
              "    <tr>\n",
              "      <th>mean</th>\n",
              "      <td>2263.7</td>\n",
              "      <td>3281441.1</td>\n",
              "    </tr>\n",
              "    <tr>\n",
              "      <th>std</th>\n",
              "      <td>3210.9</td>\n",
              "      <td>3041135.0</td>\n",
              "    </tr>\n",
              "    <tr>\n",
              "      <th>min</th>\n",
              "      <td>7.0</td>\n",
              "      <td>1405613.0</td>\n",
              "    </tr>\n",
              "    <tr>\n",
              "      <th>25%</th>\n",
              "      <td>582.0</td>\n",
              "      <td>1721466.0</td>\n",
              "    </tr>\n",
              "    <tr>\n",
              "      <th>50%</th>\n",
              "      <td>1260.5</td>\n",
              "      <td>2280788.0</td>\n",
              "    </tr>\n",
              "    <tr>\n",
              "      <th>75%</th>\n",
              "      <td>2677.0</td>\n",
              "      <td>3416779.0</td>\n",
              "    </tr>\n",
              "    <tr>\n",
              "      <th>max</th>\n",
              "      <td>40045.0</td>\n",
              "      <td>31174526.0</td>\n",
              "    </tr>\n",
              "  </tbody>\n",
              "</table>\n",
              "</div>"
            ],
            "text/plain": [
              "       Song Rating   Song Hits\n",
              "count        850.0       850.0\n",
              "mean        2263.7   3281441.1\n",
              "std         3210.9   3041135.0\n",
              "min            7.0   1405613.0\n",
              "25%          582.0   1721466.0\n",
              "50%         1260.5   2280788.0\n",
              "75%         2677.0   3416779.0\n",
              "max        40045.0  31174526.0"
            ]
          },
          "metadata": {},
          "execution_count": 7
        }
      ]
    },
    {
      "cell_type": "code",
      "metadata": {
        "colab": {
          "base_uri": "https://localhost:8080/",
          "height": 175
        },
        "id": "f3iDHXWhPz_X",
        "outputId": "75a0c1d5-bb77-442e-93b7-99b6d46176e6"
      },
      "source": [
        "#Adicionando o parametro object é possivel identificar mais detalhes sobre os dados que não são númericos. \n",
        "base.describe(include=[object])"
      ],
      "execution_count": 8,
      "outputs": [
        {
          "output_type": "execute_result",
          "data": {
            "text/html": [
              "<div>\n",
              "<style scoped>\n",
              "    .dataframe tbody tr th:only-of-type {\n",
              "        vertical-align: middle;\n",
              "    }\n",
              "\n",
              "    .dataframe tbody tr th {\n",
              "        vertical-align: top;\n",
              "    }\n",
              "\n",
              "    .dataframe thead th {\n",
              "        text-align: right;\n",
              "    }\n",
              "</style>\n",
              "<table border=\"1\" class=\"dataframe\">\n",
              "  <thead>\n",
              "    <tr style=\"text-align: right;\">\n",
              "      <th></th>\n",
              "      <th>Artist</th>\n",
              "      <th>Song Name</th>\n",
              "      <th>Page Type</th>\n",
              "      <th>Difficulty</th>\n",
              "      <th>Key</th>\n",
              "      <th>Capo</th>\n",
              "      <th>Tuning</th>\n",
              "    </tr>\n",
              "  </thead>\n",
              "  <tbody>\n",
              "    <tr>\n",
              "      <th>count</th>\n",
              "      <td>850</td>\n",
              "      <td>850</td>\n",
              "      <td>850</td>\n",
              "      <td>850</td>\n",
              "      <td>850</td>\n",
              "      <td>850</td>\n",
              "      <td>850</td>\n",
              "    </tr>\n",
              "    <tr>\n",
              "      <th>unique</th>\n",
              "      <td>342</td>\n",
              "      <td>752</td>\n",
              "      <td>5</td>\n",
              "      <td>6</td>\n",
              "      <td>30</td>\n",
              "      <td>16</td>\n",
              "      <td>18</td>\n",
              "    </tr>\n",
              "    <tr>\n",
              "      <th>top</th>\n",
              "      <td>Ed Sheeran</td>\n",
              "      <td>Wonderwall</td>\n",
              "      <td>Chords</td>\n",
              "      <td>intermediate</td>\n",
              "      <td>Db</td>\n",
              "      <td>No Capo</td>\n",
              "      <td>E A D G B E</td>\n",
              "    </tr>\n",
              "    <tr>\n",
              "      <th>freq</th>\n",
              "      <td>27</td>\n",
              "      <td>4</td>\n",
              "      <td>680</td>\n",
              "      <td>510</td>\n",
              "      <td>235</td>\n",
              "      <td>549</td>\n",
              "      <td>616</td>\n",
              "    </tr>\n",
              "  </tbody>\n",
              "</table>\n",
              "</div>"
            ],
            "text/plain": [
              "            Artist    Song Name Page Type  ...  Key     Capo        Tuning\n",
              "count          850          850       850  ...  850      850           850\n",
              "unique         342          752         5  ...   30       16            18\n",
              "top     Ed Sheeran  Wonderwall     Chords  ...   Db  No Capo   E A D G B E\n",
              "freq            27            4       680  ...  235      549           616\n",
              "\n",
              "[4 rows x 7 columns]"
            ]
          },
          "metadata": {},
          "execution_count": 8
        }
      ]
    },
    {
      "cell_type": "markdown",
      "metadata": {
        "id": "2zuS4TRdRlbX"
      },
      "source": [
        "A função describe retorna \"indicadores\" diferentes para valores do tipo object. Temos a quantidade (count), inicialmente, quantos valores únicos (unique) e aqui já podemos perceber 342 artistas diferentes na base de dados. \n",
        "\n",
        "Porém, algo que chama atenção, inicialmente, é que possuem 18 valores únicos na coluna de afinação (Tuning). É possível combinar diferentes afinações, mas não é muito comum. Normalmente, é alterado para 2 ou 3 tons abaixo da afinação padrão que é (EADGBE) e esse padrão indica da 6ª à 1ª corda (de cima para baixo).\n",
        "\n",
        "Podemos observar, também, que há uma maior frequência (freq) em páginas com acordes, de dificuldade intermediaria, sem capo e de afinação padrão. Essas são características interessantes para quem é iniciante. Não temos detalhes do que é preciso para considerar o nível de dificuldade da música. Mas, ela se está como Chords (Acordes), não usar [capo](https://pt.wikipedia.org/wiki/Capo) e usar a afinação padrão já facilita e muito \"a vida\" de um iniciante.  \n",
        "\n",
        "Vamos observar mais alguns pontos:\n",
        "\n",
        "A primeira coisa que é interessante observar é relação da dificuldade com a afinação. Pois, é comum, iniciantes utilizarem a afinação padrão, procurar músicas com a afinação padrão e \"fugir\" daquelas que usam outra afinação, pois inicialmente é mais \"complicado\" de entender, é preciso ajustar uma ou mais cordas, (foi assim para o autor desta análise e muitos que iniciaram com ele) ainda que com o auxílio dos smartphones os [afinadores](https://pt.wikipedia.org/wiki/Afinador) estejam mais acessíveis.   \n",
        "\n",
        "Mas a princípio, são 3 dificuldades e a linha unique indica 6, vamos observar essa coluna e a coluna de afinação. "
      ]
    },
    {
      "cell_type": "code",
      "metadata": {
        "colab": {
          "base_uri": "https://localhost:8080/"
        },
        "id": "936-J16HkfCI",
        "outputId": "f7fa79e4-ec73-4338-8be1-24acb07e9a45"
      },
      "source": [
        "base[\"Difficulty\"].value_counts()"
      ],
      "execution_count": 9,
      "outputs": [
        {
          "output_type": "execute_result",
          "data": {
            "text/plain": [
              "intermediate    510\n",
              "novice          326\n",
              "novic             5\n",
              "advanced          5\n",
              "intermediat       3\n",
              "advance           1\n",
              "Name: Difficulty, dtype: int64"
            ]
          },
          "metadata": {},
          "execution_count": 9
        }
      ]
    },
    {
      "cell_type": "code",
      "metadata": {
        "colab": {
          "base_uri": "https://localhost:8080/"
        },
        "id": "cw5iQI_Zke3l",
        "outputId": "ecdd2c4a-42a4-4901-9b6f-d8a7af5699a6"
      },
      "source": [
        "base[\"Tuning\"].value_counts()"
      ],
      "execution_count": 10,
      "outputs": [
        {
          "output_type": "execute_result",
          "data": {
            "text/plain": [
              " E A D G B E          616\n",
              " E A D G B             95\n",
              "E A D G B E            94\n",
              " Eb Ab Db Gb Bb Eb     22\n",
              " Eb Ab Db Gb Bb E       5\n",
              " G C E A                2\n",
              " C G C F A              2\n",
              " D G C F A              2\n",
              " Db Ab Db Gb Bb E       2\n",
              " D A D G B              2\n",
              " C G C F A D            1\n",
              " C# F# B E G# C#        1\n",
              " D A D G B E            1\n",
              " E A D                  1\n",
              " A E A D F#             1\n",
              " D G C F A D            1\n",
              " E A D G                1\n",
              " Db Ab Db Gb Bb Eb      1\n",
              "Name: Tuning, dtype: int64"
            ]
          },
          "metadata": {},
          "execution_count": 10
        }
      ]
    },
    {
      "cell_type": "markdown",
      "metadata": {
        "id": "jm1FVzjknClx"
      },
      "source": [
        "A partir dessa visualização da contagem de cada valor presente nas colunas (Tuning e Difficulty) podemos observar mais alguns detalhes. \n",
        "\n",
        "Com a coluna Difficulty, os valores estão \"dobrados\" pois há erro na escrita dos 3 valores. Podemos afirmar que são apenas 3 níveis de dificuldade: Iniciante (Novice), Intermediário (Intermediate) e Avançado (Advanced).\n",
        "\n",
        "Na coluna Tuning há 18 valores. A primeira informação \"estranha\" é a mesma afinação (a afinação padrão) se repetir, a principio há um recuo (não há um espaço inicial) em uma delas. Esse espaço está presente em todas as outras.\n",
        "Além disso, há valores que apresentam 4, 5 e 6 tons na afinação, isso representa cada uma das cordas do instrumento. É comum, violão, guitarra e baixo de 6 cordas, mas não é comum, violão e guitarra de 4 ou 5 cordas. Possivelmente, esses valores apresentam afinação para baixo ou algum outro instrumento (cavaquinho, ukulele, que possuem 4 cordas), por exemplo. E há ainda um valor com apenas 3 tons, esse é o mais \"estranho\" de todos. Vamos observar com mais detalhes cada um deles e realizar uma possível correção dessas informações.  "
      ]
    },
    {
      "cell_type": "markdown",
      "metadata": {
        "id": "XaALFDM3cMT2"
      },
      "source": [
        "# 2 - **Correção de informações**"
      ]
    },
    {
      "cell_type": "code",
      "metadata": {
        "id": "EQPvZIPHlFkX",
        "colab": {
          "base_uri": "https://localhost:8080/"
        },
        "outputId": "8386684c-812d-4856-c286-ac40cd3dc724"
      },
      "source": [
        "# Vamos ajustar as informações da coluna Difficulty e corrigir as palavras com a escrita errada.\n",
        "base[\"Difficulty\"] = base[\"Difficulty\"].replace([\"novic\", \"intermediat\", \"advance\"], [\"novice\", \"intermediate\", \"advanced\"])\n",
        "base[\"Difficulty\"].value_counts()"
      ],
      "execution_count": 11,
      "outputs": [
        {
          "output_type": "execute_result",
          "data": {
            "text/plain": [
              "intermediate    513\n",
              "novice          331\n",
              "advanced          6\n",
              "Name: Difficulty, dtype: int64"
            ]
          },
          "metadata": {},
          "execution_count": 11
        }
      ]
    },
    {
      "cell_type": "code",
      "metadata": {
        "colab": {
          "base_uri": "https://localhost:8080/"
        },
        "id": "dQovxpocWBDA",
        "outputId": "9ef0ff89-80fa-44b5-e60a-8b52be72b2e9"
      },
      "source": [
        "# Vamos ajustar agora o recuo na coluna de Afinação\n",
        "base[\"Tuning\"] = base[\"Tuning\"].replace([\"E A D G B E\"], \" E A D G B E\")\n",
        "base[\"Tuning\"].value_counts()"
      ],
      "execution_count": 12,
      "outputs": [
        {
          "output_type": "execute_result",
          "data": {
            "text/plain": [
              " E A D G B E          710\n",
              " E A D G B             95\n",
              " Eb Ab Db Gb Bb Eb     22\n",
              " Eb Ab Db Gb Bb E       5\n",
              " D G C F A              2\n",
              " G C E A                2\n",
              " C G C F A              2\n",
              " Db Ab Db Gb Bb E       2\n",
              " D A D G B              2\n",
              " C G C F A D            1\n",
              " C# F# B E G# C#        1\n",
              " D A D G B E            1\n",
              " E A D                  1\n",
              " A E A D F#             1\n",
              " D G C F A D            1\n",
              " E A D G                1\n",
              " Db Ab Db Gb Bb Eb      1\n",
              "Name: Tuning, dtype: int64"
            ]
          },
          "metadata": {},
          "execution_count": 12
        }
      ]
    },
    {
      "cell_type": "markdown",
      "metadata": {
        "id": "UFvw1EjaaMXz"
      },
      "source": [
        "A substitiuição dos valores foi feita. Mas, ainda na coluna de Dificuldade, há uma informação que apresenta apenas 3 tons (E A D) vamos observar melhor essa coluna e as demais que apresentam 4 ou 5 tons, há algo que identifique que são afinações de outro instrumento? \n",
        "Vamos observar!"
      ]
    },
    {
      "cell_type": "code",
      "metadata": {
        "colab": {
          "base_uri": "https://localhost:8080/",
          "height": 49
        },
        "id": "MgK23jbIaukY",
        "outputId": "32cd1ee6-43e7-4e98-f4a9-684532922389"
      },
      "source": [
        "base[base[\"Tuning\"] == \" E A D\"]"
      ],
      "execution_count": 13,
      "outputs": [
        {
          "output_type": "execute_result",
          "data": {
            "text/html": [
              "<div>\n",
              "<style scoped>\n",
              "    .dataframe tbody tr th:only-of-type {\n",
              "        vertical-align: middle;\n",
              "    }\n",
              "\n",
              "    .dataframe tbody tr th {\n",
              "        vertical-align: top;\n",
              "    }\n",
              "\n",
              "    .dataframe thead th {\n",
              "        text-align: right;\n",
              "    }\n",
              "</style>\n",
              "<table border=\"1\" class=\"dataframe\">\n",
              "  <thead>\n",
              "    <tr style=\"text-align: right;\">\n",
              "      <th></th>\n",
              "      <th>Artist</th>\n",
              "      <th>Song Name</th>\n",
              "      <th>Song Rating</th>\n",
              "      <th>Song Hits</th>\n",
              "      <th>Page Type</th>\n",
              "      <th>Difficulty</th>\n",
              "      <th>Key</th>\n",
              "      <th>Capo</th>\n",
              "      <th>Tuning</th>\n",
              "    </tr>\n",
              "  </thead>\n",
              "  <tbody>\n",
              "  </tbody>\n",
              "</table>\n",
              "</div>"
            ],
            "text/plain": [
              "Empty DataFrame\n",
              "Columns: [Artist, Song Name, Song Rating, Song Hits, Page Type, Difficulty, Key, Capo, Tuning]\n",
              "Index: []"
            ]
          },
          "metadata": {},
          "execution_count": 13
        }
      ]
    },
    {
      "cell_type": "markdown",
      "metadata": {
        "id": "QVilmd8FttHd"
      },
      "source": [
        "Na tentativa de entender sobre as afinações de 3, 4 e 5 cordas. Foi percebido mais detalhes sobre os valores dessa coluna em si. O primeiro deles é que além de um espaço inicial, em muitos valores há um espaço no final da string. O value_counts() nessa coluna, informa que há 1 valor na afinação E A D, mas ao tentar exibir, não retornou nada. Porém, ao colocar um espaço no final: "
      ]
    },
    {
      "cell_type": "code",
      "metadata": {
        "colab": {
          "base_uri": "https://localhost:8080/",
          "height": 81
        },
        "id": "ld5XbV20trkL",
        "outputId": "6df2d58d-3615-4958-fea7-8cd2a8d02878"
      },
      "source": [
        "base[base[\"Tuning\"] == \" E A D \"]"
      ],
      "execution_count": 14,
      "outputs": [
        {
          "output_type": "execute_result",
          "data": {
            "text/html": [
              "<div>\n",
              "<style scoped>\n",
              "    .dataframe tbody tr th:only-of-type {\n",
              "        vertical-align: middle;\n",
              "    }\n",
              "\n",
              "    .dataframe tbody tr th {\n",
              "        vertical-align: top;\n",
              "    }\n",
              "\n",
              "    .dataframe thead th {\n",
              "        text-align: right;\n",
              "    }\n",
              "</style>\n",
              "<table border=\"1\" class=\"dataframe\">\n",
              "  <thead>\n",
              "    <tr style=\"text-align: right;\">\n",
              "      <th></th>\n",
              "      <th>Artist</th>\n",
              "      <th>Song Name</th>\n",
              "      <th>Song Rating</th>\n",
              "      <th>Song Hits</th>\n",
              "      <th>Page Type</th>\n",
              "      <th>Difficulty</th>\n",
              "      <th>Key</th>\n",
              "      <th>Capo</th>\n",
              "      <th>Tuning</th>\n",
              "    </tr>\n",
              "  </thead>\n",
              "  <tbody>\n",
              "    <tr>\n",
              "      <th>810</th>\n",
              "      <td>ZZ Top</td>\n",
              "      <td>Sharp Dressed Man</td>\n",
              "      <td>49</td>\n",
              "      <td>1439592</td>\n",
              "      <td>Bass</td>\n",
              "      <td>intermediate</td>\n",
              "      <td>Db</td>\n",
              "      <td>No Capo</td>\n",
              "      <td>E A D</td>\n",
              "    </tr>\n",
              "  </tbody>\n",
              "</table>\n",
              "</div>"
            ],
            "text/plain": [
              "     Artist          Song Name  Song Rating  ...  Key     Capo   Tuning\n",
              "810  ZZ Top  Sharp Dressed Man           49  ...   Db  No Capo   E A D \n",
              "\n",
              "[1 rows x 9 columns]"
            ]
          },
          "metadata": {},
          "execution_count": 14
        }
      ]
    },
    {
      "cell_type": "markdown",
      "metadata": {
        "id": "FV5L8VnfuhEO"
      },
      "source": [
        "Retornou o valor que indicava no value_counts() e, é perceptivel também que, muito provavelmente, está faltando uma nota (ou corda) nessa afinação, pois, o Page Type apresenta Bass (Baixo) e não há baixo com 3 cordas. Dessa forma, poderiamos eliminar essa linha, sem muito prejuízo, não é uma música muito avaliada (Song Rating) mas ainda assim possui muitas visualizações (Song Hits). Porém, vamos observar os dados para Page Type com o valor Bass e tentar corrigir a informação. "
      ]
    },
    {
      "cell_type": "code",
      "metadata": {
        "id": "XmtXuTpDKOrL"
      },
      "source": [
        "#base.drop([810], axis=0, inplace=True) se fossemos eliminar a linha apresentada acima"
      ],
      "execution_count": 15,
      "outputs": []
    },
    {
      "cell_type": "code",
      "metadata": {
        "colab": {
          "base_uri": "https://localhost:8080/"
        },
        "id": "erZdI-PQBQHb",
        "outputId": "c957943b-e3bf-4d98-ce42-30819aecbb73"
      },
      "source": [
        "base[base[\"Page Type\"] == \"Bass\"].value_counts()"
      ],
      "execution_count": 16,
      "outputs": [
        {
          "output_type": "execute_result",
          "data": {
            "text/plain": [
              "Artist        Song Name                Song Rating  Song Hits  Page Type  Difficulty    Key  Capo     Tuning      \n",
              "ZZ Top        Tush                     29           1416815    Bass       intermediate  Db   No Capo   E A D G B E    1\n",
              "              Sharp Dressed Man        49           1439592    Bass       intermediate  Db   No Capo   E A D          1\n",
              "              La Grange                54           1454374    Bass       intermediate  Db   No Capo   E A D G B E    1\n",
              "              Gimme All Your Lovin     28           1416394    Bass       intermediate  Db   No Capo   E A D G B E    1\n",
              "Young MC      Bust A Move              29           1418099    Bass       intermediate  Db   No Capo   E A D G B E    1\n",
              "Yes           Roundabout               59           1641919    Bass       intermediate  Db   No Capo   E A D G B E    1\n",
              "              Long Distance Runaround  17           1405613    Bass       intermediate  Db   No Capo   E A D G B E    1\n",
              "Neil Young    Heart Of Gold            31           1412704    Bass       intermediate  Db   No Capo   E A D G B E    1\n",
              "Muse          Hysteria                 685          1823282    Bass       advanced       Am  No Capo   E A D G        1\n",
              "Bill Withers  Lean On Me               78           1419838    Bass       intermediate  Db   No Capo   E A D G B E    1\n",
              "dtype: int64"
            ]
          },
          "metadata": {},
          "execution_count": 16
        }
      ]
    },
    {
      "cell_type": "markdown",
      "metadata": {
        "id": "JAG8WPRDBsLk"
      },
      "source": [
        "Ao observar as demais colunas para Baixo. Identificamos que a coluna Tuning aparesenta a afinação padrão, e ainda, que as demais músicas desse artista apresentam afinação com 6 cordas. Baseado nessas informações, podemos corrigir E A D para E A D G B E, considerando que as demais músicas do artista utilizam essa afinação em um Baixo. "
      ]
    },
    {
      "cell_type": "code",
      "metadata": {
        "id": "KJCmkXmlBrfV"
      },
      "source": [
        "base[\"Tuning\"] = base[\"Tuning\"].replace([\" E A D \"],\" E A D G B E\")"
      ],
      "execution_count": 17,
      "outputs": []
    },
    {
      "cell_type": "code",
      "metadata": {
        "colab": {
          "base_uri": "https://localhost:8080/"
        },
        "id": "7Ag60zbWFsfM",
        "outputId": "e93270c8-c7fe-443f-969e-8a49257e0cdc"
      },
      "source": [
        "base[base[\"Page Type\"] == \"Bass\"].value_counts()"
      ],
      "execution_count": 18,
      "outputs": [
        {
          "output_type": "execute_result",
          "data": {
            "text/plain": [
              "Artist        Song Name                Song Rating  Song Hits  Page Type  Difficulty    Key  Capo     Tuning      \n",
              "ZZ Top        Tush                     29           1416815    Bass       intermediate  Db   No Capo   E A D G B E    1\n",
              "              Sharp Dressed Man        49           1439592    Bass       intermediate  Db   No Capo   E A D G B E    1\n",
              "              La Grange                54           1454374    Bass       intermediate  Db   No Capo   E A D G B E    1\n",
              "              Gimme All Your Lovin     28           1416394    Bass       intermediate  Db   No Capo   E A D G B E    1\n",
              "Young MC      Bust A Move              29           1418099    Bass       intermediate  Db   No Capo   E A D G B E    1\n",
              "Yes           Roundabout               59           1641919    Bass       intermediate  Db   No Capo   E A D G B E    1\n",
              "              Long Distance Runaround  17           1405613    Bass       intermediate  Db   No Capo   E A D G B E    1\n",
              "Neil Young    Heart Of Gold            31           1412704    Bass       intermediate  Db   No Capo   E A D G B E    1\n",
              "Muse          Hysteria                 685          1823282    Bass       advanced       Am  No Capo   E A D G        1\n",
              "Bill Withers  Lean On Me               78           1419838    Bass       intermediate  Db   No Capo   E A D G B E    1\n",
              "dtype: int64"
            ]
          },
          "metadata": {},
          "execution_count": 18
        }
      ]
    },
    {
      "cell_type": "code",
      "metadata": {
        "id": "veaqyr0CvSuV"
      },
      "source": [
        "#Remover o espaço nas informações coluna Tuning é interessante para que possamos construir as \"querrys\" e não se perder com os erros ou resultados vazios.\n",
        "base[\"Tuning\"] = base[\"Tuning\"].str.lstrip()"
      ],
      "execution_count": 19,
      "outputs": []
    },
    {
      "cell_type": "markdown",
      "metadata": {
        "id": "1Q4kBHQlgDVN"
      },
      "source": [
        "Após essas correções nas colunas acima, é interessante verificar se há o mesmo tipo de \"erro\" nas demais colunas. Vamos observar: "
      ]
    },
    {
      "cell_type": "code",
      "metadata": {
        "colab": {
          "base_uri": "https://localhost:8080/"
        },
        "id": "YGlqJDzcgPro",
        "outputId": "9d5aed39-c3f7-47c2-a553-5ad0f6904aa1"
      },
      "source": [
        "base[\"Key\"].value_counts()"
      ],
      "execution_count": 20,
      "outputs": [
        {
          "output_type": "execute_result",
          "data": {
            "text/plain": [
              "Db      235\n",
              " C       95\n",
              " G       86\n",
              " D       58\n",
              " Em      48\n",
              " Am      48\n",
              " A       41\n",
              " F       35\n",
              " E       26\n",
              " Bm      23\n",
              " Dm      17\n",
              " B       16\n",
              " F#m     14\n",
              " Eb      13\n",
              " Cm      12\n",
              " Bb      11\n",
              " Ab      10\n",
              " Db      10\n",
              " Bbm      9\n",
              " Ebm      8\n",
              " Gm       8\n",
              " C#m      7\n",
              " Fm       6\n",
              " F#       4\n",
              " Gb       3\n",
              " Abm      2\n",
              " C#       2\n",
              " A#m      1\n",
              " G#m      1\n",
              " D#m      1\n",
              "Name: Key, dtype: int64"
            ]
          },
          "metadata": {},
          "execution_count": 20
        }
      ]
    },
    {
      "cell_type": "code",
      "metadata": {
        "colab": {
          "base_uri": "https://localhost:8080/",
          "height": 49
        },
        "id": "JBc76Bg8giWA",
        "outputId": "7c63b3cc-688c-446c-e985-e6b6c13e30b3"
      },
      "source": [
        "base[base[\"Key\"] == \"C\"]"
      ],
      "execution_count": 21,
      "outputs": [
        {
          "output_type": "execute_result",
          "data": {
            "text/html": [
              "<div>\n",
              "<style scoped>\n",
              "    .dataframe tbody tr th:only-of-type {\n",
              "        vertical-align: middle;\n",
              "    }\n",
              "\n",
              "    .dataframe tbody tr th {\n",
              "        vertical-align: top;\n",
              "    }\n",
              "\n",
              "    .dataframe thead th {\n",
              "        text-align: right;\n",
              "    }\n",
              "</style>\n",
              "<table border=\"1\" class=\"dataframe\">\n",
              "  <thead>\n",
              "    <tr style=\"text-align: right;\">\n",
              "      <th></th>\n",
              "      <th>Artist</th>\n",
              "      <th>Song Name</th>\n",
              "      <th>Song Rating</th>\n",
              "      <th>Song Hits</th>\n",
              "      <th>Page Type</th>\n",
              "      <th>Difficulty</th>\n",
              "      <th>Key</th>\n",
              "      <th>Capo</th>\n",
              "      <th>Tuning</th>\n",
              "    </tr>\n",
              "  </thead>\n",
              "  <tbody>\n",
              "  </tbody>\n",
              "</table>\n",
              "</div>"
            ],
            "text/plain": [
              "Empty DataFrame\n",
              "Columns: [Artist, Song Name, Song Rating, Song Hits, Page Type, Difficulty, Key, Capo, Tuning]\n",
              "Index: []"
            ]
          },
          "metadata": {},
          "execution_count": 21
        }
      ]
    },
    {
      "cell_type": "markdown",
      "metadata": {
        "id": "7B4e17Tigo7S"
      },
      "source": [
        "Podemos observar que na coluna Key, que corresponde ao Tom da música, há também um espaço inicial. Ao tentar buscar os registros com o tom de Dó \"C\" não tivemos retorno nenhum, mas o value_counts() identifica 95 valores correspondentes."
      ]
    },
    {
      "cell_type": "code",
      "metadata": {
        "colab": {
          "base_uri": "https://localhost:8080/",
          "height": 422
        },
        "id": "LSeRhHPhgooK",
        "outputId": "c97f4332-e336-4f06-e75b-64fbadc50217"
      },
      "source": [
        "base[base[\"Key\"] == \" C\"]"
      ],
      "execution_count": 22,
      "outputs": [
        {
          "output_type": "execute_result",
          "data": {
            "text/html": [
              "<div>\n",
              "<style scoped>\n",
              "    .dataframe tbody tr th:only-of-type {\n",
              "        vertical-align: middle;\n",
              "    }\n",
              "\n",
              "    .dataframe tbody tr th {\n",
              "        vertical-align: top;\n",
              "    }\n",
              "\n",
              "    .dataframe thead th {\n",
              "        text-align: right;\n",
              "    }\n",
              "</style>\n",
              "<table border=\"1\" class=\"dataframe\">\n",
              "  <thead>\n",
              "    <tr style=\"text-align: right;\">\n",
              "      <th></th>\n",
              "      <th>Artist</th>\n",
              "      <th>Song Name</th>\n",
              "      <th>Song Rating</th>\n",
              "      <th>Song Hits</th>\n",
              "      <th>Page Type</th>\n",
              "      <th>Difficulty</th>\n",
              "      <th>Key</th>\n",
              "      <th>Capo</th>\n",
              "      <th>Tuning</th>\n",
              "    </tr>\n",
              "  </thead>\n",
              "  <tbody>\n",
              "    <tr>\n",
              "      <th>6</th>\n",
              "      <td>Elvis Presley</td>\n",
              "      <td>Cant Help Falling In Love</td>\n",
              "      <td>19747</td>\n",
              "      <td>19857493</td>\n",
              "      <td>Chords</td>\n",
              "      <td>intermediate</td>\n",
              "      <td>C</td>\n",
              "      <td>2nd fret</td>\n",
              "      <td>E A D G B E</td>\n",
              "    </tr>\n",
              "    <tr>\n",
              "      <th>11</th>\n",
              "      <td>Bruno Mars</td>\n",
              "      <td>When I Was Your Man</td>\n",
              "      <td>14428</td>\n",
              "      <td>14687286</td>\n",
              "      <td>Chords</td>\n",
              "      <td>novice</td>\n",
              "      <td>C</td>\n",
              "      <td>No Capo</td>\n",
              "      <td>E A D G B E</td>\n",
              "    </tr>\n",
              "    <tr>\n",
              "      <th>19</th>\n",
              "      <td>Oasis</td>\n",
              "      <td>Dont Look Back In Anger</td>\n",
              "      <td>11981</td>\n",
              "      <td>12942507</td>\n",
              "      <td>Chords</td>\n",
              "      <td>novice</td>\n",
              "      <td>C</td>\n",
              "      <td>No Capo</td>\n",
              "      <td>E A D G B E</td>\n",
              "    </tr>\n",
              "    <tr>\n",
              "      <th>20</th>\n",
              "      <td>Train</td>\n",
              "      <td>Hey Soul Sister</td>\n",
              "      <td>6896</td>\n",
              "      <td>11729033</td>\n",
              "      <td>Chords</td>\n",
              "      <td>novice</td>\n",
              "      <td>C</td>\n",
              "      <td>4th fret</td>\n",
              "      <td>E A D G B E</td>\n",
              "    </tr>\n",
              "    <tr>\n",
              "      <th>24</th>\n",
              "      <td>Taylor Swift</td>\n",
              "      <td>Love Story</td>\n",
              "      <td>5966</td>\n",
              "      <td>11073935</td>\n",
              "      <td>Chords</td>\n",
              "      <td>novice</td>\n",
              "      <td>C</td>\n",
              "      <td>2nd fret</td>\n",
              "      <td>E A D G B E</td>\n",
              "    </tr>\n",
              "    <tr>\n",
              "      <th>...</th>\n",
              "      <td>...</td>\n",
              "      <td>...</td>\n",
              "      <td>...</td>\n",
              "      <td>...</td>\n",
              "      <td>...</td>\n",
              "      <td>...</td>\n",
              "      <td>...</td>\n",
              "      <td>...</td>\n",
              "      <td>...</td>\n",
              "    </tr>\n",
              "    <tr>\n",
              "      <th>685</th>\n",
              "      <td>Demi Lovato</td>\n",
              "      <td>Stone Cold</td>\n",
              "      <td>1746</td>\n",
              "      <td>1632764</td>\n",
              "      <td>Chords</td>\n",
              "      <td>intermediate</td>\n",
              "      <td>C</td>\n",
              "      <td>1st fret</td>\n",
              "      <td>E A D G B E</td>\n",
              "    </tr>\n",
              "    <tr>\n",
              "      <th>707</th>\n",
              "      <td>Ed Sheeran</td>\n",
              "      <td>Dive</td>\n",
              "      <td>702</td>\n",
              "      <td>1594205</td>\n",
              "      <td>Chords</td>\n",
              "      <td>novice</td>\n",
              "      <td>C</td>\n",
              "      <td>4th fret</td>\n",
              "      <td>E A D G B E</td>\n",
              "    </tr>\n",
              "    <tr>\n",
              "      <th>766</th>\n",
              "      <td>Westlife</td>\n",
              "      <td>More Than Words</td>\n",
              "      <td>193</td>\n",
              "      <td>1503488</td>\n",
              "      <td>Chords</td>\n",
              "      <td>novice</td>\n",
              "      <td>C</td>\n",
              "      <td>No Capo</td>\n",
              "      <td>Eb Ab Db Gb Bb Eb</td>\n",
              "    </tr>\n",
              "    <tr>\n",
              "      <th>776</th>\n",
              "      <td>near (Indonesia)</td>\n",
              "      <td>Karna Su Sayang</td>\n",
              "      <td>144</td>\n",
              "      <td>1487052</td>\n",
              "      <td>Chords</td>\n",
              "      <td>intermediate</td>\n",
              "      <td>C</td>\n",
              "      <td>No Capo</td>\n",
              "      <td>E A D G B E</td>\n",
              "    </tr>\n",
              "    <tr>\n",
              "      <th>786</th>\n",
              "      <td>Soul Asylum</td>\n",
              "      <td>Runaway Train</td>\n",
              "      <td>2129</td>\n",
              "      <td>1468028</td>\n",
              "      <td>Chords</td>\n",
              "      <td>intermediate</td>\n",
              "      <td>C</td>\n",
              "      <td>No Capo</td>\n",
              "      <td>E A D G B E</td>\n",
              "    </tr>\n",
              "  </tbody>\n",
              "</table>\n",
              "<p>95 rows × 9 columns</p>\n",
              "</div>"
            ],
            "text/plain": [
              "               Artist                  Song Name  ...       Capo             Tuning\n",
              "6       Elvis Presley  Cant Help Falling In Love  ...   2nd fret        E A D G B E\n",
              "11         Bruno Mars        When I Was Your Man  ...    No Capo        E A D G B E\n",
              "19              Oasis    Dont Look Back In Anger  ...    No Capo        E A D G B E\n",
              "20              Train           Hey Soul Sister   ...   4th fret        E A D G B E\n",
              "24       Taylor Swift                 Love Story  ...   2nd fret        E A D G B E\n",
              "..                ...                        ...  ...        ...                ...\n",
              "685       Demi Lovato                 Stone Cold  ...   1st fret        E A D G B E\n",
              "707        Ed Sheeran                      Dive   ...   4th fret        E A D G B E\n",
              "766          Westlife            More Than Words  ...    No Capo  Eb Ab Db Gb Bb Eb\n",
              "776  near (Indonesia)            Karna Su Sayang  ...    No Capo        E A D G B E\n",
              "786       Soul Asylum              Runaway Train  ...    No Capo        E A D G B E\n",
              "\n",
              "[95 rows x 9 columns]"
            ]
          },
          "metadata": {},
          "execution_count": 22
        }
      ]
    },
    {
      "cell_type": "code",
      "metadata": {
        "colab": {
          "base_uri": "https://localhost:8080/"
        },
        "id": "nYuyLonyga6J",
        "outputId": "58d5c028-1910-4b5c-a973-9edf51a4dcb4"
      },
      "source": [
        "base[\"Capo\"].value_counts()"
      ],
      "execution_count": 23,
      "outputs": [
        {
          "output_type": "execute_result",
          "data": {
            "text/plain": [
              "No Capo      549\n",
              " 1st fret     57\n",
              " 2nd fret     57\n",
              " 3rd fret     50\n",
              " 4th fret     33\n",
              " 3rd fre      17\n",
              " 5th fret     17\n",
              " 4th fre      16\n",
              " 2nd fre      13\n",
              " 1st fre      12\n",
              " 6th fret      9\n",
              " 7th fret      6\n",
              " 5th fre       5\n",
              " 7th fre       5\n",
              " 6th fre       2\n",
              " 8th fret      2\n",
              "Name: Capo, dtype: int64"
            ]
          },
          "metadata": {},
          "execution_count": 23
        }
      ]
    },
    {
      "cell_type": "code",
      "metadata": {
        "colab": {
          "base_uri": "https://localhost:8080/",
          "height": 49
        },
        "id": "j-QtYRxrhbp3",
        "outputId": "f4683704-967a-497c-8502-108b43c23dc8"
      },
      "source": [
        "base[base[\"Capo\"] == \"1st fret\"]\n"
      ],
      "execution_count": 24,
      "outputs": [
        {
          "output_type": "execute_result",
          "data": {
            "text/html": [
              "<div>\n",
              "<style scoped>\n",
              "    .dataframe tbody tr th:only-of-type {\n",
              "        vertical-align: middle;\n",
              "    }\n",
              "\n",
              "    .dataframe tbody tr th {\n",
              "        vertical-align: top;\n",
              "    }\n",
              "\n",
              "    .dataframe thead th {\n",
              "        text-align: right;\n",
              "    }\n",
              "</style>\n",
              "<table border=\"1\" class=\"dataframe\">\n",
              "  <thead>\n",
              "    <tr style=\"text-align: right;\">\n",
              "      <th></th>\n",
              "      <th>Artist</th>\n",
              "      <th>Song Name</th>\n",
              "      <th>Song Rating</th>\n",
              "      <th>Song Hits</th>\n",
              "      <th>Page Type</th>\n",
              "      <th>Difficulty</th>\n",
              "      <th>Key</th>\n",
              "      <th>Capo</th>\n",
              "      <th>Tuning</th>\n",
              "    </tr>\n",
              "  </thead>\n",
              "  <tbody>\n",
              "  </tbody>\n",
              "</table>\n",
              "</div>"
            ],
            "text/plain": [
              "Empty DataFrame\n",
              "Columns: [Artist, Song Name, Song Rating, Song Hits, Page Type, Difficulty, Key, Capo, Tuning]\n",
              "Index: []"
            ]
          },
          "metadata": {},
          "execution_count": 24
        }
      ]
    },
    {
      "cell_type": "markdown",
      "metadata": {
        "id": "n5c1n0B7hmsJ"
      },
      "source": [
        "O mesmo acontece com a coluna Capo, esta coluna indica se para tocar é preciso usar o capotraste e em qual posição (qual traste) deve ser colocado. Esse é uma informação importante. De início, é mais fácil aprender a tocar sem se preocupar em adquirir um capo e/ou entender o seu funcionamento. \n",
        "\n",
        "É preciso ter uma bom conhecimento do instrumento, tom e formação de acordes. Ainda que a cifra indique o acorde de Sol \"G\", por exemplo, é apenas o formato do acorde, mas não irá soar como o Sol da afinação padrão e assim é preciso \"posicionar\" a voz no tom. \n",
        "\n",
        "E ainda, podemos perceber que há palavras com a escrita errada. Faltando a última letra. Vamos realizar essa correção também. "
      ]
    },
    {
      "cell_type": "code",
      "metadata": {
        "id": "AyH0ivAohmA5"
      },
      "source": [
        "base[\"Key\"] = base[\"Key\"].str.lstrip()\n",
        "base[\"Capo\"] = base[\"Capo\"].str.lstrip()"
      ],
      "execution_count": 25,
      "outputs": []
    },
    {
      "cell_type": "code",
      "metadata": {
        "id": "UTYrldaBkS6Q"
      },
      "source": [
        "base[\"Capo\"] = base[\"Capo\"].replace([\"3rd fre\", \"4th fre\", \"2nd fre\",\"1st fre\", \"5th fre\", \"7th fre\", \"6th fre\"], [\"3rd fret\", \"4th fret\", \"2nd fret\",\"1st fret\", \"5th fret\", \"7th fret\", \"6th fret\"])"
      ],
      "execution_count": 26,
      "outputs": []
    },
    {
      "cell_type": "code",
      "metadata": {
        "colab": {
          "base_uri": "https://localhost:8080/"
        },
        "id": "1T9KKi9YlgWC",
        "outputId": "ad8883d3-12f3-4a55-b99d-2f0d8f860291"
      },
      "source": [
        "base[\"Capo\"].value_counts()"
      ],
      "execution_count": 27,
      "outputs": [
        {
          "output_type": "execute_result",
          "data": {
            "text/plain": [
              "No Capo     549\n",
              "2nd fret     70\n",
              "1st fret     69\n",
              "3rd fret     67\n",
              "4th fret     49\n",
              "5th fret     22\n",
              "6th fret     11\n",
              "7th fret     11\n",
              "8th fret      2\n",
              "Name: Capo, dtype: int64"
            ]
          },
          "metadata": {},
          "execution_count": 27
        }
      ]
    },
    {
      "cell_type": "code",
      "metadata": {
        "colab": {
          "base_uri": "https://localhost:8080/",
          "height": 112
        },
        "id": "GAUE0sw0llEM",
        "outputId": "0a4c0dee-a385-40b4-8d59-f09f51c4d262"
      },
      "source": [
        "base[base[\"Capo\"] == \"8th fret\"]"
      ],
      "execution_count": 28,
      "outputs": [
        {
          "output_type": "execute_result",
          "data": {
            "text/html": [
              "<div>\n",
              "<style scoped>\n",
              "    .dataframe tbody tr th:only-of-type {\n",
              "        vertical-align: middle;\n",
              "    }\n",
              "\n",
              "    .dataframe tbody tr th {\n",
              "        vertical-align: top;\n",
              "    }\n",
              "\n",
              "    .dataframe thead th {\n",
              "        text-align: right;\n",
              "    }\n",
              "</style>\n",
              "<table border=\"1\" class=\"dataframe\">\n",
              "  <thead>\n",
              "    <tr style=\"text-align: right;\">\n",
              "      <th></th>\n",
              "      <th>Artist</th>\n",
              "      <th>Song Name</th>\n",
              "      <th>Song Rating</th>\n",
              "      <th>Song Hits</th>\n",
              "      <th>Page Type</th>\n",
              "      <th>Difficulty</th>\n",
              "      <th>Key</th>\n",
              "      <th>Capo</th>\n",
              "      <th>Tuning</th>\n",
              "    </tr>\n",
              "  </thead>\n",
              "  <tbody>\n",
              "    <tr>\n",
              "      <th>69</th>\n",
              "      <td>James Blunt</td>\n",
              "      <td>Youre Beautiful</td>\n",
              "      <td>2970</td>\n",
              "      <td>6777892</td>\n",
              "      <td>Chords</td>\n",
              "      <td>novice</td>\n",
              "      <td>G</td>\n",
              "      <td>8th fret</td>\n",
              "      <td>E A D G B E</td>\n",
              "    </tr>\n",
              "    <tr>\n",
              "      <th>454</th>\n",
              "      <td>Tom Petty</td>\n",
              "      <td>Free Fallin</td>\n",
              "      <td>663</td>\n",
              "      <td>2190327</td>\n",
              "      <td>Chords</td>\n",
              "      <td>novice</td>\n",
              "      <td>F</td>\n",
              "      <td>8th fret</td>\n",
              "      <td>E A D G B E</td>\n",
              "    </tr>\n",
              "  </tbody>\n",
              "</table>\n",
              "</div>"
            ],
            "text/plain": [
              "          Artist         Song Name  Song Rating  ...  Key      Capo       Tuning\n",
              "69   James Blunt  Youre Beautiful          2970  ...    G  8th fret  E A D G B E\n",
              "454    Tom Petty       Free Fallin          663  ...    F  8th fret  E A D G B E\n",
              "\n",
              "[2 rows x 9 columns]"
            ]
          },
          "metadata": {},
          "execution_count": 28
        }
      ]
    },
    {
      "cell_type": "markdown",
      "metadata": {
        "id": "-eh87P0j9tL4"
      },
      "source": [
        "Até aqui, aparentemente, não há mais nenhuma coluna que precise de correção, ou pelo menos alguma organização mínima. Vamos observar um pouco mais as informações que temos e investigar algumas possíveis relações. "
      ]
    },
    {
      "cell_type": "markdown",
      "metadata": {
        "id": "TYHEcLmi-DCD"
      },
      "source": [
        "# 3 - **Visualizando as informações**"
      ]
    },
    {
      "cell_type": "markdown",
      "metadata": {
        "id": "5LxJD3zFOiiR"
      },
      "source": [
        "Vamos agora plotar alguns gráficos para continuarmos a análise de forma mais visual e inferir algo das informações. Como observado anteriormente, a maior parte das músicas, usam a afinação padrão. \n",
        "\n",
        "Quais as características mais comuns para as músicas serem consideradas, iniciantes, intermediária ou avançadas?\n",
        "\n",
        "Há uma correlação positiva entre o número de acessos e a quantidade de votos 5 que uma música recebeu, aparentemente. Vamos observar. "
      ]
    },
    {
      "cell_type": "markdown",
      "metadata": {
        "id": "FiuqUVCn4O0g"
      },
      "source": [
        "# 3.1 **Verificando a correlação entre as colunas Song Rating e Song Hits.**\n",
        "\n",
        "\n",
        "\n"
      ]
    },
    {
      "cell_type": "code",
      "metadata": {
        "colab": {
          "base_uri": "https://localhost:8080/",
          "height": 308
        },
        "id": "LY4d2MOoGS-3",
        "outputId": "d7024d26-1335-43a0-a7a1-1836463418d3"
      },
      "source": [
        "sns.scatterplot(data=base, x=\"Song Rating\", y=\"Song Hits\")"
      ],
      "execution_count": 29,
      "outputs": [
        {
          "output_type": "execute_result",
          "data": {
            "text/plain": [
              "<matplotlib.axes._subplots.AxesSubplot at 0x7f425df29fd0>"
            ]
          },
          "metadata": {},
          "execution_count": 29
        },
        {
          "output_type": "display_data",
          "data": {
            "image/png": "[encoded data removed]",
            "text/plain": [
              "<Figure size 432x288 with 1 Axes>"
            ]
          },
          "metadata": {
            "needs_background": "light"
          }
        }
      ]
    },
    {
      "cell_type": "code",
      "metadata": {
        "colab": {
          "base_uri": "https://localhost:8080/",
          "height": 112
        },
        "id": "pVJ6v5X83cLa",
        "outputId": "a11ad1eb-1d8a-4e0f-a840-06003ad71d94"
      },
      "source": [
        "base.corr(method=\"spearman\")"
      ],
      "execution_count": 30,
      "outputs": [
        {
          "output_type": "execute_result",
          "data": {
            "text/html": [
              "<div>\n",
              "<style scoped>\n",
              "    .dataframe tbody tr th:only-of-type {\n",
              "        vertical-align: middle;\n",
              "    }\n",
              "\n",
              "    .dataframe tbody tr th {\n",
              "        vertical-align: top;\n",
              "    }\n",
              "\n",
              "    .dataframe thead th {\n",
              "        text-align: right;\n",
              "    }\n",
              "</style>\n",
              "<table border=\"1\" class=\"dataframe\">\n",
              "  <thead>\n",
              "    <tr style=\"text-align: right;\">\n",
              "      <th></th>\n",
              "      <th>Song Rating</th>\n",
              "      <th>Song Hits</th>\n",
              "    </tr>\n",
              "  </thead>\n",
              "  <tbody>\n",
              "    <tr>\n",
              "      <th>Song Rating</th>\n",
              "      <td>1.000000</td>\n",
              "      <td>0.584442</td>\n",
              "    </tr>\n",
              "    <tr>\n",
              "      <th>Song Hits</th>\n",
              "      <td>0.584442</td>\n",
              "      <td>1.000000</td>\n",
              "    </tr>\n",
              "  </tbody>\n",
              "</table>\n",
              "</div>"
            ],
            "text/plain": [
              "             Song Rating  Song Hits\n",
              "Song Rating     1.000000   0.584442\n",
              "Song Hits       0.584442   1.000000"
            ]
          },
          "metadata": {},
          "execution_count": 30
        }
      ]
    },
    {
      "cell_type": "code",
      "metadata": {
        "colab": {
          "base_uri": "https://localhost:8080/",
          "height": 287
        },
        "id": "JpjxmNfs6zyh",
        "outputId": "2a48670c-2d55-46af-e5d0-8ae02af769b0"
      },
      "source": [
        "sns.heatmap(base.corr(method=\"spearman\"), annot=True, vmin=-1, vmax=1,cmap='coolwarm')"
      ],
      "execution_count": 31,
      "outputs": [
        {
          "output_type": "execute_result",
          "data": {
            "text/plain": [
              "<matplotlib.axes._subplots.AxesSubplot at 0x7f425dacc790>"
            ]
          },
          "metadata": {},
          "execution_count": 31
        },
        {
          "output_type": "display_data",
          "data": {
            "image/png": "[encoded data removed]",
            "text/plain": [
              "<Figure size 432x288 with 2 Axes>"
            ]
          },
          "metadata": {
            "needs_background": "light"
          }
        }
      ]
    },
    {
      "cell_type": "code",
      "metadata": {
        "colab": {
          "base_uri": "https://localhost:8080/",
          "height": 112
        },
        "id": "X6MVPWLsT7fQ",
        "outputId": "6eae7846-9d73-4064-83bb-f21e8d69c212"
      },
      "source": [
        "base.corr() #metodo de pearson (padrão da função)"
      ],
      "execution_count": 32,
      "outputs": [
        {
          "output_type": "execute_result",
          "data": {
            "text/html": [
              "<div>\n",
              "<style scoped>\n",
              "    .dataframe tbody tr th:only-of-type {\n",
              "        vertical-align: middle;\n",
              "    }\n",
              "\n",
              "    .dataframe tbody tr th {\n",
              "        vertical-align: top;\n",
              "    }\n",
              "\n",
              "    .dataframe thead th {\n",
              "        text-align: right;\n",
              "    }\n",
              "</style>\n",
              "<table border=\"1\" class=\"dataframe\">\n",
              "  <thead>\n",
              "    <tr style=\"text-align: right;\">\n",
              "      <th></th>\n",
              "      <th>Song Rating</th>\n",
              "      <th>Song Hits</th>\n",
              "    </tr>\n",
              "  </thead>\n",
              "  <tbody>\n",
              "    <tr>\n",
              "      <th>Song Rating</th>\n",
              "      <td>1.00000</td>\n",
              "      <td>0.77382</td>\n",
              "    </tr>\n",
              "    <tr>\n",
              "      <th>Song Hits</th>\n",
              "      <td>0.77382</td>\n",
              "      <td>1.00000</td>\n",
              "    </tr>\n",
              "  </tbody>\n",
              "</table>\n",
              "</div>"
            ],
            "text/plain": [
              "             Song Rating  Song Hits\n",
              "Song Rating      1.00000    0.77382\n",
              "Song Hits        0.77382    1.00000"
            ]
          },
          "metadata": {},
          "execution_count": 32
        }
      ]
    },
    {
      "cell_type": "code",
      "metadata": {
        "colab": {
          "base_uri": "https://localhost:8080/",
          "height": 287
        },
        "id": "EDSdMzdPT7NP",
        "outputId": "c46d1c80-51de-4980-e04c-44e8dcd79d0b"
      },
      "source": [
        "sns.heatmap(base.corr(), annot=True, vmin=-1, vmax=1,cmap='coolwarm')"
      ],
      "execution_count": 33,
      "outputs": [
        {
          "output_type": "execute_result",
          "data": {
            "text/plain": [
              "<matplotlib.axes._subplots.AxesSubplot at 0x7f425dae11d0>"
            ]
          },
          "metadata": {},
          "execution_count": 33
        },
        {
          "output_type": "display_data",
          "data": {
            "image/png": "[encoded data removed]",
            "text/plain": [
              "<Figure size 432x288 with 2 Axes>"
            ]
          },
          "metadata": {
            "needs_background": "light"
          }
        }
      ]
    },
    {
      "cell_type": "markdown",
      "metadata": {
        "id": "uGDjgTIEFHPM"
      },
      "source": [
        "Podemos observar que há uma correlação positiva entre as duas váriaveis. O heatmap nos dá uma boa visualiazação dessa correlação. A correlação de Speaman aponta uma correlação positiva não tão forte quanto a de Pearson.  Podemos entender que uma música com muitas visualizações não necessariamente é bem avaliada. \n",
        "\n",
        "No caso desse dataset é mais interessante observar a correlação de Spearman, pois os dados estão de certa forma ordenados. \n",
        "Já a correlação de Pearson avalia a relação linear entre variáveis contínuas e não podemos ver isso no caso desse dataset. "
      ]
    },
    {
      "cell_type": "markdown",
      "metadata": {
        "id": "cabQaLUEGPYx"
      },
      "source": [
        " # 3.2 **Discretização e Normalização**"
      ]
    },
    {
      "cell_type": "markdown",
      "metadata": {
        "id": "ketCAY1ztFg2"
      },
      "source": [
        "Vamos agora realizar discretização das colunas númericas e a normalização usando Min-Max. Essas são tarefas importantes no pré-processamento de dados, para que assim possamos agrupar e \"escalar\" os dados para serem trabalhados posteriormente. "
      ]
    },
    {
      "cell_type": "markdown",
      "metadata": {
        "id": "WwUWNPnX6Y4e"
      },
      "source": [
        "- **Discretização**"
      ]
    },
    {
      "cell_type": "code",
      "metadata": {
        "colab": {
          "base_uri": "https://localhost:8080/",
          "height": 205
        },
        "id": "PABHvo0LAWAG",
        "outputId": "83d20f45-badd-47ad-b6d0-9a60426c4d38"
      },
      "source": [
        "song_rating_disct_larg = pd.cut(base['Song Rating'], 4) #cut função para discretização pela largura \n",
        "base['song_r_disct_larg'] = song_rating_disct_larg\n",
        "song_rating_disct_freq = pd.qcut(base['Song Rating'], 4) #qcut função para discretização pela frequência\n",
        "base['song_r_disct_freq'] = song_rating_disct_freq\n",
        "\n",
        "song_hits_disct_larg = pd.cut(base['Song Hits'], 4)\n",
        "base['song_h_disct_larg'] = song_hits_disct_larg\n",
        "song_hits_disct_freq = pd.qcut(base['Song Hits'], 4)\n",
        "base['song_h_disct_freq'] = song_hits_disct_freq\n",
        "\n",
        "base.head()"
      ],
      "execution_count": 34,
      "outputs": [
        {
          "output_type": "execute_result",
          "data": {
            "text/html": [
              "<div>\n",
              "<style scoped>\n",
              "    .dataframe tbody tr th:only-of-type {\n",
              "        vertical-align: middle;\n",
              "    }\n",
              "\n",
              "    .dataframe tbody tr th {\n",
              "        vertical-align: top;\n",
              "    }\n",
              "\n",
              "    .dataframe thead th {\n",
              "        text-align: right;\n",
              "    }\n",
              "</style>\n",
              "<table border=\"1\" class=\"dataframe\">\n",
              "  <thead>\n",
              "    <tr style=\"text-align: right;\">\n",
              "      <th></th>\n",
              "      <th>Artist</th>\n",
              "      <th>Song Name</th>\n",
              "      <th>Song Rating</th>\n",
              "      <th>Song Hits</th>\n",
              "      <th>Page Type</th>\n",
              "      <th>Difficulty</th>\n",
              "      <th>Key</th>\n",
              "      <th>Capo</th>\n",
              "      <th>Tuning</th>\n",
              "      <th>song_r_disct_larg</th>\n",
              "      <th>song_r_disct_freq</th>\n",
              "      <th>song_h_disct_larg</th>\n",
              "      <th>song_h_disct_freq</th>\n",
              "    </tr>\n",
              "  </thead>\n",
              "  <tbody>\n",
              "    <tr>\n",
              "      <th>0</th>\n",
              "      <td>Jeff Buckley</td>\n",
              "      <td>Hallelujah</td>\n",
              "      <td>40045</td>\n",
              "      <td>31174526</td>\n",
              "      <td>Chords</td>\n",
              "      <td>novice</td>\n",
              "      <td>Db</td>\n",
              "      <td>1st fret</td>\n",
              "      <td>E A D G B E</td>\n",
              "      <td>(30035.5, 40045.0]</td>\n",
              "      <td>(2677.0, 40045.0]</td>\n",
              "      <td>(23732297.75, 31174526.0]</td>\n",
              "      <td>(3416779.0, 31174526.0]</td>\n",
              "    </tr>\n",
              "    <tr>\n",
              "      <th>1</th>\n",
              "      <td>Ed Sheeran</td>\n",
              "      <td>Perfect</td>\n",
              "      <td>31694</td>\n",
              "      <td>25794778</td>\n",
              "      <td>Chords</td>\n",
              "      <td>novice</td>\n",
              "      <td>Ab</td>\n",
              "      <td>1st fret</td>\n",
              "      <td>E A D G B E</td>\n",
              "      <td>(30035.5, 40045.0]</td>\n",
              "      <td>(2677.0, 40045.0]</td>\n",
              "      <td>(23732297.75, 31174526.0]</td>\n",
              "      <td>(3416779.0, 31174526.0]</td>\n",
              "    </tr>\n",
              "    <tr>\n",
              "      <th>2</th>\n",
              "      <td>John Legend</td>\n",
              "      <td>All Of Me</td>\n",
              "      <td>20169</td>\n",
              "      <td>25653362</td>\n",
              "      <td>Chords</td>\n",
              "      <td>novice</td>\n",
              "      <td>Fm</td>\n",
              "      <td>1st fret</td>\n",
              "      <td>E A D G B E</td>\n",
              "      <td>(20026.0, 30035.5]</td>\n",
              "      <td>(2677.0, 40045.0]</td>\n",
              "      <td>(23732297.75, 31174526.0]</td>\n",
              "      <td>(3416779.0, 31174526.0]</td>\n",
              "    </tr>\n",
              "    <tr>\n",
              "      <th>3</th>\n",
              "      <td>Passenger</td>\n",
              "      <td>Let Her Go</td>\n",
              "      <td>17267</td>\n",
              "      <td>24556593</td>\n",
              "      <td>Chords</td>\n",
              "      <td>novice</td>\n",
              "      <td>Em</td>\n",
              "      <td>7th fret</td>\n",
              "      <td>E A D G B E</td>\n",
              "      <td>(10016.5, 20026.0]</td>\n",
              "      <td>(2677.0, 40045.0]</td>\n",
              "      <td>(23732297.75, 31174526.0]</td>\n",
              "      <td>(3416779.0, 31174526.0]</td>\n",
              "    </tr>\n",
              "    <tr>\n",
              "      <th>4</th>\n",
              "      <td>Led Zeppelin</td>\n",
              "      <td>Stairway To Heaven</td>\n",
              "      <td>11839</td>\n",
              "      <td>20762763</td>\n",
              "      <td>Tab</td>\n",
              "      <td>intermediate</td>\n",
              "      <td>Am</td>\n",
              "      <td>No Capo</td>\n",
              "      <td>E A D G B E</td>\n",
              "      <td>(10016.5, 20026.0]</td>\n",
              "      <td>(2677.0, 40045.0]</td>\n",
              "      <td>(16290069.5, 23732297.75]</td>\n",
              "      <td>(3416779.0, 31174526.0]</td>\n",
              "    </tr>\n",
              "  </tbody>\n",
              "</table>\n",
              "</div>"
            ],
            "text/plain": [
              "         Artist  ...        song_h_disct_freq\n",
              "0  Jeff Buckley  ...  (3416779.0, 31174526.0]\n",
              "1    Ed Sheeran  ...  (3416779.0, 31174526.0]\n",
              "2   John Legend  ...  (3416779.0, 31174526.0]\n",
              "3     Passenger  ...  (3416779.0, 31174526.0]\n",
              "4  Led Zeppelin  ...  (3416779.0, 31174526.0]\n",
              "\n",
              "[5 rows x 13 columns]"
            ]
          },
          "metadata": {},
          "execution_count": 34
        }
      ]
    },
    {
      "cell_type": "code",
      "metadata": {
        "colab": {
          "base_uri": "https://localhost:8080/",
          "height": 422
        },
        "id": "DqDiV-0zCKG2",
        "outputId": "52f2d8fb-9ffc-4c3b-e5b8-a5c2357b9bca"
      },
      "source": [
        "plt.figure(figsize=(10, 6))\n",
        "counts = base['song_r_disct_larg'].value_counts()\n",
        "counts.plot.bar(rot=0)\n",
        "plt.title(\"Song Rating Discretizado por Largura\")\n",
        "plt.xlabel('Intervalos')\n",
        "plt.ylabel('Quantidade')\n"
      ],
      "execution_count": 35,
      "outputs": [
        {
          "output_type": "execute_result",
          "data": {
            "text/plain": [
              "Text(0, 0.5, 'Quantidade')"
            ]
          },
          "metadata": {},
          "execution_count": 35
        },
        {
          "output_type": "display_data",
          "data": {
            "image/png": "[encoded data removed]",
            "text/plain": [
              "<Figure size 720x432 with 1 Axes>"
            ]
          },
          "metadata": {
            "needs_background": "light"
          }
        }
      ]
    },
    {
      "cell_type": "code",
      "metadata": {
        "colab": {
          "base_uri": "https://localhost:8080/",
          "height": 422
        },
        "id": "qESyfyo1CgFv",
        "outputId": "e8e960a3-baa6-4056-9be0-4458f30dc5dd"
      },
      "source": [
        "plt.figure(figsize=(10, 6))\n",
        "counts = base['song_r_disct_freq'].value_counts()\n",
        "counts.plot.bar(rot=0)\n",
        "plt.title(\"Song Rating Discretizado por Frequência\")\n",
        "plt.xlabel('Intervalos')\n",
        "plt.ylabel('Quantidade')"
      ],
      "execution_count": 36,
      "outputs": [
        {
          "output_type": "execute_result",
          "data": {
            "text/plain": [
              "Text(0, 0.5, 'Quantidade')"
            ]
          },
          "metadata": {},
          "execution_count": 36
        },
        {
          "output_type": "display_data",
          "data": {
            "image/png": "[encoded data removed]",
            "text/plain": [
              "<Figure size 720x432 with 1 Axes>"
            ]
          },
          "metadata": {
            "needs_background": "light"
          }
        }
      ]
    },
    {
      "cell_type": "code",
      "metadata": {
        "colab": {
          "base_uri": "https://localhost:8080/",
          "height": 422
        },
        "id": "9OmJMhshC6Rp",
        "outputId": "8689c3fb-b426-4995-b1a7-3cb4fea4d498"
      },
      "source": [
        "plt.figure(figsize=(10, 6))\n",
        "counts = base['song_h_disct_larg'].value_counts()\n",
        "counts.plot.bar(rot=0)\n",
        "plt.title(\"Song Hits Discretizado por Largura\")\n",
        "plt.xlabel('Intervalos')\n",
        "plt.ylabel('Quantidade')"
      ],
      "execution_count": 37,
      "outputs": [
        {
          "output_type": "execute_result",
          "data": {
            "text/plain": [
              "Text(0, 0.5, 'Quantidade')"
            ]
          },
          "metadata": {},
          "execution_count": 37
        },
        {
          "output_type": "display_data",
          "data": {
            "image/png": "[encoded data removed]",
            "text/plain": [
              "<Figure size 720x432 with 1 Axes>"
            ]
          },
          "metadata": {
            "needs_background": "light"
          }
        }
      ]
    },
    {
      "cell_type": "code",
      "metadata": {
        "colab": {
          "base_uri": "https://localhost:8080/",
          "height": 422
        },
        "id": "wYiVSzTGDBd0",
        "outputId": "f67a594a-7bae-43ec-f700-5839ce454d6b"
      },
      "source": [
        "plt.figure(figsize=(10, 6))\n",
        "counts = base['song_h_disct_freq'].value_counts()\n",
        "counts.plot.bar(rot=0)\n",
        "plt.title(\"Song Hits Discretizado por Largura\")\n",
        "plt.xlabel('Intervalos')\n",
        "plt.ylabel('Quantidade')"
      ],
      "execution_count": 38,
      "outputs": [
        {
          "output_type": "execute_result",
          "data": {
            "text/plain": [
              "Text(0, 0.5, 'Quantidade')"
            ]
          },
          "metadata": {},
          "execution_count": 38
        },
        {
          "output_type": "display_data",
          "data": {
            "image/png": "[encoded data removed]",
            "text/plain": [
              "<Figure size 720x432 with 1 Axes>"
            ]
          },
          "metadata": {
            "needs_background": "light"
          }
        }
      ]
    },
    {
      "cell_type": "markdown",
      "metadata": {
        "id": "XMTsB7cvuu8R"
      },
      "source": [
        " - **Normalização**"
      ]
    },
    {
      "cell_type": "code",
      "metadata": {
        "id": "SvBFNOtPuujW"
      },
      "source": [
        "col = base['Song Hits']\n",
        "col2 = base['Song Rating']\n",
        "song_h = (col - col.min()) / (col.max() - col.min())\n",
        "song_r = (col2 - col2.min()) / (col2.max() - col2.min())\n",
        "base['song_h_norm'] = song_h\n",
        "base['song_r_norm'] = song_r\n",
        " "
      ],
      "execution_count": 39,
      "outputs": []
    },
    {
      "cell_type": "code",
      "metadata": {
        "colab": {
          "base_uri": "https://localhost:8080/"
        },
        "id": "fvBvMF81yg6P",
        "outputId": "f6ac77da-d059-4a93-b44e-fd891c20368f"
      },
      "source": [
        "base['song_h_norm'].describe()"
      ],
      "execution_count": 40,
      "outputs": [
        {
          "output_type": "execute_result",
          "data": {
            "text/plain": [
              "count    850.000000\n",
              "mean       0.063013\n",
              "std        0.102158\n",
              "min        0.000000\n",
              "25%        0.010610\n",
              "50%        0.029399\n",
              "75%        0.067559\n",
              "max        1.000000\n",
              "Name: song_h_norm, dtype: float64"
            ]
          },
          "metadata": {},
          "execution_count": 40
        }
      ]
    },
    {
      "cell_type": "code",
      "metadata": {
        "colab": {
          "base_uri": "https://localhost:8080/"
        },
        "id": "WyEcm_lf2fA3",
        "outputId": "fb9124b5-aca9-472f-fc6e-3be5436b8986"
      },
      "source": [
        "base['song_r_norm']"
      ],
      "execution_count": 41,
      "outputs": [
        {
          "output_type": "execute_result",
          "data": {
            "text/plain": [
              "0      1.000000\n",
              "1      0.791423\n",
              "2      0.503572\n",
              "3      0.431090\n",
              "4      0.295519\n",
              "         ...   \n",
              "845    0.000400\n",
              "846    0.000050\n",
              "847    0.000000\n",
              "848    0.060967\n",
              "849    0.000250\n",
              "Name: song_r_norm, Length: 850, dtype: float64"
            ]
          },
          "metadata": {},
          "execution_count": 41
        }
      ]
    },
    {
      "cell_type": "code",
      "metadata": {
        "colab": {
          "base_uri": "https://localhost:8080/",
          "height": 309
        },
        "id": "LCd-AAjI2he4",
        "outputId": "f2ef1145-eac9-49b0-d90c-9e06e5ed6ed5"
      },
      "source": [
        "base.head()"
      ],
      "execution_count": 42,
      "outputs": [
        {
          "output_type": "execute_result",
          "data": {
            "text/html": [
              "<div>\n",
              "<style scoped>\n",
              "    .dataframe tbody tr th:only-of-type {\n",
              "        vertical-align: middle;\n",
              "    }\n",
              "\n",
              "    .dataframe tbody tr th {\n",
              "        vertical-align: top;\n",
              "    }\n",
              "\n",
              "    .dataframe thead th {\n",
              "        text-align: right;\n",
              "    }\n",
              "</style>\n",
              "<table border=\"1\" class=\"dataframe\">\n",
              "  <thead>\n",
              "    <tr style=\"text-align: right;\">\n",
              "      <th></th>\n",
              "      <th>Artist</th>\n",
              "      <th>Song Name</th>\n",
              "      <th>Song Rating</th>\n",
              "      <th>Song Hits</th>\n",
              "      <th>Page Type</th>\n",
              "      <th>Difficulty</th>\n",
              "      <th>Key</th>\n",
              "      <th>Capo</th>\n",
              "      <th>Tuning</th>\n",
              "      <th>song_r_disct_larg</th>\n",
              "      <th>song_r_disct_freq</th>\n",
              "      <th>song_h_disct_larg</th>\n",
              "      <th>song_h_disct_freq</th>\n",
              "      <th>song_h_norm</th>\n",
              "      <th>song_r_norm</th>\n",
              "    </tr>\n",
              "  </thead>\n",
              "  <tbody>\n",
              "    <tr>\n",
              "      <th>0</th>\n",
              "      <td>Jeff Buckley</td>\n",
              "      <td>Hallelujah</td>\n",
              "      <td>40045</td>\n",
              "      <td>31174526</td>\n",
              "      <td>Chords</td>\n",
              "      <td>novice</td>\n",
              "      <td>Db</td>\n",
              "      <td>1st fret</td>\n",
              "      <td>E A D G B E</td>\n",
              "      <td>(30035.5, 40045.0]</td>\n",
              "      <td>(2677.0, 40045.0]</td>\n",
              "      <td>(23732297.75, 31174526.0]</td>\n",
              "      <td>(3416779.0, 31174526.0]</td>\n",
              "      <td>1.000000</td>\n",
              "      <td>1.000000</td>\n",
              "    </tr>\n",
              "    <tr>\n",
              "      <th>1</th>\n",
              "      <td>Ed Sheeran</td>\n",
              "      <td>Perfect</td>\n",
              "      <td>31694</td>\n",
              "      <td>25794778</td>\n",
              "      <td>Chords</td>\n",
              "      <td>novice</td>\n",
              "      <td>Ab</td>\n",
              "      <td>1st fret</td>\n",
              "      <td>E A D G B E</td>\n",
              "      <td>(30035.5, 40045.0]</td>\n",
              "      <td>(2677.0, 40045.0]</td>\n",
              "      <td>(23732297.75, 31174526.0]</td>\n",
              "      <td>(3416779.0, 31174526.0]</td>\n",
              "      <td>0.819283</td>\n",
              "      <td>0.791423</td>\n",
              "    </tr>\n",
              "    <tr>\n",
              "      <th>2</th>\n",
              "      <td>John Legend</td>\n",
              "      <td>All Of Me</td>\n",
              "      <td>20169</td>\n",
              "      <td>25653362</td>\n",
              "      <td>Chords</td>\n",
              "      <td>novice</td>\n",
              "      <td>Fm</td>\n",
              "      <td>1st fret</td>\n",
              "      <td>E A D G B E</td>\n",
              "      <td>(20026.0, 30035.5]</td>\n",
              "      <td>(2677.0, 40045.0]</td>\n",
              "      <td>(23732297.75, 31174526.0]</td>\n",
              "      <td>(3416779.0, 31174526.0]</td>\n",
              "      <td>0.814533</td>\n",
              "      <td>0.503572</td>\n",
              "    </tr>\n",
              "    <tr>\n",
              "      <th>3</th>\n",
              "      <td>Passenger</td>\n",
              "      <td>Let Her Go</td>\n",
              "      <td>17267</td>\n",
              "      <td>24556593</td>\n",
              "      <td>Chords</td>\n",
              "      <td>novice</td>\n",
              "      <td>Em</td>\n",
              "      <td>7th fret</td>\n",
              "      <td>E A D G B E</td>\n",
              "      <td>(10016.5, 20026.0]</td>\n",
              "      <td>(2677.0, 40045.0]</td>\n",
              "      <td>(23732297.75, 31174526.0]</td>\n",
              "      <td>(3416779.0, 31174526.0]</td>\n",
              "      <td>0.777690</td>\n",
              "      <td>0.431090</td>\n",
              "    </tr>\n",
              "    <tr>\n",
              "      <th>4</th>\n",
              "      <td>Led Zeppelin</td>\n",
              "      <td>Stairway To Heaven</td>\n",
              "      <td>11839</td>\n",
              "      <td>20762763</td>\n",
              "      <td>Tab</td>\n",
              "      <td>intermediate</td>\n",
              "      <td>Am</td>\n",
              "      <td>No Capo</td>\n",
              "      <td>E A D G B E</td>\n",
              "      <td>(10016.5, 20026.0]</td>\n",
              "      <td>(2677.0, 40045.0]</td>\n",
              "      <td>(16290069.5, 23732297.75]</td>\n",
              "      <td>(3416779.0, 31174526.0]</td>\n",
              "      <td>0.650247</td>\n",
              "      <td>0.295519</td>\n",
              "    </tr>\n",
              "  </tbody>\n",
              "</table>\n",
              "</div>"
            ],
            "text/plain": [
              "         Artist           Song Name  ...  song_h_norm  song_r_norm\n",
              "0  Jeff Buckley         Hallelujah   ...     1.000000     1.000000\n",
              "1    Ed Sheeran             Perfect  ...     0.819283     0.791423\n",
              "2   John Legend           All Of Me  ...     0.814533     0.503572\n",
              "3     Passenger          Let Her Go  ...     0.777690     0.431090\n",
              "4  Led Zeppelin  Stairway To Heaven  ...     0.650247     0.295519\n",
              "\n",
              "[5 rows x 15 columns]"
            ]
          },
          "metadata": {},
          "execution_count": 42
        }
      ]
    },
    {
      "cell_type": "markdown",
      "metadata": {
        "id": "Gs165ZQRGCKr"
      },
      "source": [
        "# 3.3 **Visualizando Outliers**"
      ]
    },
    {
      "cell_type": "markdown",
      "metadata": {
        "id": "p26RZ3IxFSLr"
      },
      "source": [
        "Vamos agora realizar a visualização de outliers nas colunas númericas do nosso dataframe, Song Hits e Song Rating. "
      ]
    },
    {
      "cell_type": "markdown",
      "metadata": {
        "id": "v6z_G8czkdZy"
      },
      "source": [
        "**Z-Score Robusto**"
      ]
    },
    {
      "cell_type": "code",
      "metadata": {
        "colab": {
          "base_uri": "https://localhost:8080/"
        },
        "id": "Xkh1RSuXj2oV",
        "outputId": "88cd9fdb-bbc8-4697-cab3-33d9c6608549"
      },
      "source": [
        "base['Song Hits'].describe().round(1)"
      ],
      "execution_count": 43,
      "outputs": [
        {
          "output_type": "execute_result",
          "data": {
            "text/plain": [
              "count         850.0\n",
              "mean      3281441.1\n",
              "std       3041135.0\n",
              "min       1405613.0\n",
              "25%       1721466.0\n",
              "50%       2280788.0\n",
              "75%       3416779.0\n",
              "max      31174526.0\n",
              "Name: Song Hits, dtype: float64"
            ]
          },
          "metadata": {},
          "execution_count": 43
        }
      ]
    },
    {
      "cell_type": "code",
      "metadata": {
        "colab": {
          "base_uri": "https://localhost:8080/",
          "height": 295
        },
        "id": "8M_5HGTJF6eM",
        "outputId": "a4950e19-17ef-44c5-cefd-a7ea08517ac4"
      },
      "source": [
        "base['Song Hits'].plot.box()"
      ],
      "execution_count": 44,
      "outputs": [
        {
          "output_type": "execute_result",
          "data": {
            "text/plain": [
              "<matplotlib.axes._subplots.AxesSubplot at 0x7f4254aceb90>"
            ]
          },
          "metadata": {},
          "execution_count": 44
        },
        {
          "output_type": "display_data",
          "data": {
            "image/png": "[encoded data removed]",
            "text/plain": [
              "<Figure size 432x288 with 1 Axes>"
            ]
          },
          "metadata": {
            "needs_background": "light"
          }
        }
      ]
    },
    {
      "cell_type": "code",
      "metadata": {
        "colab": {
          "base_uri": "https://localhost:8080/",
          "height": 296
        },
        "id": "LsCRzXw3Z8B0",
        "outputId": "1851722d-a70e-4702-fd20-cfe9814162b6"
      },
      "source": [
        "base['Song Hits'].hist()"
      ],
      "execution_count": 45,
      "outputs": [
        {
          "output_type": "execute_result",
          "data": {
            "text/plain": [
              "<matplotlib.axes._subplots.AxesSubplot at 0x7f42549e36d0>"
            ]
          },
          "metadata": {},
          "execution_count": 45
        },
        {
          "output_type": "display_data",
          "data": {
            "image/png": "[encoded data removed]",
            "text/plain": [
              "<Figure size 432x288 with 1 Axes>"
            ]
          },
          "metadata": {
            "needs_background": "light"
          }
        }
      ]
    },
    {
      "cell_type": "code",
      "metadata": {
        "colab": {
          "base_uri": "https://localhost:8080/",
          "height": 283
        },
        "id": "A5YyjG_8k2c7",
        "outputId": "55a20145-e1cf-4190-aa90-4de99bf43fa6"
      },
      "source": [
        "base['song_h_log'] = np.log10(base['Song Hits'])\n",
        "base['song_h_log'].hist()"
      ],
      "execution_count": 46,
      "outputs": [
        {
          "output_type": "execute_result",
          "data": {
            "text/plain": [
              "<matplotlib.axes._subplots.AxesSubplot at 0x7f425497edd0>"
            ]
          },
          "metadata": {},
          "execution_count": 46
        },
        {
          "output_type": "display_data",
          "data": {
            "image/png": "[encoded data removed]",
            "text/plain": [
              "<Figure size 432x288 with 1 Axes>"
            ]
          },
          "metadata": {
            "needs_background": "light"
          }
        }
      ]
    },
    {
      "cell_type": "code",
      "metadata": {
        "colab": {
          "base_uri": "https://localhost:8080/"
        },
        "id": "N2osPlP_lQqN",
        "outputId": "c3bc8346-dc11-43fb-dd84-a8f51e2eea47"
      },
      "source": [
        "#mad manual\n",
        "mad = np.abs(base['song_h_log'] - base['song_h_log'].median()).median()*(1/0.6745)\n",
        "print(mad)"
      ],
      "execution_count": 47,
      "outputs": [
        {
          "output_type": "stream",
          "name": "stdout",
          "text": [
            "0.20388494238022187\n"
          ]
        }
      ]
    },
    {
      "cell_type": "code",
      "metadata": {
        "colab": {
          "base_uri": "https://localhost:8080/"
        },
        "id": "3Q1A47yZlXvK",
        "outputId": "e1bccd87-b7b7-42fa-acdc-00e8ccd73dfb"
      },
      "source": [
        "#mad com a função pronta\n",
        "base['song_h_log'].mad()"
      ],
      "execution_count": 48,
      "outputs": [
        {
          "output_type": "execute_result",
          "data": {
            "text/plain": [
              "0.19160388907816758"
            ]
          },
          "metadata": {},
          "execution_count": 48
        }
      ]
    },
    {
      "cell_type": "code",
      "metadata": {
        "colab": {
          "base_uri": "https://localhost:8080/",
          "height": 283
        },
        "id": "giugcP5OlnpD",
        "outputId": "5a47e225-c2ce-4940-e476-2eaa2aaaee00"
      },
      "source": [
        "(abs(base['song_h_log']-base['song_h_log'].median())/mad).hist()"
      ],
      "execution_count": 49,
      "outputs": [
        {
          "output_type": "execute_result",
          "data": {
            "text/plain": [
              "<matplotlib.axes._subplots.AxesSubplot at 0x7f42549132d0>"
            ]
          },
          "metadata": {},
          "execution_count": 49
        },
        {
          "output_type": "display_data",
          "data": {
            "image/png": "[encoded data removed]",
            "text/plain": [
              "<Figure size 432x288 with 1 Axes>"
            ]
          },
          "metadata": {
            "needs_background": "light"
          }
        }
      ]
    },
    {
      "cell_type": "code",
      "metadata": {
        "colab": {
          "base_uri": "https://localhost:8080/",
          "height": 1000
        },
        "id": "s7Br9sNhlz_I",
        "outputId": "25ad3d70-dbf3-4021-db23-316e2815f9be"
      },
      "source": [
        "base[abs(base['song_h_log']-base['song_h_log'].median())/mad > 3.5]"
      ],
      "execution_count": 50,
      "outputs": [
        {
          "output_type": "execute_result",
          "data": {
            "text/html": [
              "<div>\n",
              "<style scoped>\n",
              "    .dataframe tbody tr th:only-of-type {\n",
              "        vertical-align: middle;\n",
              "    }\n",
              "\n",
              "    .dataframe tbody tr th {\n",
              "        vertical-align: top;\n",
              "    }\n",
              "\n",
              "    .dataframe thead th {\n",
              "        text-align: right;\n",
              "    }\n",
              "</style>\n",
              "<table border=\"1\" class=\"dataframe\">\n",
              "  <thead>\n",
              "    <tr style=\"text-align: right;\">\n",
              "      <th></th>\n",
              "      <th>Artist</th>\n",
              "      <th>Song Name</th>\n",
              "      <th>Song Rating</th>\n",
              "      <th>Song Hits</th>\n",
              "      <th>Page Type</th>\n",
              "      <th>Difficulty</th>\n",
              "      <th>Key</th>\n",
              "      <th>Capo</th>\n",
              "      <th>Tuning</th>\n",
              "      <th>song_r_disct_larg</th>\n",
              "      <th>song_r_disct_freq</th>\n",
              "      <th>song_h_disct_larg</th>\n",
              "      <th>song_h_disct_freq</th>\n",
              "      <th>song_h_norm</th>\n",
              "      <th>song_r_norm</th>\n",
              "      <th>song_h_log</th>\n",
              "    </tr>\n",
              "  </thead>\n",
              "  <tbody>\n",
              "    <tr>\n",
              "      <th>0</th>\n",
              "      <td>Jeff Buckley</td>\n",
              "      <td>Hallelujah</td>\n",
              "      <td>40045</td>\n",
              "      <td>31174526</td>\n",
              "      <td>Chords</td>\n",
              "      <td>novice</td>\n",
              "      <td>Db</td>\n",
              "      <td>1st fret</td>\n",
              "      <td>E A D G B E</td>\n",
              "      <td>(30035.5, 40045.0]</td>\n",
              "      <td>(2677.0, 40045.0]</td>\n",
              "      <td>(23732297.75, 31174526.0]</td>\n",
              "      <td>(3416779.0, 31174526.0]</td>\n",
              "      <td>1.000000</td>\n",
              "      <td>1.000000</td>\n",
              "      <td>7.493800</td>\n",
              "    </tr>\n",
              "    <tr>\n",
              "      <th>1</th>\n",
              "      <td>Ed Sheeran</td>\n",
              "      <td>Perfect</td>\n",
              "      <td>31694</td>\n",
              "      <td>25794778</td>\n",
              "      <td>Chords</td>\n",
              "      <td>novice</td>\n",
              "      <td>Ab</td>\n",
              "      <td>1st fret</td>\n",
              "      <td>E A D G B E</td>\n",
              "      <td>(30035.5, 40045.0]</td>\n",
              "      <td>(2677.0, 40045.0]</td>\n",
              "      <td>(23732297.75, 31174526.0]</td>\n",
              "      <td>(3416779.0, 31174526.0]</td>\n",
              "      <td>0.819283</td>\n",
              "      <td>0.791423</td>\n",
              "      <td>7.411532</td>\n",
              "    </tr>\n",
              "    <tr>\n",
              "      <th>2</th>\n",
              "      <td>John Legend</td>\n",
              "      <td>All Of Me</td>\n",
              "      <td>20169</td>\n",
              "      <td>25653362</td>\n",
              "      <td>Chords</td>\n",
              "      <td>novice</td>\n",
              "      <td>Fm</td>\n",
              "      <td>1st fret</td>\n",
              "      <td>E A D G B E</td>\n",
              "      <td>(20026.0, 30035.5]</td>\n",
              "      <td>(2677.0, 40045.0]</td>\n",
              "      <td>(23732297.75, 31174526.0]</td>\n",
              "      <td>(3416779.0, 31174526.0]</td>\n",
              "      <td>0.814533</td>\n",
              "      <td>0.503572</td>\n",
              "      <td>7.409144</td>\n",
              "    </tr>\n",
              "    <tr>\n",
              "      <th>3</th>\n",
              "      <td>Passenger</td>\n",
              "      <td>Let Her Go</td>\n",
              "      <td>17267</td>\n",
              "      <td>24556593</td>\n",
              "      <td>Chords</td>\n",
              "      <td>novice</td>\n",
              "      <td>Em</td>\n",
              "      <td>7th fret</td>\n",
              "      <td>E A D G B E</td>\n",
              "      <td>(10016.5, 20026.0]</td>\n",
              "      <td>(2677.0, 40045.0]</td>\n",
              "      <td>(23732297.75, 31174526.0]</td>\n",
              "      <td>(3416779.0, 31174526.0]</td>\n",
              "      <td>0.777690</td>\n",
              "      <td>0.431090</td>\n",
              "      <td>7.390168</td>\n",
              "    </tr>\n",
              "    <tr>\n",
              "      <th>4</th>\n",
              "      <td>Led Zeppelin</td>\n",
              "      <td>Stairway To Heaven</td>\n",
              "      <td>11839</td>\n",
              "      <td>20762763</td>\n",
              "      <td>Tab</td>\n",
              "      <td>intermediate</td>\n",
              "      <td>Am</td>\n",
              "      <td>No Capo</td>\n",
              "      <td>E A D G B E</td>\n",
              "      <td>(10016.5, 20026.0]</td>\n",
              "      <td>(2677.0, 40045.0]</td>\n",
              "      <td>(16290069.5, 23732297.75]</td>\n",
              "      <td>(3416779.0, 31174526.0]</td>\n",
              "      <td>0.650247</td>\n",
              "      <td>0.295519</td>\n",
              "      <td>7.317285</td>\n",
              "    </tr>\n",
              "    <tr>\n",
              "      <th>5</th>\n",
              "      <td>Jason Mraz</td>\n",
              "      <td>Im Yours</td>\n",
              "      <td>12247</td>\n",
              "      <td>20326678</td>\n",
              "      <td>Chords</td>\n",
              "      <td>novice</td>\n",
              "      <td>B</td>\n",
              "      <td>4th fret</td>\n",
              "      <td>E A D G B E</td>\n",
              "      <td>(10016.5, 20026.0]</td>\n",
              "      <td>(2677.0, 40045.0]</td>\n",
              "      <td>(16290069.5, 23732297.75]</td>\n",
              "      <td>(3416779.0, 31174526.0]</td>\n",
              "      <td>0.635598</td>\n",
              "      <td>0.305710</td>\n",
              "      <td>7.308066</td>\n",
              "    </tr>\n",
              "    <tr>\n",
              "      <th>6</th>\n",
              "      <td>Elvis Presley</td>\n",
              "      <td>Cant Help Falling In Love</td>\n",
              "      <td>19747</td>\n",
              "      <td>19857493</td>\n",
              "      <td>Chords</td>\n",
              "      <td>intermediate</td>\n",
              "      <td>C</td>\n",
              "      <td>2nd fret</td>\n",
              "      <td>E A D G B E</td>\n",
              "      <td>(10016.5, 20026.0]</td>\n",
              "      <td>(2677.0, 40045.0]</td>\n",
              "      <td>(16290069.5, 23732297.75]</td>\n",
              "      <td>(3416779.0, 31174526.0]</td>\n",
              "      <td>0.619837</td>\n",
              "      <td>0.493032</td>\n",
              "      <td>7.297924</td>\n",
              "    </tr>\n",
              "    <tr>\n",
              "      <th>7</th>\n",
              "      <td>Ed Sheeran</td>\n",
              "      <td>Thinking Out Loud</td>\n",
              "      <td>12130</td>\n",
              "      <td>17939245</td>\n",
              "      <td>Chords</td>\n",
              "      <td>novice</td>\n",
              "      <td>D</td>\n",
              "      <td>2nd fret</td>\n",
              "      <td>E A D G B E</td>\n",
              "      <td>(10016.5, 20026.0]</td>\n",
              "      <td>(2677.0, 40045.0]</td>\n",
              "      <td>(16290069.5, 23732297.75]</td>\n",
              "      <td>(3416779.0, 31174526.0]</td>\n",
              "      <td>0.555399</td>\n",
              "      <td>0.302787</td>\n",
              "      <td>7.253804</td>\n",
              "    </tr>\n",
              "    <tr>\n",
              "      <th>8</th>\n",
              "      <td>Plain White T's</td>\n",
              "      <td>Airplane</td>\n",
              "      <td>695</td>\n",
              "      <td>16867243</td>\n",
              "      <td>Tab</td>\n",
              "      <td>intermediate</td>\n",
              "      <td>Gm</td>\n",
              "      <td>No Capo</td>\n",
              "      <td>E A D G B E</td>\n",
              "      <td>(-33.038, 10016.5]</td>\n",
              "      <td>(582.0, 1260.5]</td>\n",
              "      <td>(16290069.5, 23732297.75]</td>\n",
              "      <td>(3416779.0, 31174526.0]</td>\n",
              "      <td>0.519388</td>\n",
              "      <td>0.017184</td>\n",
              "      <td>7.227044</td>\n",
              "    </tr>\n",
              "    <tr>\n",
              "      <th>9</th>\n",
              "      <td>Coldplay</td>\n",
              "      <td>The Scientist</td>\n",
              "      <td>10523</td>\n",
              "      <td>15183884</td>\n",
              "      <td>Chords</td>\n",
              "      <td>novice</td>\n",
              "      <td>Bm</td>\n",
              "      <td>3rd fret</td>\n",
              "      <td>E A D G B E</td>\n",
              "      <td>(10016.5, 20026.0]</td>\n",
              "      <td>(2677.0, 40045.0]</td>\n",
              "      <td>(8847841.25, 16290069.5]</td>\n",
              "      <td>(3416779.0, 31174526.0]</td>\n",
              "      <td>0.462841</td>\n",
              "      <td>0.262650</td>\n",
              "      <td>7.181383</td>\n",
              "    </tr>\n",
              "    <tr>\n",
              "      <th>10</th>\n",
              "      <td>Adele</td>\n",
              "      <td>Someone Like You</td>\n",
              "      <td>3166</td>\n",
              "      <td>14972548</td>\n",
              "      <td>Chords</td>\n",
              "      <td>intermediate</td>\n",
              "      <td>A</td>\n",
              "      <td>No Capo</td>\n",
              "      <td>E A D G B E</td>\n",
              "      <td>(-33.038, 10016.5]</td>\n",
              "      <td>(2677.0, 40045.0]</td>\n",
              "      <td>(8847841.25, 16290069.5]</td>\n",
              "      <td>(3416779.0, 31174526.0]</td>\n",
              "      <td>0.455742</td>\n",
              "      <td>0.078900</td>\n",
              "      <td>7.175296</td>\n",
              "    </tr>\n",
              "    <tr>\n",
              "      <th>11</th>\n",
              "      <td>Bruno Mars</td>\n",
              "      <td>When I Was Your Man</td>\n",
              "      <td>14428</td>\n",
              "      <td>14687286</td>\n",
              "      <td>Chords</td>\n",
              "      <td>novice</td>\n",
              "      <td>C</td>\n",
              "      <td>No Capo</td>\n",
              "      <td>E A D G B E</td>\n",
              "      <td>(10016.5, 20026.0]</td>\n",
              "      <td>(2677.0, 40045.0]</td>\n",
              "      <td>(8847841.25, 16290069.5]</td>\n",
              "      <td>(3416779.0, 31174526.0]</td>\n",
              "      <td>0.446159</td>\n",
              "      <td>0.360183</td>\n",
              "      <td>7.166942</td>\n",
              "    </tr>\n",
              "    <tr>\n",
              "      <th>12</th>\n",
              "      <td>Metallica</td>\n",
              "      <td>Nothing Else Matters</td>\n",
              "      <td>2999</td>\n",
              "      <td>14583222</td>\n",
              "      <td>Tab</td>\n",
              "      <td>intermediate</td>\n",
              "      <td>Em</td>\n",
              "      <td>No Capo</td>\n",
              "      <td>E A D G B E</td>\n",
              "      <td>(-33.038, 10016.5]</td>\n",
              "      <td>(2677.0, 40045.0]</td>\n",
              "      <td>(8847841.25, 16290069.5]</td>\n",
              "      <td>(3416779.0, 31174526.0]</td>\n",
              "      <td>0.442663</td>\n",
              "      <td>0.074729</td>\n",
              "      <td>7.163853</td>\n",
              "    </tr>\n",
              "    <tr>\n",
              "      <th>13</th>\n",
              "      <td>Justin Bieber</td>\n",
              "      <td>Love Yourself</td>\n",
              "      <td>11055</td>\n",
              "      <td>14329200</td>\n",
              "      <td>Chords</td>\n",
              "      <td>novice</td>\n",
              "      <td>E</td>\n",
              "      <td>4th fret</td>\n",
              "      <td>E A D G B E</td>\n",
              "      <td>(10016.5, 20026.0]</td>\n",
              "      <td>(2677.0, 40045.0]</td>\n",
              "      <td>(8847841.25, 16290069.5]</td>\n",
              "      <td>(3416779.0, 31174526.0]</td>\n",
              "      <td>0.434130</td>\n",
              "      <td>0.275938</td>\n",
              "      <td>7.156222</td>\n",
              "    </tr>\n",
              "    <tr>\n",
              "      <th>14</th>\n",
              "      <td>Vance Joy</td>\n",
              "      <td>Riptide</td>\n",
              "      <td>17693</td>\n",
              "      <td>14057389</td>\n",
              "      <td>Chords</td>\n",
              "      <td>novice</td>\n",
              "      <td>Bbm</td>\n",
              "      <td>1st fret</td>\n",
              "      <td>E A D G B E</td>\n",
              "      <td>(10016.5, 20026.0]</td>\n",
              "      <td>(2677.0, 40045.0]</td>\n",
              "      <td>(8847841.25, 16290069.5]</td>\n",
              "      <td>(3416779.0, 31174526.0]</td>\n",
              "      <td>0.425000</td>\n",
              "      <td>0.441730</td>\n",
              "      <td>7.147905</td>\n",
              "    </tr>\n",
              "    <tr>\n",
              "      <th>15</th>\n",
              "      <td>Ed Sheeran</td>\n",
              "      <td>Photograph</td>\n",
              "      <td>14028</td>\n",
              "      <td>13952081</td>\n",
              "      <td>Chords</td>\n",
              "      <td>novice</td>\n",
              "      <td>E</td>\n",
              "      <td>2nd fret</td>\n",
              "      <td>E A D G B E</td>\n",
              "      <td>(10016.5, 20026.0]</td>\n",
              "      <td>(2677.0, 40045.0]</td>\n",
              "      <td>(8847841.25, 16290069.5]</td>\n",
              "      <td>(3416779.0, 31174526.0]</td>\n",
              "      <td>0.421462</td>\n",
              "      <td>0.350192</td>\n",
              "      <td>7.144639</td>\n",
              "    </tr>\n",
              "    <tr>\n",
              "      <th>16</th>\n",
              "      <td>Radiohead</td>\n",
              "      <td>Creep</td>\n",
              "      <td>16789</td>\n",
              "      <td>13684244</td>\n",
              "      <td>Chords</td>\n",
              "      <td>novice</td>\n",
              "      <td>G</td>\n",
              "      <td>No Capo</td>\n",
              "      <td>E A D G B E</td>\n",
              "      <td>(10016.5, 20026.0]</td>\n",
              "      <td>(2677.0, 40045.0]</td>\n",
              "      <td>(8847841.25, 16290069.5]</td>\n",
              "      <td>(3416779.0, 31174526.0]</td>\n",
              "      <td>0.412465</td>\n",
              "      <td>0.419152</td>\n",
              "      <td>7.136221</td>\n",
              "    </tr>\n",
              "    <tr>\n",
              "      <th>17</th>\n",
              "      <td>Pink Floyd</td>\n",
              "      <td>Wish You Were Here</td>\n",
              "      <td>14884</td>\n",
              "      <td>13569404</td>\n",
              "      <td>Chords</td>\n",
              "      <td>novice</td>\n",
              "      <td>Em</td>\n",
              "      <td>No Capo</td>\n",
              "      <td>E A D G B E</td>\n",
              "      <td>(10016.5, 20026.0]</td>\n",
              "      <td>(2677.0, 40045.0]</td>\n",
              "      <td>(8847841.25, 16290069.5]</td>\n",
              "      <td>(3416779.0, 31174526.0]</td>\n",
              "      <td>0.408607</td>\n",
              "      <td>0.371572</td>\n",
              "      <td>7.132561</td>\n",
              "    </tr>\n",
              "    <tr>\n",
              "      <th>18</th>\n",
              "      <td>Oasis</td>\n",
              "      <td>Wonderwall</td>\n",
              "      <td>7767</td>\n",
              "      <td>13017729</td>\n",
              "      <td>Chords</td>\n",
              "      <td>intermediate</td>\n",
              "      <td>F#m</td>\n",
              "      <td>2nd fret</td>\n",
              "      <td>E A D G B E</td>\n",
              "      <td>(-33.038, 10016.5]</td>\n",
              "      <td>(2677.0, 40045.0]</td>\n",
              "      <td>(8847841.25, 16290069.5]</td>\n",
              "      <td>(3416779.0, 31174526.0]</td>\n",
              "      <td>0.390075</td>\n",
              "      <td>0.193816</td>\n",
              "      <td>7.114535</td>\n",
              "    </tr>\n",
              "    <tr>\n",
              "      <th>19</th>\n",
              "      <td>Oasis</td>\n",
              "      <td>Dont Look Back In Anger</td>\n",
              "      <td>11981</td>\n",
              "      <td>12942507</td>\n",
              "      <td>Chords</td>\n",
              "      <td>novice</td>\n",
              "      <td>C</td>\n",
              "      <td>No Capo</td>\n",
              "      <td>E A D G B E</td>\n",
              "      <td>(10016.5, 20026.0]</td>\n",
              "      <td>(2677.0, 40045.0]</td>\n",
              "      <td>(8847841.25, 16290069.5]</td>\n",
              "      <td>(3416779.0, 31174526.0]</td>\n",
              "      <td>0.387548</td>\n",
              "      <td>0.299066</td>\n",
              "      <td>7.112018</td>\n",
              "    </tr>\n",
              "  </tbody>\n",
              "</table>\n",
              "</div>"
            ],
            "text/plain": [
              "             Artist                  Song Name  ...  song_r_norm  song_h_log\n",
              "0      Jeff Buckley                Hallelujah   ...     1.000000    7.493800\n",
              "1        Ed Sheeran                    Perfect  ...     0.791423    7.411532\n",
              "2       John Legend                  All Of Me  ...     0.503572    7.409144\n",
              "3         Passenger                 Let Her Go  ...     0.431090    7.390168\n",
              "4      Led Zeppelin         Stairway To Heaven  ...     0.295519    7.317285\n",
              "5        Jason Mraz                  Im Yours   ...     0.305710    7.308066\n",
              "6     Elvis Presley  Cant Help Falling In Love  ...     0.493032    7.297924\n",
              "7        Ed Sheeran          Thinking Out Loud  ...     0.302787    7.253804\n",
              "8   Plain White T's                   Airplane  ...     0.017184    7.227044\n",
              "9          Coldplay             The Scientist   ...     0.262650    7.181383\n",
              "10            Adele          Someone Like You   ...     0.078900    7.175296\n",
              "11       Bruno Mars        When I Was Your Man  ...     0.360183    7.166942\n",
              "12        Metallica       Nothing Else Matters  ...     0.074729    7.163853\n",
              "13    Justin Bieber              Love Yourself  ...     0.275938    7.156222\n",
              "14        Vance Joy                   Riptide   ...     0.441730    7.147905\n",
              "15       Ed Sheeran                 Photograph  ...     0.350192    7.144639\n",
              "16        Radiohead                      Creep  ...     0.419152    7.136221\n",
              "17       Pink Floyd         Wish You Were Here  ...     0.371572    7.132561\n",
              "18            Oasis                Wonderwall   ...     0.193816    7.114535\n",
              "19            Oasis    Dont Look Back In Anger  ...     0.299066    7.112018\n",
              "\n",
              "[20 rows x 16 columns]"
            ]
          },
          "metadata": {},
          "execution_count": 50
        }
      ]
    },
    {
      "cell_type": "code",
      "metadata": {
        "colab": {
          "base_uri": "https://localhost:8080/"
        },
        "id": "1mXhxZi4mVb9",
        "outputId": "205cd467-8229-4422-aa90-05f42c9d102d"
      },
      "source": [
        "out_song_h = base[abs(base['song_h_log']-base['song_h_log'].median())/mad < 3.5]\n",
        "print(len(out_song_h))"
      ],
      "execution_count": 51,
      "outputs": [
        {
          "output_type": "stream",
          "name": "stdout",
          "text": [
            "830\n"
          ]
        }
      ]
    },
    {
      "cell_type": "markdown",
      "metadata": {
        "id": "O8NUKYxg_m6Q"
      },
      "source": [
        "A partir do método do Z-Core Robusto os valores maiores que 3.5 são considerados OutLiers. Assim, foram exibidos as primeiras 20 linhas do Top 850, as páginas de cifras mais visitadas. "
      ]
    },
    {
      "cell_type": "markdown",
      "metadata": {
        "id": "7Ktf-DKg_IJW"
      },
      "source": [
        "- **Tukey**"
      ]
    },
    {
      "cell_type": "code",
      "metadata": {
        "colab": {
          "base_uri": "https://localhost:8080/"
        },
        "id": "9hacK5onP8xV",
        "outputId": "322bdf64-a7b8-40fc-d20f-884ddc3dcb3d"
      },
      "source": [
        "base['Song Hits'].describe()"
      ],
      "execution_count": 52,
      "outputs": [
        {
          "output_type": "execute_result",
          "data": {
            "text/plain": [
              "count    8.500000e+02\n",
              "mean     3.281441e+06\n",
              "std      3.041135e+06\n",
              "min      1.405613e+06\n",
              "25%      1.721466e+06\n",
              "50%      2.280788e+06\n",
              "75%      3.416779e+06\n",
              "max      3.117453e+07\n",
              "Name: Song Hits, dtype: float64"
            ]
          },
          "metadata": {},
          "execution_count": 52
        }
      ]
    },
    {
      "cell_type": "code",
      "metadata": {
        "colab": {
          "base_uri": "https://localhost:8080/",
          "height": 295
        },
        "id": "96sgJwj7P8o4",
        "outputId": "27b6860c-56b3-422c-bfa0-ba9cc26f9af4"
      },
      "source": [
        "base['Song Hits'].plot.box()"
      ],
      "execution_count": 53,
      "outputs": [
        {
          "output_type": "execute_result",
          "data": {
            "text/plain": [
              "<matplotlib.axes._subplots.AxesSubplot at 0x7f4254917e90>"
            ]
          },
          "metadata": {},
          "execution_count": 53
        },
        {
          "output_type": "display_data",
          "data": {
            "image/png": "[encoded data removed]",
            "text/plain": [
              "<Figure size 432x288 with 1 Axes>"
            ]
          },
          "metadata": {
            "needs_background": "light"
          }
        }
      ]
    },
    {
      "cell_type": "code",
      "metadata": {
        "colab": {
          "base_uri": "https://localhost:8080/",
          "height": 296
        },
        "id": "-sxchM1GNt59",
        "outputId": "933dd0ea-893e-4d59-a163-50b2bf0c800e"
      },
      "source": [
        "base['Song Hits'].hist()"
      ],
      "execution_count": 54,
      "outputs": [
        {
          "output_type": "execute_result",
          "data": {
            "text/plain": [
              "<matplotlib.axes._subplots.AxesSubplot at 0x7f425480b350>"
            ]
          },
          "metadata": {},
          "execution_count": 54
        },
        {
          "output_type": "display_data",
          "data": {
            "image/png": "[encoded data removed]",
            "text/plain": [
              "<Figure size 432x288 with 1 Axes>"
            ]
          },
          "metadata": {
            "needs_background": "light"
          }
        }
      ]
    },
    {
      "cell_type": "code",
      "metadata": {
        "colab": {
          "base_uri": "https://localhost:8080/",
          "height": 283
        },
        "id": "lUip9vu-QOTb",
        "outputId": "3f490489-70d4-431b-c5f0-21fde6cb6686"
      },
      "source": [
        "base['song_h_log'].hist()"
      ],
      "execution_count": 55,
      "outputs": [
        {
          "output_type": "execute_result",
          "data": {
            "text/plain": [
              "<matplotlib.axes._subplots.AxesSubplot at 0x7f425473cfd0>"
            ]
          },
          "metadata": {},
          "execution_count": 55
        },
        {
          "output_type": "display_data",
          "data": {
            "image/png": "[encoded data removed]",
            "text/plain": [
              "<Figure size 432x288 with 1 Axes>"
            ]
          },
          "metadata": {
            "needs_background": "light"
          }
        }
      ]
    },
    {
      "cell_type": "code",
      "metadata": {
        "colab": {
          "base_uri": "https://localhost:8080/"
        },
        "id": "WEnuHbdNOfR6",
        "outputId": "52529276-a96a-49a2-cbca-9885e4209348"
      },
      "source": [
        "#Calcular os intervalos\n",
        "q1 = base['song_h_log'].quantile(q=0.25)\n",
        "q3 = base['song_h_log'].quantile(q=0.75)\n",
        "iqr = q3 - q1\n",
        "print(iqr)"
      ],
      "execution_count": 56,
      "outputs": [
        {
          "output_type": "stream",
          "name": "stdout",
          "text": [
            "0.29771744155703406\n"
          ]
        }
      ]
    },
    {
      "cell_type": "code",
      "metadata": {
        "colab": {
          "base_uri": "https://localhost:8080/",
          "height": 49
        },
        "id": "jUKFTp49RUr0",
        "outputId": "512bac99-abcc-4ab8-d6f7-4ed3ffe04768"
      },
      "source": [
        "#OutLiers: valores menores\n",
        "base[base['song_h_log'] < (q1-(1.5*iqr))]"
      ],
      "execution_count": 57,
      "outputs": [
        {
          "output_type": "execute_result",
          "data": {
            "text/html": [
              "<div>\n",
              "<style scoped>\n",
              "    .dataframe tbody tr th:only-of-type {\n",
              "        vertical-align: middle;\n",
              "    }\n",
              "\n",
              "    .dataframe tbody tr th {\n",
              "        vertical-align: top;\n",
              "    }\n",
              "\n",
              "    .dataframe thead th {\n",
              "        text-align: right;\n",
              "    }\n",
              "</style>\n",
              "<table border=\"1\" class=\"dataframe\">\n",
              "  <thead>\n",
              "    <tr style=\"text-align: right;\">\n",
              "      <th></th>\n",
              "      <th>Artist</th>\n",
              "      <th>Song Name</th>\n",
              "      <th>Song Rating</th>\n",
              "      <th>Song Hits</th>\n",
              "      <th>Page Type</th>\n",
              "      <th>Difficulty</th>\n",
              "      <th>Key</th>\n",
              "      <th>Capo</th>\n",
              "      <th>Tuning</th>\n",
              "      <th>song_r_disct_larg</th>\n",
              "      <th>song_r_disct_freq</th>\n",
              "      <th>song_h_disct_larg</th>\n",
              "      <th>song_h_disct_freq</th>\n",
              "      <th>song_h_norm</th>\n",
              "      <th>song_r_norm</th>\n",
              "      <th>song_h_log</th>\n",
              "    </tr>\n",
              "  </thead>\n",
              "  <tbody>\n",
              "  </tbody>\n",
              "</table>\n",
              "</div>"
            ],
            "text/plain": [
              "Empty DataFrame\n",
              "Columns: [Artist, Song Name, Song Rating, Song Hits, Page Type, Difficulty, Key, Capo, Tuning, song_r_disct_larg, song_r_disct_freq, song_h_disct_larg, song_h_disct_freq, song_h_norm, song_r_norm, song_h_log]\n",
              "Index: []"
            ]
          },
          "metadata": {},
          "execution_count": 57
        }
      ]
    },
    {
      "cell_type": "code",
      "metadata": {
        "colab": {
          "base_uri": "https://localhost:8080/",
          "height": 1000
        },
        "id": "U24rToOBRgYg",
        "outputId": "b2241e33-c9f6-46ab-90b6-2c4b8ba0ab9d"
      },
      "source": [
        "#Outliers: valores maiores\n",
        "base[base['song_h_log'] > (q3+(1.5*iqr))]"
      ],
      "execution_count": 58,
      "outputs": [
        {
          "output_type": "execute_result",
          "data": {
            "text/html": [
              "<div>\n",
              "<style scoped>\n",
              "    .dataframe tbody tr th:only-of-type {\n",
              "        vertical-align: middle;\n",
              "    }\n",
              "\n",
              "    .dataframe tbody tr th {\n",
              "        vertical-align: top;\n",
              "    }\n",
              "\n",
              "    .dataframe thead th {\n",
              "        text-align: right;\n",
              "    }\n",
              "</style>\n",
              "<table border=\"1\" class=\"dataframe\">\n",
              "  <thead>\n",
              "    <tr style=\"text-align: right;\">\n",
              "      <th></th>\n",
              "      <th>Artist</th>\n",
              "      <th>Song Name</th>\n",
              "      <th>Song Rating</th>\n",
              "      <th>Song Hits</th>\n",
              "      <th>Page Type</th>\n",
              "      <th>Difficulty</th>\n",
              "      <th>Key</th>\n",
              "      <th>Capo</th>\n",
              "      <th>Tuning</th>\n",
              "      <th>song_r_disct_larg</th>\n",
              "      <th>song_r_disct_freq</th>\n",
              "      <th>song_h_disct_larg</th>\n",
              "      <th>song_h_disct_freq</th>\n",
              "      <th>song_h_norm</th>\n",
              "      <th>song_r_norm</th>\n",
              "      <th>song_h_log</th>\n",
              "    </tr>\n",
              "  </thead>\n",
              "  <tbody>\n",
              "    <tr>\n",
              "      <th>0</th>\n",
              "      <td>Jeff Buckley</td>\n",
              "      <td>Hallelujah</td>\n",
              "      <td>40045</td>\n",
              "      <td>31174526</td>\n",
              "      <td>Chords</td>\n",
              "      <td>novice</td>\n",
              "      <td>Db</td>\n",
              "      <td>1st fret</td>\n",
              "      <td>E A D G B E</td>\n",
              "      <td>(30035.5, 40045.0]</td>\n",
              "      <td>(2677.0, 40045.0]</td>\n",
              "      <td>(23732297.75, 31174526.0]</td>\n",
              "      <td>(3416779.0, 31174526.0]</td>\n",
              "      <td>1.000000</td>\n",
              "      <td>1.000000</td>\n",
              "      <td>7.493800</td>\n",
              "    </tr>\n",
              "    <tr>\n",
              "      <th>1</th>\n",
              "      <td>Ed Sheeran</td>\n",
              "      <td>Perfect</td>\n",
              "      <td>31694</td>\n",
              "      <td>25794778</td>\n",
              "      <td>Chords</td>\n",
              "      <td>novice</td>\n",
              "      <td>Ab</td>\n",
              "      <td>1st fret</td>\n",
              "      <td>E A D G B E</td>\n",
              "      <td>(30035.5, 40045.0]</td>\n",
              "      <td>(2677.0, 40045.0]</td>\n",
              "      <td>(23732297.75, 31174526.0]</td>\n",
              "      <td>(3416779.0, 31174526.0]</td>\n",
              "      <td>0.819283</td>\n",
              "      <td>0.791423</td>\n",
              "      <td>7.411532</td>\n",
              "    </tr>\n",
              "    <tr>\n",
              "      <th>2</th>\n",
              "      <td>John Legend</td>\n",
              "      <td>All Of Me</td>\n",
              "      <td>20169</td>\n",
              "      <td>25653362</td>\n",
              "      <td>Chords</td>\n",
              "      <td>novice</td>\n",
              "      <td>Fm</td>\n",
              "      <td>1st fret</td>\n",
              "      <td>E A D G B E</td>\n",
              "      <td>(20026.0, 30035.5]</td>\n",
              "      <td>(2677.0, 40045.0]</td>\n",
              "      <td>(23732297.75, 31174526.0]</td>\n",
              "      <td>(3416779.0, 31174526.0]</td>\n",
              "      <td>0.814533</td>\n",
              "      <td>0.503572</td>\n",
              "      <td>7.409144</td>\n",
              "    </tr>\n",
              "    <tr>\n",
              "      <th>3</th>\n",
              "      <td>Passenger</td>\n",
              "      <td>Let Her Go</td>\n",
              "      <td>17267</td>\n",
              "      <td>24556593</td>\n",
              "      <td>Chords</td>\n",
              "      <td>novice</td>\n",
              "      <td>Em</td>\n",
              "      <td>7th fret</td>\n",
              "      <td>E A D G B E</td>\n",
              "      <td>(10016.5, 20026.0]</td>\n",
              "      <td>(2677.0, 40045.0]</td>\n",
              "      <td>(23732297.75, 31174526.0]</td>\n",
              "      <td>(3416779.0, 31174526.0]</td>\n",
              "      <td>0.777690</td>\n",
              "      <td>0.431090</td>\n",
              "      <td>7.390168</td>\n",
              "    </tr>\n",
              "    <tr>\n",
              "      <th>4</th>\n",
              "      <td>Led Zeppelin</td>\n",
              "      <td>Stairway To Heaven</td>\n",
              "      <td>11839</td>\n",
              "      <td>20762763</td>\n",
              "      <td>Tab</td>\n",
              "      <td>intermediate</td>\n",
              "      <td>Am</td>\n",
              "      <td>No Capo</td>\n",
              "      <td>E A D G B E</td>\n",
              "      <td>(10016.5, 20026.0]</td>\n",
              "      <td>(2677.0, 40045.0]</td>\n",
              "      <td>(16290069.5, 23732297.75]</td>\n",
              "      <td>(3416779.0, 31174526.0]</td>\n",
              "      <td>0.650247</td>\n",
              "      <td>0.295519</td>\n",
              "      <td>7.317285</td>\n",
              "    </tr>\n",
              "    <tr>\n",
              "      <th>5</th>\n",
              "      <td>Jason Mraz</td>\n",
              "      <td>Im Yours</td>\n",
              "      <td>12247</td>\n",
              "      <td>20326678</td>\n",
              "      <td>Chords</td>\n",
              "      <td>novice</td>\n",
              "      <td>B</td>\n",
              "      <td>4th fret</td>\n",
              "      <td>E A D G B E</td>\n",
              "      <td>(10016.5, 20026.0]</td>\n",
              "      <td>(2677.0, 40045.0]</td>\n",
              "      <td>(16290069.5, 23732297.75]</td>\n",
              "      <td>(3416779.0, 31174526.0]</td>\n",
              "      <td>0.635598</td>\n",
              "      <td>0.305710</td>\n",
              "      <td>7.308066</td>\n",
              "    </tr>\n",
              "    <tr>\n",
              "      <th>6</th>\n",
              "      <td>Elvis Presley</td>\n",
              "      <td>Cant Help Falling In Love</td>\n",
              "      <td>19747</td>\n",
              "      <td>19857493</td>\n",
              "      <td>Chords</td>\n",
              "      <td>intermediate</td>\n",
              "      <td>C</td>\n",
              "      <td>2nd fret</td>\n",
              "      <td>E A D G B E</td>\n",
              "      <td>(10016.5, 20026.0]</td>\n",
              "      <td>(2677.0, 40045.0]</td>\n",
              "      <td>(16290069.5, 23732297.75]</td>\n",
              "      <td>(3416779.0, 31174526.0]</td>\n",
              "      <td>0.619837</td>\n",
              "      <td>0.493032</td>\n",
              "      <td>7.297924</td>\n",
              "    </tr>\n",
              "    <tr>\n",
              "      <th>7</th>\n",
              "      <td>Ed Sheeran</td>\n",
              "      <td>Thinking Out Loud</td>\n",
              "      <td>12130</td>\n",
              "      <td>17939245</td>\n",
              "      <td>Chords</td>\n",
              "      <td>novice</td>\n",
              "      <td>D</td>\n",
              "      <td>2nd fret</td>\n",
              "      <td>E A D G B E</td>\n",
              "      <td>(10016.5, 20026.0]</td>\n",
              "      <td>(2677.0, 40045.0]</td>\n",
              "      <td>(16290069.5, 23732297.75]</td>\n",
              "      <td>(3416779.0, 31174526.0]</td>\n",
              "      <td>0.555399</td>\n",
              "      <td>0.302787</td>\n",
              "      <td>7.253804</td>\n",
              "    </tr>\n",
              "    <tr>\n",
              "      <th>8</th>\n",
              "      <td>Plain White T's</td>\n",
              "      <td>Airplane</td>\n",
              "      <td>695</td>\n",
              "      <td>16867243</td>\n",
              "      <td>Tab</td>\n",
              "      <td>intermediate</td>\n",
              "      <td>Gm</td>\n",
              "      <td>No Capo</td>\n",
              "      <td>E A D G B E</td>\n",
              "      <td>(-33.038, 10016.5]</td>\n",
              "      <td>(582.0, 1260.5]</td>\n",
              "      <td>(16290069.5, 23732297.75]</td>\n",
              "      <td>(3416779.0, 31174526.0]</td>\n",
              "      <td>0.519388</td>\n",
              "      <td>0.017184</td>\n",
              "      <td>7.227044</td>\n",
              "    </tr>\n",
              "    <tr>\n",
              "      <th>9</th>\n",
              "      <td>Coldplay</td>\n",
              "      <td>The Scientist</td>\n",
              "      <td>10523</td>\n",
              "      <td>15183884</td>\n",
              "      <td>Chords</td>\n",
              "      <td>novice</td>\n",
              "      <td>Bm</td>\n",
              "      <td>3rd fret</td>\n",
              "      <td>E A D G B E</td>\n",
              "      <td>(10016.5, 20026.0]</td>\n",
              "      <td>(2677.0, 40045.0]</td>\n",
              "      <td>(8847841.25, 16290069.5]</td>\n",
              "      <td>(3416779.0, 31174526.0]</td>\n",
              "      <td>0.462841</td>\n",
              "      <td>0.262650</td>\n",
              "      <td>7.181383</td>\n",
              "    </tr>\n",
              "    <tr>\n",
              "      <th>10</th>\n",
              "      <td>Adele</td>\n",
              "      <td>Someone Like You</td>\n",
              "      <td>3166</td>\n",
              "      <td>14972548</td>\n",
              "      <td>Chords</td>\n",
              "      <td>intermediate</td>\n",
              "      <td>A</td>\n",
              "      <td>No Capo</td>\n",
              "      <td>E A D G B E</td>\n",
              "      <td>(-33.038, 10016.5]</td>\n",
              "      <td>(2677.0, 40045.0]</td>\n",
              "      <td>(8847841.25, 16290069.5]</td>\n",
              "      <td>(3416779.0, 31174526.0]</td>\n",
              "      <td>0.455742</td>\n",
              "      <td>0.078900</td>\n",
              "      <td>7.175296</td>\n",
              "    </tr>\n",
              "    <tr>\n",
              "      <th>11</th>\n",
              "      <td>Bruno Mars</td>\n",
              "      <td>When I Was Your Man</td>\n",
              "      <td>14428</td>\n",
              "      <td>14687286</td>\n",
              "      <td>Chords</td>\n",
              "      <td>novice</td>\n",
              "      <td>C</td>\n",
              "      <td>No Capo</td>\n",
              "      <td>E A D G B E</td>\n",
              "      <td>(10016.5, 20026.0]</td>\n",
              "      <td>(2677.0, 40045.0]</td>\n",
              "      <td>(8847841.25, 16290069.5]</td>\n",
              "      <td>(3416779.0, 31174526.0]</td>\n",
              "      <td>0.446159</td>\n",
              "      <td>0.360183</td>\n",
              "      <td>7.166942</td>\n",
              "    </tr>\n",
              "    <tr>\n",
              "      <th>12</th>\n",
              "      <td>Metallica</td>\n",
              "      <td>Nothing Else Matters</td>\n",
              "      <td>2999</td>\n",
              "      <td>14583222</td>\n",
              "      <td>Tab</td>\n",
              "      <td>intermediate</td>\n",
              "      <td>Em</td>\n",
              "      <td>No Capo</td>\n",
              "      <td>E A D G B E</td>\n",
              "      <td>(-33.038, 10016.5]</td>\n",
              "      <td>(2677.0, 40045.0]</td>\n",
              "      <td>(8847841.25, 16290069.5]</td>\n",
              "      <td>(3416779.0, 31174526.0]</td>\n",
              "      <td>0.442663</td>\n",
              "      <td>0.074729</td>\n",
              "      <td>7.163853</td>\n",
              "    </tr>\n",
              "    <tr>\n",
              "      <th>13</th>\n",
              "      <td>Justin Bieber</td>\n",
              "      <td>Love Yourself</td>\n",
              "      <td>11055</td>\n",
              "      <td>14329200</td>\n",
              "      <td>Chords</td>\n",
              "      <td>novice</td>\n",
              "      <td>E</td>\n",
              "      <td>4th fret</td>\n",
              "      <td>E A D G B E</td>\n",
              "      <td>(10016.5, 20026.0]</td>\n",
              "      <td>(2677.0, 40045.0]</td>\n",
              "      <td>(8847841.25, 16290069.5]</td>\n",
              "      <td>(3416779.0, 31174526.0]</td>\n",
              "      <td>0.434130</td>\n",
              "      <td>0.275938</td>\n",
              "      <td>7.156222</td>\n",
              "    </tr>\n",
              "    <tr>\n",
              "      <th>14</th>\n",
              "      <td>Vance Joy</td>\n",
              "      <td>Riptide</td>\n",
              "      <td>17693</td>\n",
              "      <td>14057389</td>\n",
              "      <td>Chords</td>\n",
              "      <td>novice</td>\n",
              "      <td>Bbm</td>\n",
              "      <td>1st fret</td>\n",
              "      <td>E A D G B E</td>\n",
              "      <td>(10016.5, 20026.0]</td>\n",
              "      <td>(2677.0, 40045.0]</td>\n",
              "      <td>(8847841.25, 16290069.5]</td>\n",
              "      <td>(3416779.0, 31174526.0]</td>\n",
              "      <td>0.425000</td>\n",
              "      <td>0.441730</td>\n",
              "      <td>7.147905</td>\n",
              "    </tr>\n",
              "    <tr>\n",
              "      <th>15</th>\n",
              "      <td>Ed Sheeran</td>\n",
              "      <td>Photograph</td>\n",
              "      <td>14028</td>\n",
              "      <td>13952081</td>\n",
              "      <td>Chords</td>\n",
              "      <td>novice</td>\n",
              "      <td>E</td>\n",
              "      <td>2nd fret</td>\n",
              "      <td>E A D G B E</td>\n",
              "      <td>(10016.5, 20026.0]</td>\n",
              "      <td>(2677.0, 40045.0]</td>\n",
              "      <td>(8847841.25, 16290069.5]</td>\n",
              "      <td>(3416779.0, 31174526.0]</td>\n",
              "      <td>0.421462</td>\n",
              "      <td>0.350192</td>\n",
              "      <td>7.144639</td>\n",
              "    </tr>\n",
              "    <tr>\n",
              "      <th>16</th>\n",
              "      <td>Radiohead</td>\n",
              "      <td>Creep</td>\n",
              "      <td>16789</td>\n",
              "      <td>13684244</td>\n",
              "      <td>Chords</td>\n",
              "      <td>novice</td>\n",
              "      <td>G</td>\n",
              "      <td>No Capo</td>\n",
              "      <td>E A D G B E</td>\n",
              "      <td>(10016.5, 20026.0]</td>\n",
              "      <td>(2677.0, 40045.0]</td>\n",
              "      <td>(8847841.25, 16290069.5]</td>\n",
              "      <td>(3416779.0, 31174526.0]</td>\n",
              "      <td>0.412465</td>\n",
              "      <td>0.419152</td>\n",
              "      <td>7.136221</td>\n",
              "    </tr>\n",
              "    <tr>\n",
              "      <th>17</th>\n",
              "      <td>Pink Floyd</td>\n",
              "      <td>Wish You Were Here</td>\n",
              "      <td>14884</td>\n",
              "      <td>13569404</td>\n",
              "      <td>Chords</td>\n",
              "      <td>novice</td>\n",
              "      <td>Em</td>\n",
              "      <td>No Capo</td>\n",
              "      <td>E A D G B E</td>\n",
              "      <td>(10016.5, 20026.0]</td>\n",
              "      <td>(2677.0, 40045.0]</td>\n",
              "      <td>(8847841.25, 16290069.5]</td>\n",
              "      <td>(3416779.0, 31174526.0]</td>\n",
              "      <td>0.408607</td>\n",
              "      <td>0.371572</td>\n",
              "      <td>7.132561</td>\n",
              "    </tr>\n",
              "    <tr>\n",
              "      <th>18</th>\n",
              "      <td>Oasis</td>\n",
              "      <td>Wonderwall</td>\n",
              "      <td>7767</td>\n",
              "      <td>13017729</td>\n",
              "      <td>Chords</td>\n",
              "      <td>intermediate</td>\n",
              "      <td>F#m</td>\n",
              "      <td>2nd fret</td>\n",
              "      <td>E A D G B E</td>\n",
              "      <td>(-33.038, 10016.5]</td>\n",
              "      <td>(2677.0, 40045.0]</td>\n",
              "      <td>(8847841.25, 16290069.5]</td>\n",
              "      <td>(3416779.0, 31174526.0]</td>\n",
              "      <td>0.390075</td>\n",
              "      <td>0.193816</td>\n",
              "      <td>7.114535</td>\n",
              "    </tr>\n",
              "    <tr>\n",
              "      <th>19</th>\n",
              "      <td>Oasis</td>\n",
              "      <td>Dont Look Back In Anger</td>\n",
              "      <td>11981</td>\n",
              "      <td>12942507</td>\n",
              "      <td>Chords</td>\n",
              "      <td>novice</td>\n",
              "      <td>C</td>\n",
              "      <td>No Capo</td>\n",
              "      <td>E A D G B E</td>\n",
              "      <td>(10016.5, 20026.0]</td>\n",
              "      <td>(2677.0, 40045.0]</td>\n",
              "      <td>(8847841.25, 16290069.5]</td>\n",
              "      <td>(3416779.0, 31174526.0]</td>\n",
              "      <td>0.387548</td>\n",
              "      <td>0.299066</td>\n",
              "      <td>7.112018</td>\n",
              "    </tr>\n",
              "    <tr>\n",
              "      <th>20</th>\n",
              "      <td>Train</td>\n",
              "      <td>Hey Soul Sister</td>\n",
              "      <td>6896</td>\n",
              "      <td>11729033</td>\n",
              "      <td>Chords</td>\n",
              "      <td>novice</td>\n",
              "      <td>C</td>\n",
              "      <td>4th fret</td>\n",
              "      <td>E A D G B E</td>\n",
              "      <td>(-33.038, 10016.5]</td>\n",
              "      <td>(2677.0, 40045.0]</td>\n",
              "      <td>(8847841.25, 16290069.5]</td>\n",
              "      <td>(3416779.0, 31174526.0]</td>\n",
              "      <td>0.346785</td>\n",
              "      <td>0.172062</td>\n",
              "      <td>7.069262</td>\n",
              "    </tr>\n",
              "    <tr>\n",
              "      <th>21</th>\n",
              "      <td>Eagles</td>\n",
              "      <td>Hotel California</td>\n",
              "      <td>2047</td>\n",
              "      <td>11310041</td>\n",
              "      <td>Tab</td>\n",
              "      <td>intermediate</td>\n",
              "      <td>Bm</td>\n",
              "      <td>No Capo</td>\n",
              "      <td>E A D G B E</td>\n",
              "      <td>(-33.038, 10016.5]</td>\n",
              "      <td>(1260.5, 2677.0]</td>\n",
              "      <td>(8847841.25, 16290069.5]</td>\n",
              "      <td>(3416779.0, 31174526.0]</td>\n",
              "      <td>0.332710</td>\n",
              "      <td>0.050952</td>\n",
              "      <td>7.053464</td>\n",
              "    </tr>\n",
              "    <tr>\n",
              "      <th>22</th>\n",
              "      <td>Goo Goo Dolls</td>\n",
              "      <td>Iris</td>\n",
              "      <td>4240</td>\n",
              "      <td>11150677</td>\n",
              "      <td>Chords</td>\n",
              "      <td>novice</td>\n",
              "      <td>Bm</td>\n",
              "      <td>No Capo</td>\n",
              "      <td>E A D G B E</td>\n",
              "      <td>(-33.038, 10016.5]</td>\n",
              "      <td>(2677.0, 40045.0]</td>\n",
              "      <td>(8847841.25, 16290069.5]</td>\n",
              "      <td>(3416779.0, 31174526.0]</td>\n",
              "      <td>0.327357</td>\n",
              "      <td>0.105725</td>\n",
              "      <td>7.047301</td>\n",
              "    </tr>\n",
              "    <tr>\n",
              "      <th>23</th>\n",
              "      <td>Ed Sheeran</td>\n",
              "      <td>I See Fire</td>\n",
              "      <td>9646</td>\n",
              "      <td>11115061</td>\n",
              "      <td>Chords</td>\n",
              "      <td>novice</td>\n",
              "      <td>Bbm</td>\n",
              "      <td>6th fret</td>\n",
              "      <td>E A D G B E</td>\n",
              "      <td>(-33.038, 10016.5]</td>\n",
              "      <td>(2677.0, 40045.0]</td>\n",
              "      <td>(8847841.25, 16290069.5]</td>\n",
              "      <td>(3416779.0, 31174526.0]</td>\n",
              "      <td>0.326161</td>\n",
              "      <td>0.240746</td>\n",
              "      <td>7.045912</td>\n",
              "    </tr>\n",
              "    <tr>\n",
              "      <th>24</th>\n",
              "      <td>Taylor Swift</td>\n",
              "      <td>Love Story</td>\n",
              "      <td>5966</td>\n",
              "      <td>11073935</td>\n",
              "      <td>Chords</td>\n",
              "      <td>novice</td>\n",
              "      <td>C</td>\n",
              "      <td>2nd fret</td>\n",
              "      <td>E A D G B E</td>\n",
              "      <td>(-33.038, 10016.5]</td>\n",
              "      <td>(2677.0, 40045.0]</td>\n",
              "      <td>(8847841.25, 16290069.5]</td>\n",
              "      <td>(3416779.0, 31174526.0]</td>\n",
              "      <td>0.324779</td>\n",
              "      <td>0.148834</td>\n",
              "      <td>7.044302</td>\n",
              "    </tr>\n",
              "    <tr>\n",
              "      <th>25</th>\n",
              "      <td>Guns N' Roses</td>\n",
              "      <td>Sweet Child O Mine</td>\n",
              "      <td>2773</td>\n",
              "      <td>10623670</td>\n",
              "      <td>Tab</td>\n",
              "      <td>intermediate</td>\n",
              "      <td>D</td>\n",
              "      <td>No Capo</td>\n",
              "      <td>Eb Ab Db Gb Bb Eb</td>\n",
              "      <td>(-33.038, 10016.5]</td>\n",
              "      <td>(2677.0, 40045.0]</td>\n",
              "      <td>(8847841.25, 16290069.5]</td>\n",
              "      <td>(3416779.0, 31174526.0]</td>\n",
              "      <td>0.309654</td>\n",
              "      <td>0.069084</td>\n",
              "      <td>7.026275</td>\n",
              "    </tr>\n",
              "    <tr>\n",
              "      <th>26</th>\n",
              "      <td>Oasis</td>\n",
              "      <td>Wonderwall</td>\n",
              "      <td>1592</td>\n",
              "      <td>10608799</td>\n",
              "      <td>Chords</td>\n",
              "      <td>intermediate</td>\n",
              "      <td>F#m</td>\n",
              "      <td>No Capo</td>\n",
              "      <td>E A D G B E</td>\n",
              "      <td>(-33.038, 10016.5]</td>\n",
              "      <td>(1260.5, 2677.0]</td>\n",
              "      <td>(8847841.25, 16290069.5]</td>\n",
              "      <td>(3416779.0, 31174526.0]</td>\n",
              "      <td>0.309154</td>\n",
              "      <td>0.039587</td>\n",
              "      <td>7.025666</td>\n",
              "    </tr>\n",
              "    <tr>\n",
              "      <th>27</th>\n",
              "      <td>Paramore</td>\n",
              "      <td>The Only Exception</td>\n",
              "      <td>7229</td>\n",
              "      <td>10596785</td>\n",
              "      <td>Chords</td>\n",
              "      <td>novice</td>\n",
              "      <td>B</td>\n",
              "      <td>4th fret</td>\n",
              "      <td>E A D G B E</td>\n",
              "      <td>(-33.038, 10016.5]</td>\n",
              "      <td>(2677.0, 40045.0]</td>\n",
              "      <td>(8847841.25, 16290069.5]</td>\n",
              "      <td>(3416779.0, 31174526.0]</td>\n",
              "      <td>0.308751</td>\n",
              "      <td>0.180379</td>\n",
              "      <td>7.025174</td>\n",
              "    </tr>\n",
              "    <tr>\n",
              "      <th>28</th>\n",
              "      <td>The Beatles</td>\n",
              "      <td>Let It Be</td>\n",
              "      <td>6517</td>\n",
              "      <td>10284189</td>\n",
              "      <td>Chords</td>\n",
              "      <td>novice</td>\n",
              "      <td>C</td>\n",
              "      <td>No Capo</td>\n",
              "      <td>E A D G B E</td>\n",
              "      <td>(-33.038, 10016.5]</td>\n",
              "      <td>(2677.0, 40045.0]</td>\n",
              "      <td>(8847841.25, 16290069.5]</td>\n",
              "      <td>(3416779.0, 31174526.0]</td>\n",
              "      <td>0.298250</td>\n",
              "      <td>0.162596</td>\n",
              "      <td>7.012170</td>\n",
              "    </tr>\n",
              "    <tr>\n",
              "      <th>29</th>\n",
              "      <td>Coldplay</td>\n",
              "      <td>Viva La Vida</td>\n",
              "      <td>9339</td>\n",
              "      <td>10108319</td>\n",
              "      <td>Chords</td>\n",
              "      <td>intermediate</td>\n",
              "      <td>Ab</td>\n",
              "      <td>1st fret</td>\n",
              "      <td>E A D G B E</td>\n",
              "      <td>(-33.038, 10016.5]</td>\n",
              "      <td>(2677.0, 40045.0]</td>\n",
              "      <td>(8847841.25, 16290069.5]</td>\n",
              "      <td>(3416779.0, 31174526.0]</td>\n",
              "      <td>0.292342</td>\n",
              "      <td>0.233079</td>\n",
              "      <td>7.004679</td>\n",
              "    </tr>\n",
              "    <tr>\n",
              "      <th>30</th>\n",
              "      <td>Plain White T's</td>\n",
              "      <td>Hey There Delilah</td>\n",
              "      <td>7815</td>\n",
              "      <td>10103645</td>\n",
              "      <td>Chords</td>\n",
              "      <td>novice</td>\n",
              "      <td>D</td>\n",
              "      <td>No Capo</td>\n",
              "      <td>E A D G B E</td>\n",
              "      <td>(-33.038, 10016.5]</td>\n",
              "      <td>(2677.0, 40045.0]</td>\n",
              "      <td>(8847841.25, 16290069.5]</td>\n",
              "      <td>(3416779.0, 31174526.0]</td>\n",
              "      <td>0.292185</td>\n",
              "      <td>0.195015</td>\n",
              "      <td>7.004478</td>\n",
              "    </tr>\n",
              "    <tr>\n",
              "      <th>31</th>\n",
              "      <td>Imagine Dragons</td>\n",
              "      <td>Radioactive</td>\n",
              "      <td>16411</td>\n",
              "      <td>9646730</td>\n",
              "      <td>Chords</td>\n",
              "      <td>novice</td>\n",
              "      <td>Bm</td>\n",
              "      <td>2nd fret</td>\n",
              "      <td>E A D G B E</td>\n",
              "      <td>(10016.5, 20026.0]</td>\n",
              "      <td>(2677.0, 40045.0]</td>\n",
              "      <td>(8847841.25, 16290069.5]</td>\n",
              "      <td>(3416779.0, 31174526.0]</td>\n",
              "      <td>0.276836</td>\n",
              "      <td>0.409711</td>\n",
              "      <td>6.984380</td>\n",
              "    </tr>\n",
              "    <tr>\n",
              "      <th>32</th>\n",
              "      <td>Extreme</td>\n",
              "      <td>More Than Words</td>\n",
              "      <td>4270</td>\n",
              "      <td>9582233</td>\n",
              "      <td>Chords</td>\n",
              "      <td>intermediate</td>\n",
              "      <td>G</td>\n",
              "      <td>No Capo</td>\n",
              "      <td>Eb Ab Db Gb Bb Eb</td>\n",
              "      <td>(-33.038, 10016.5]</td>\n",
              "      <td>(2677.0, 40045.0]</td>\n",
              "      <td>(8847841.25, 16290069.5]</td>\n",
              "      <td>(3416779.0, 31174526.0]</td>\n",
              "      <td>0.274670</td>\n",
              "      <td>0.106474</td>\n",
              "      <td>6.981467</td>\n",
              "    </tr>\n",
              "  </tbody>\n",
              "</table>\n",
              "</div>"
            ],
            "text/plain": [
              "             Artist                  Song Name  ...  song_r_norm  song_h_log\n",
              "0      Jeff Buckley                Hallelujah   ...     1.000000    7.493800\n",
              "1        Ed Sheeran                    Perfect  ...     0.791423    7.411532\n",
              "2       John Legend                  All Of Me  ...     0.503572    7.409144\n",
              "3         Passenger                 Let Her Go  ...     0.431090    7.390168\n",
              "4      Led Zeppelin         Stairway To Heaven  ...     0.295519    7.317285\n",
              "5        Jason Mraz                  Im Yours   ...     0.305710    7.308066\n",
              "6     Elvis Presley  Cant Help Falling In Love  ...     0.493032    7.297924\n",
              "7        Ed Sheeran          Thinking Out Loud  ...     0.302787    7.253804\n",
              "8   Plain White T's                   Airplane  ...     0.017184    7.227044\n",
              "9          Coldplay             The Scientist   ...     0.262650    7.181383\n",
              "10            Adele          Someone Like You   ...     0.078900    7.175296\n",
              "11       Bruno Mars        When I Was Your Man  ...     0.360183    7.166942\n",
              "12        Metallica       Nothing Else Matters  ...     0.074729    7.163853\n",
              "13    Justin Bieber              Love Yourself  ...     0.275938    7.156222\n",
              "14        Vance Joy                   Riptide   ...     0.441730    7.147905\n",
              "15       Ed Sheeran                 Photograph  ...     0.350192    7.144639\n",
              "16        Radiohead                      Creep  ...     0.419152    7.136221\n",
              "17       Pink Floyd         Wish You Were Here  ...     0.371572    7.132561\n",
              "18            Oasis                Wonderwall   ...     0.193816    7.114535\n",
              "19            Oasis    Dont Look Back In Anger  ...     0.299066    7.112018\n",
              "20            Train           Hey Soul Sister   ...     0.172062    7.069262\n",
              "21           Eagles          Hotel California   ...     0.050952    7.053464\n",
              "22    Goo Goo Dolls                      Iris   ...     0.105725    7.047301\n",
              "23       Ed Sheeran                I See Fire   ...     0.240746    7.045912\n",
              "24     Taylor Swift                 Love Story  ...     0.148834    7.044302\n",
              "25    Guns N' Roses        Sweet Child O Mine   ...     0.069084    7.026275\n",
              "26            Oasis                 Wonderwall  ...     0.039587    7.025666\n",
              "27         Paramore         The Only Exception  ...     0.180379    7.025174\n",
              "28      The Beatles                  Let It Be  ...     0.162596    7.012170\n",
              "29         Coldplay               Viva La Vida  ...     0.233079    7.004679\n",
              "30  Plain White T's         Hey There Delilah   ...     0.195015    7.004478\n",
              "31  Imagine Dragons                Radioactive  ...     0.409711    6.984380\n",
              "32          Extreme            More Than Words  ...     0.106474    6.981467\n",
              "\n",
              "[33 rows x 16 columns]"
            ]
          },
          "metadata": {},
          "execution_count": 58
        }
      ]
    },
    {
      "cell_type": "code",
      "metadata": {
        "colab": {
          "base_uri": "https://localhost:8080/"
        },
        "id": "rgGi_t4aT3QI",
        "outputId": "55a0e6ac-1fd5-4c90-fa24-e6467fad4690"
      },
      "source": [
        "songs_h_t = base[(base['song_h_log'] < (q1-1.5*iqr)) & (base['song_h_log'] < (q3+1.5*iqr))]\n",
        "len(songs_h_t)"
      ],
      "execution_count": 59,
      "outputs": [
        {
          "output_type": "execute_result",
          "data": {
            "text/plain": [
              "0"
            ]
          },
          "metadata": {},
          "execution_count": 59
        }
      ]
    },
    {
      "cell_type": "markdown",
      "metadata": {
        "id": "-6wBzw-LAQw_"
      },
      "source": [
        "- **Outliers usando razão de duas variáveis**"
      ]
    },
    {
      "cell_type": "code",
      "metadata": {
        "colab": {
          "base_uri": "https://localhost:8080/",
          "height": 297
        },
        "id": "5He8IHX9UNy8",
        "outputId": "f987fd77-0453-48d8-b292-a5d47716f413"
      },
      "source": [
        "base.plot.scatter(x='Song Hits',y='Song Rating')"
      ],
      "execution_count": 60,
      "outputs": [
        {
          "output_type": "execute_result",
          "data": {
            "text/plain": [
              "<matplotlib.axes._subplots.AxesSubplot at 0x7f42546b9d50>"
            ]
          },
          "metadata": {},
          "execution_count": 60
        },
        {
          "output_type": "display_data",
          "data": {
            "image/png": "[encoded data removed]",
            "text/plain": [
              "<Figure size 432x288 with 1 Axes>"
            ]
          },
          "metadata": {
            "needs_background": "light"
          }
        }
      ]
    },
    {
      "cell_type": "code",
      "metadata": {
        "colab": {
          "base_uri": "https://localhost:8080/"
        },
        "id": "f75Xyab3UTz3",
        "outputId": "4f8f964b-d7aa-4f6c-a148-b6d2c962b8bf"
      },
      "source": [
        "sh_sr = base['Song Hits'] / base['Song Rating']\n",
        "sh_sr.describe()"
      ],
      "execution_count": 61,
      "outputs": [
        {
          "output_type": "execute_result",
          "data": {
            "text/plain": [
              "count       850.000000\n",
              "mean       4781.553506\n",
              "std       12444.502699\n",
              "min         270.590987\n",
              "25%        1122.158432\n",
              "50%        2050.819397\n",
              "75%        3863.365597\n",
              "max      200868.714286\n",
              "dtype: float64"
            ]
          },
          "metadata": {},
          "execution_count": 61
        }
      ]
    },
    {
      "cell_type": "code",
      "metadata": {
        "colab": {
          "base_uri": "https://localhost:8080/",
          "height": 283
        },
        "id": "iEAXTz00UoCm",
        "outputId": "454390c3-7a6c-477d-e273-eec68644103d"
      },
      "source": [
        "sh_sr.plot.box()"
      ],
      "execution_count": 62,
      "outputs": [
        {
          "output_type": "execute_result",
          "data": {
            "text/plain": [
              "<matplotlib.axes._subplots.AxesSubplot at 0x7f4254695150>"
            ]
          },
          "metadata": {},
          "execution_count": 62
        },
        {
          "output_type": "display_data",
          "data": {
            "image/png": "[encoded data removed]",
            "text/plain": [
              "<Figure size 432x288 with 1 Axes>"
            ]
          },
          "metadata": {
            "needs_background": "light"
          }
        }
      ]
    },
    {
      "cell_type": "code",
      "metadata": {
        "colab": {
          "base_uri": "https://localhost:8080/",
          "height": 265
        },
        "id": "SbSj2taXVhqr",
        "outputId": "18117a53-938a-487d-b541-63ca88b1d9ec"
      },
      "source": [
        "sh_sr.hist()\n",
        "sh_sr_log = np.log10(sh_sr)"
      ],
      "execution_count": 63,
      "outputs": [
        {
          "output_type": "display_data",
          "data": {
            "image/png": "[encoded data removed]",
            "text/plain": [
              "<Figure size 432x288 with 1 Axes>"
            ]
          },
          "metadata": {
            "needs_background": "light"
          }
        }
      ]
    },
    {
      "cell_type": "code",
      "metadata": {
        "id": "8ygK25K0V0fs"
      },
      "source": [
        "mad = abs(sh_sr_log - sh_sr_log.median()).median()*(1/0.6745)"
      ],
      "execution_count": 64,
      "outputs": []
    },
    {
      "cell_type": "code",
      "metadata": {
        "colab": {
          "base_uri": "https://localhost:8080/",
          "height": 283
        },
        "id": "9h246Kt9V-FQ",
        "outputId": "26d0b140-78bf-49af-fd3c-b2142f1172e0"
      },
      "source": [
        "(abs(sh_sr_log-sh_sr_log.median())/mad).hist()"
      ],
      "execution_count": 65,
      "outputs": [
        {
          "output_type": "execute_result",
          "data": {
            "text/plain": [
              "<matplotlib.axes._subplots.AxesSubplot at 0x7f4254976bd0>"
            ]
          },
          "metadata": {},
          "execution_count": 65
        },
        {
          "output_type": "display_data",
          "data": {
            "image/png": "[encoded data removed]",
            "text/plain": [
              "<Figure size 432x288 with 1 Axes>"
            ]
          },
          "metadata": {
            "needs_background": "light"
          }
        }
      ]
    },
    {
      "cell_type": "code",
      "metadata": {
        "colab": {
          "base_uri": "https://localhost:8080/",
          "height": 569
        },
        "id": "MJTqaGrwV0Uw",
        "outputId": "783d7178-d3f9-4cfe-ebad-b19db45e9b19"
      },
      "source": [
        "base[abs(sh_sr_log-sh_sr_log.median())/mad > 3.5]"
      ],
      "execution_count": 66,
      "outputs": [
        {
          "output_type": "execute_result",
          "data": {
            "text/html": [
              "<div>\n",
              "<style scoped>\n",
              "    .dataframe tbody tr th:only-of-type {\n",
              "        vertical-align: middle;\n",
              "    }\n",
              "\n",
              "    .dataframe tbody tr th {\n",
              "        vertical-align: top;\n",
              "    }\n",
              "\n",
              "    .dataframe thead th {\n",
              "        text-align: right;\n",
              "    }\n",
              "</style>\n",
              "<table border=\"1\" class=\"dataframe\">\n",
              "  <thead>\n",
              "    <tr style=\"text-align: right;\">\n",
              "      <th></th>\n",
              "      <th>Artist</th>\n",
              "      <th>Song Name</th>\n",
              "      <th>Song Rating</th>\n",
              "      <th>Song Hits</th>\n",
              "      <th>Page Type</th>\n",
              "      <th>Difficulty</th>\n",
              "      <th>Key</th>\n",
              "      <th>Capo</th>\n",
              "      <th>Tuning</th>\n",
              "      <th>song_r_disct_larg</th>\n",
              "      <th>song_r_disct_freq</th>\n",
              "      <th>song_h_disct_larg</th>\n",
              "      <th>song_h_disct_freq</th>\n",
              "      <th>song_h_norm</th>\n",
              "      <th>song_r_norm</th>\n",
              "      <th>song_h_log</th>\n",
              "    </tr>\n",
              "  </thead>\n",
              "  <tbody>\n",
              "    <tr>\n",
              "      <th>448</th>\n",
              "      <td>Fiersa Besari</td>\n",
              "      <td>Waktu Yang Salah</td>\n",
              "      <td>41</td>\n",
              "      <td>2213119</td>\n",
              "      <td>Chords</td>\n",
              "      <td>novice</td>\n",
              "      <td>G</td>\n",
              "      <td>No Capo</td>\n",
              "      <td>E A D G B E</td>\n",
              "      <td>(-33.038, 10016.5]</td>\n",
              "      <td>(6.999, 582.0]</td>\n",
              "      <td>(1375844.087, 8847841.25]</td>\n",
              "      <td>(1721466.0, 2280788.0]</td>\n",
              "      <td>0.027126</td>\n",
              "      <td>0.000849</td>\n",
              "      <td>6.345005</td>\n",
              "    </tr>\n",
              "    <tr>\n",
              "      <th>808</th>\n",
              "      <td>ZZ Top</td>\n",
              "      <td>Waitin For The Bus</td>\n",
              "      <td>17</td>\n",
              "      <td>1442989</td>\n",
              "      <td>Tab</td>\n",
              "      <td>intermediate</td>\n",
              "      <td>Db</td>\n",
              "      <td>No Capo</td>\n",
              "      <td>E A D G B</td>\n",
              "      <td>(-33.038, 10016.5]</td>\n",
              "      <td>(6.999, 582.0]</td>\n",
              "      <td>(1375844.087, 8847841.25]</td>\n",
              "      <td>(1405612.999, 1721466.0]</td>\n",
              "      <td>0.001256</td>\n",
              "      <td>0.000250</td>\n",
              "      <td>6.159263</td>\n",
              "    </tr>\n",
              "    <tr>\n",
              "      <th>823</th>\n",
              "      <td>ZZ Top</td>\n",
              "      <td>Legs</td>\n",
              "      <td>18</td>\n",
              "      <td>1424065</td>\n",
              "      <td>Tab</td>\n",
              "      <td>intermediate</td>\n",
              "      <td>Db</td>\n",
              "      <td>No Capo</td>\n",
              "      <td>E A D G B E</td>\n",
              "      <td>(-33.038, 10016.5]</td>\n",
              "      <td>(6.999, 582.0]</td>\n",
              "      <td>(1375844.087, 8847841.25]</td>\n",
              "      <td>(1405612.999, 1721466.0]</td>\n",
              "      <td>0.000620</td>\n",
              "      <td>0.000275</td>\n",
              "      <td>6.153530</td>\n",
              "    </tr>\n",
              "    <tr>\n",
              "      <th>826</th>\n",
              "      <td>Neil Young</td>\n",
              "      <td>Unplugged Album</td>\n",
              "      <td>17</td>\n",
              "      <td>1422094</td>\n",
              "      <td>Chords</td>\n",
              "      <td>intermediate</td>\n",
              "      <td>Db</td>\n",
              "      <td>No Capo</td>\n",
              "      <td>E A D G B E</td>\n",
              "      <td>(-33.038, 10016.5]</td>\n",
              "      <td>(6.999, 582.0]</td>\n",
              "      <td>(1375844.087, 8847841.25]</td>\n",
              "      <td>(1405612.999, 1721466.0]</td>\n",
              "      <td>0.000554</td>\n",
              "      <td>0.000250</td>\n",
              "      <td>6.152928</td>\n",
              "    </tr>\n",
              "    <tr>\n",
              "      <th>840</th>\n",
              "      <td>ZZ Top</td>\n",
              "      <td>Tube Snake Boogie</td>\n",
              "      <td>26</td>\n",
              "      <td>1412186</td>\n",
              "      <td>Tab</td>\n",
              "      <td>intermediate</td>\n",
              "      <td>Db</td>\n",
              "      <td>No Capo</td>\n",
              "      <td>E A D G B E</td>\n",
              "      <td>(-33.038, 10016.5]</td>\n",
              "      <td>(6.999, 582.0]</td>\n",
              "      <td>(1375844.087, 8847841.25]</td>\n",
              "      <td>(1405612.999, 1721466.0]</td>\n",
              "      <td>0.000221</td>\n",
              "      <td>0.000475</td>\n",
              "      <td>6.149892</td>\n",
              "    </tr>\n",
              "    <tr>\n",
              "      <th>842</th>\n",
              "      <td>ZZ Top</td>\n",
              "      <td>My Heads In Mississippi Intro</td>\n",
              "      <td>14</td>\n",
              "      <td>1408236</td>\n",
              "      <td>Tab</td>\n",
              "      <td>intermediate</td>\n",
              "      <td>Db</td>\n",
              "      <td>No Capo</td>\n",
              "      <td>E A D G B</td>\n",
              "      <td>(-33.038, 10016.5]</td>\n",
              "      <td>(6.999, 582.0]</td>\n",
              "      <td>(1375844.087, 8847841.25]</td>\n",
              "      <td>(1405612.999, 1721466.0]</td>\n",
              "      <td>0.000088</td>\n",
              "      <td>0.000175</td>\n",
              "      <td>6.148675</td>\n",
              "    </tr>\n",
              "    <tr>\n",
              "      <th>845</th>\n",
              "      <td>ZZ Top</td>\n",
              "      <td>Beer Drinkers And Hell Raisers</td>\n",
              "      <td>23</td>\n",
              "      <td>1406368</td>\n",
              "      <td>Chords</td>\n",
              "      <td>intermediate</td>\n",
              "      <td>Db</td>\n",
              "      <td>No Capo</td>\n",
              "      <td>E A D G B E</td>\n",
              "      <td>(-33.038, 10016.5]</td>\n",
              "      <td>(6.999, 582.0]</td>\n",
              "      <td>(1375844.087, 8847841.25]</td>\n",
              "      <td>(1405612.999, 1721466.0]</td>\n",
              "      <td>0.000025</td>\n",
              "      <td>0.000400</td>\n",
              "      <td>6.148099</td>\n",
              "    </tr>\n",
              "    <tr>\n",
              "      <th>846</th>\n",
              "      <td>Weezer</td>\n",
              "      <td>Weezer Album</td>\n",
              "      <td>9</td>\n",
              "      <td>1406306</td>\n",
              "      <td>Tab</td>\n",
              "      <td>intermediate</td>\n",
              "      <td>Db</td>\n",
              "      <td>No Capo</td>\n",
              "      <td>E A D G B E</td>\n",
              "      <td>(-33.038, 10016.5]</td>\n",
              "      <td>(6.999, 582.0]</td>\n",
              "      <td>(1375844.087, 8847841.25]</td>\n",
              "      <td>(1405612.999, 1721466.0]</td>\n",
              "      <td>0.000023</td>\n",
              "      <td>0.000050</td>\n",
              "      <td>6.148080</td>\n",
              "    </tr>\n",
              "    <tr>\n",
              "      <th>847</th>\n",
              "      <td>Misc Soundtrack</td>\n",
              "      <td>Mission Impossible 2 - Nyah</td>\n",
              "      <td>7</td>\n",
              "      <td>1406081</td>\n",
              "      <td>Tab</td>\n",
              "      <td>intermediate</td>\n",
              "      <td>Db</td>\n",
              "      <td>No Capo</td>\n",
              "      <td>E A D G B</td>\n",
              "      <td>(-33.038, 10016.5]</td>\n",
              "      <td>(6.999, 582.0]</td>\n",
              "      <td>(1375844.087, 8847841.25]</td>\n",
              "      <td>(1405612.999, 1721466.0]</td>\n",
              "      <td>0.000016</td>\n",
              "      <td>0.000000</td>\n",
              "      <td>6.148010</td>\n",
              "    </tr>\n",
              "    <tr>\n",
              "      <th>849</th>\n",
              "      <td>Yes</td>\n",
              "      <td>Long Distance Runaround</td>\n",
              "      <td>17</td>\n",
              "      <td>1405613</td>\n",
              "      <td>Bass</td>\n",
              "      <td>intermediate</td>\n",
              "      <td>Db</td>\n",
              "      <td>No Capo</td>\n",
              "      <td>E A D G B E</td>\n",
              "      <td>(-33.038, 10016.5]</td>\n",
              "      <td>(6.999, 582.0]</td>\n",
              "      <td>(1375844.087, 8847841.25]</td>\n",
              "      <td>(1405612.999, 1721466.0]</td>\n",
              "      <td>0.000000</td>\n",
              "      <td>0.000250</td>\n",
              "      <td>6.147866</td>\n",
              "    </tr>\n",
              "  </tbody>\n",
              "</table>\n",
              "</div>"
            ],
            "text/plain": [
              "              Artist                       Song Name  ...  song_r_norm  song_h_log\n",
              "448    Fiersa Besari               Waktu Yang Salah   ...     0.000849    6.345005\n",
              "808           ZZ Top              Waitin For The Bus  ...     0.000250    6.159263\n",
              "823           ZZ Top                            Legs  ...     0.000275    6.153530\n",
              "826       Neil Young                 Unplugged Album  ...     0.000250    6.152928\n",
              "840           ZZ Top               Tube Snake Boogie  ...     0.000475    6.149892\n",
              "842           ZZ Top   My Heads In Mississippi Intro  ...     0.000175    6.148675\n",
              "845           ZZ Top  Beer Drinkers And Hell Raisers  ...     0.000400    6.148099\n",
              "846           Weezer                    Weezer Album  ...     0.000050    6.148080\n",
              "847  Misc Soundtrack     Mission Impossible 2 - Nyah  ...     0.000000    6.148010\n",
              "849              Yes         Long Distance Runaround  ...     0.000250    6.147866\n",
              "\n",
              "[10 rows x 16 columns]"
            ]
          },
          "metadata": {},
          "execution_count": 66
        }
      ]
    },
    {
      "cell_type": "code",
      "metadata": {
        "colab": {
          "base_uri": "https://localhost:8080/"
        },
        "id": "n4uR60Y8ArHH",
        "outputId": "3b2baf9b-061e-4f7f-d8ad-e432569f97ec"
      },
      "source": [
        "qnt = base[abs(sh_sr_log-sh_sr_log.median())/mad < 3.5]\n",
        "print(len(qnt))"
      ],
      "execution_count": 67,
      "outputs": [
        {
          "output_type": "stream",
          "name": "stdout",
          "text": [
            "840\n"
          ]
        }
      ]
    },
    {
      "cell_type": "markdown",
      "metadata": {
        "id": "bxvwqKuGAzoP"
      },
      "source": [
        "Na visualização dos outliers entre as duas variáveis, percebemos que o retrono apresenta músicas que ainda que tenham muitas visualizações não possuem boa avaliação. \n",
        "\n",
        "Podemos perceber que mesmo com o log10 as colunas visualizadas, não se comportram como uma normal (podemos visualizar isso nos histogramas). Os resultados, certamente seriam outros, pois as técnicas utilizadas seguem esse princípio. "
      ]
    },
    {
      "cell_type": "markdown",
      "metadata": {
        "id": "H_gbTgivpN2d"
      },
      "source": [
        "# 3.4 **Visualizando Mais Dados**"
      ]
    },
    {
      "cell_type": "code",
      "metadata": {
        "colab": {
          "base_uri": "https://localhost:8080/",
          "height": 319
        },
        "id": "yCKVeTvX3M6P",
        "outputId": "e1ebfef5-c090-4850-ee3e-c5a90d56c3f5"
      },
      "source": [
        "pg_df = pd.crosstab(index=base['Page Type'], columns=base['Difficulty'])\n",
        "pg_df.plot.bar()\n",
        "plt.legend(title = 'Dificuldade')\n",
        "plt.show()"
      ],
      "execution_count": 68,
      "outputs": [
        {
          "output_type": "display_data",
          "data": {
            "image/png": "[encoded data removed]",
            "text/plain": [
              "<Figure size 432x288 with 1 Axes>"
            ]
          },
          "metadata": {
            "needs_background": "light"
          }
        }
      ]
    },
    {
      "cell_type": "code",
      "metadata": {
        "colab": {
          "base_uri": "https://localhost:8080/",
          "height": 385
        },
        "id": "K5Gtgjp23V8w",
        "outputId": "e3772288-94eb-4d8d-96e7-cd8b546d5e0b"
      },
      "source": [
        "tab_dupla = pd.crosstab(index=base['Tuning'], columns=base['Difficulty'])\n",
        "plt.figure(figsize=(15,8))\n",
        "tab_dupla.plot.bar()\n",
        "plt.legend(title = 'Dificuldade')\n",
        "plt.show()"
      ],
      "execution_count": 69,
      "outputs": [
        {
          "output_type": "display_data",
          "data": {
            "text/plain": [
              "<Figure size 1080x576 with 0 Axes>"
            ]
          },
          "metadata": {}
        },
        {
          "output_type": "display_data",
          "data": {
            "image/png": "[encoded data removed]",
            "text/plain": [
              "<Figure size 432x288 with 1 Axes>"
            ]
          },
          "metadata": {
            "needs_background": "light"
          }
        }
      ]
    },
    {
      "cell_type": "markdown",
      "metadata": {
        "id": "vu8YFqIV3bRz"
      },
      "source": [
        "Observando os gráficos acima, podemos perceber que: a afinação com mais ocorrências é a afinação padrão (EADGBE) e o tipo de página é a de Acordes (Chords) e neste tipo de página os valores estão bem próximos. \n",
        "\n",
        "Porém, quando o PageType é Tab (Tabalatura) há uma boa diferença entre as dificuldades. O que faz sentido, pois ler tablatura, comparado a ler acordes não é nada fácil. Nos acordes é indicado qual realizar e é possível que o site mostre o desenho do acorde. \n",
        "\n",
        "Mesmo que nas tablaturas já seja em \"desenho\", há ainda detalhes de qual técnica realizar: bend, slide, vibrato, tapping, hammer-on e outras. A própria leitura é dificil, bem como a execução da técnica. Portanto, exige-se mais dedicação para ler e acompanhar uma música no tempo correto usando Tablaturas do que usando Acordes. \n",
        "\n",
        "Tablatura:\n",
        "\n",
        "![image.png](data:image/png;base64,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)\n",
        "\n",
        "Acordes: \n",
        "\n",
        "![image.png](data:image/png;base64,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)\n",
        "![image.png](data:image/png;base64,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)"
      ]
    },
    {
      "cell_type": "markdown",
      "metadata": {
        "id": "mRya14QX3lDX"
      },
      "source": [
        "Uma outra variável que pode nos mostrar algo interessante sobre a dificuldade é a Capo. Como explicado anteriormente, iniciantes podem não saber usar ou gostar de usar capotraste, além de ter que comprar mais um \"equipamento\" e entender seu funcionamento. "
      ]
    },
    {
      "cell_type": "code",
      "metadata": {
        "colab": {
          "base_uri": "https://localhost:8080/",
          "height": 311
        },
        "id": "mQ6eV6383dDu",
        "outputId": "6880276d-3672-4a7c-c509-2952a66936e1"
      },
      "source": [
        "pg_df = pd.crosstab(index=base['Capo'], columns=base['Difficulty'])\n",
        "pg_df.plot.bar()\n",
        "plt.legend(title = 'Dificuldade')\n",
        "plt.show()"
      ],
      "execution_count": 70,
      "outputs": [
        {
          "output_type": "display_data",
          "data": {
            "image/png": "[encoded data removed]",
            "text/plain": [
              "<Figure size 432x288 with 1 Axes>"
            ]
          },
          "metadata": {
            "needs_background": "light"
          }
        }
      ]
    },
    {
      "cell_type": "markdown",
      "metadata": {
        "id": "lxDacq-t3vQn"
      },
      "source": [
        "O gráfico acima apresenta o que se acreditava. Mas, podemos perceber que as músicas consideradas avançadas, também não usam capotraste. Podemos, a partir das informações que temos, indicar quais são as caracteristicas das músicas Avançadas?"
      ]
    },
    {
      "cell_type": "code",
      "metadata": {
        "colab": {
          "base_uri": "https://localhost:8080/",
          "height": 357
        },
        "id": "6mwSoxiy3plU",
        "outputId": "9915009b-d08a-487a-df8f-f1f81f38c569"
      },
      "source": [
        "base[base['Difficulty'] == 'advanced']"
      ],
      "execution_count": 71,
      "outputs": [
        {
          "output_type": "execute_result",
          "data": {
            "text/html": [
              "<div>\n",
              "<style scoped>\n",
              "    .dataframe tbody tr th:only-of-type {\n",
              "        vertical-align: middle;\n",
              "    }\n",
              "\n",
              "    .dataframe tbody tr th {\n",
              "        vertical-align: top;\n",
              "    }\n",
              "\n",
              "    .dataframe thead th {\n",
              "        text-align: right;\n",
              "    }\n",
              "</style>\n",
              "<table border=\"1\" class=\"dataframe\">\n",
              "  <thead>\n",
              "    <tr style=\"text-align: right;\">\n",
              "      <th></th>\n",
              "      <th>Artist</th>\n",
              "      <th>Song Name</th>\n",
              "      <th>Song Rating</th>\n",
              "      <th>Song Hits</th>\n",
              "      <th>Page Type</th>\n",
              "      <th>Difficulty</th>\n",
              "      <th>Key</th>\n",
              "      <th>Capo</th>\n",
              "      <th>Tuning</th>\n",
              "      <th>song_r_disct_larg</th>\n",
              "      <th>song_r_disct_freq</th>\n",
              "      <th>song_h_disct_larg</th>\n",
              "      <th>song_h_disct_freq</th>\n",
              "      <th>song_h_norm</th>\n",
              "      <th>song_r_norm</th>\n",
              "      <th>song_h_log</th>\n",
              "    </tr>\n",
              "  </thead>\n",
              "  <tbody>\n",
              "    <tr>\n",
              "      <th>36</th>\n",
              "      <td>Eric Clapton</td>\n",
              "      <td>Tears In Heaven</td>\n",
              "      <td>4188</td>\n",
              "      <td>9054292</td>\n",
              "      <td>Tab</td>\n",
              "      <td>advanced</td>\n",
              "      <td>A</td>\n",
              "      <td>No Capo</td>\n",
              "      <td>E A D G B E</td>\n",
              "      <td>(-33.038, 10016.5]</td>\n",
              "      <td>(2677.0, 40045.0]</td>\n",
              "      <td>(8847841.25, 16290069.5]</td>\n",
              "      <td>(3416779.0, 31174526.0]</td>\n",
              "      <td>0.256935</td>\n",
              "      <td>0.104426</td>\n",
              "      <td>6.956854</td>\n",
              "    </tr>\n",
              "    <tr>\n",
              "      <th>134</th>\n",
              "      <td>Jason Mraz</td>\n",
              "      <td>Im Yours</td>\n",
              "      <td>211</td>\n",
              "      <td>4690834</td>\n",
              "      <td>Tab</td>\n",
              "      <td>advanced</td>\n",
              "      <td>Bm</td>\n",
              "      <td>No Capo</td>\n",
              "      <td>E A D G B E</td>\n",
              "      <td>(-33.038, 10016.5]</td>\n",
              "      <td>(6.999, 582.0]</td>\n",
              "      <td>(1375844.087, 8847841.25]</td>\n",
              "      <td>(3416779.0, 31174526.0]</td>\n",
              "      <td>0.110357</td>\n",
              "      <td>0.005095</td>\n",
              "      <td>6.671250</td>\n",
              "    </tr>\n",
              "    <tr>\n",
              "      <th>159</th>\n",
              "      <td>Metallica</td>\n",
              "      <td>Nothing Else Matters</td>\n",
              "      <td>1864</td>\n",
              "      <td>4194130</td>\n",
              "      <td>Tab</td>\n",
              "      <td>advanced</td>\n",
              "      <td>Db</td>\n",
              "      <td>No Capo</td>\n",
              "      <td>E A D G B</td>\n",
              "      <td>(-33.038, 10016.5]</td>\n",
              "      <td>(1260.5, 2677.0]</td>\n",
              "      <td>(1375844.087, 8847841.25]</td>\n",
              "      <td>(3416779.0, 31174526.0]</td>\n",
              "      <td>0.093672</td>\n",
              "      <td>0.046381</td>\n",
              "      <td>6.622642</td>\n",
              "    </tr>\n",
              "    <tr>\n",
              "      <th>163</th>\n",
              "      <td>Queen</td>\n",
              "      <td>Bohemian Rhapsody</td>\n",
              "      <td>1677</td>\n",
              "      <td>4165302</td>\n",
              "      <td>Chords</td>\n",
              "      <td>advanced</td>\n",
              "      <td>Bb</td>\n",
              "      <td>No Capo</td>\n",
              "      <td>E A D G B E</td>\n",
              "      <td>(-33.038, 10016.5]</td>\n",
              "      <td>(1260.5, 2677.0]</td>\n",
              "      <td>(1375844.087, 8847841.25]</td>\n",
              "      <td>(3416779.0, 31174526.0]</td>\n",
              "      <td>0.092704</td>\n",
              "      <td>0.041710</td>\n",
              "      <td>6.619646</td>\n",
              "    </tr>\n",
              "    <tr>\n",
              "      <th>587</th>\n",
              "      <td>Muse</td>\n",
              "      <td>Hysteria</td>\n",
              "      <td>685</td>\n",
              "      <td>1823282</td>\n",
              "      <td>Bass</td>\n",
              "      <td>advanced</td>\n",
              "      <td>Am</td>\n",
              "      <td>No Capo</td>\n",
              "      <td>E A D G</td>\n",
              "      <td>(-33.038, 10016.5]</td>\n",
              "      <td>(582.0, 1260.5]</td>\n",
              "      <td>(1375844.087, 8847841.25]</td>\n",
              "      <td>(1721466.0, 2280788.0]</td>\n",
              "      <td>0.014030</td>\n",
              "      <td>0.016934</td>\n",
              "      <td>6.260854</td>\n",
              "    </tr>\n",
              "    <tr>\n",
              "      <th>700</th>\n",
              "      <td>Metallica</td>\n",
              "      <td>The Day That Never Comes</td>\n",
              "      <td>547</td>\n",
              "      <td>1613762</td>\n",
              "      <td>Tab</td>\n",
              "      <td>advanced</td>\n",
              "      <td>Db</td>\n",
              "      <td>No Capo</td>\n",
              "      <td>E A D G B E</td>\n",
              "      <td>(-33.038, 10016.5]</td>\n",
              "      <td>(6.999, 582.0]</td>\n",
              "      <td>(1375844.087, 8847841.25]</td>\n",
              "      <td>(1405612.999, 1721466.0]</td>\n",
              "      <td>0.006992</td>\n",
              "      <td>0.013487</td>\n",
              "      <td>6.207839</td>\n",
              "    </tr>\n",
              "  </tbody>\n",
              "</table>\n",
              "</div>"
            ],
            "text/plain": [
              "           Artist                  Song Name  ...  song_r_norm  song_h_log\n",
              "36   Eric Clapton            Tears In Heaven  ...     0.104426    6.956854\n",
              "134    Jason Mraz                   Im Yours  ...     0.005095    6.671250\n",
              "159     Metallica      Nothing Else Matters   ...     0.046381    6.622642\n",
              "163         Queen          Bohemian Rhapsody  ...     0.041710    6.619646\n",
              "587          Muse                   Hysteria  ...     0.016934    6.260854\n",
              "700     Metallica  The Day That Never Comes   ...     0.013487    6.207839\n",
              "\n",
              "[6 rows x 16 columns]"
            ]
          },
          "metadata": {},
          "execution_count": 71
        }
      ]
    },
    {
      "cell_type": "markdown",
      "metadata": {
        "id": "iviAlcvP3pbe"
      },
      "source": [
        "Podemos perceber, que a partir desses dados, que há uma relação entre músicas consideredas Avançadas e páginas do tipo Tablaturas. Mas vamos observar também, os demais níveis de dificuldade."
      ]
    },
    {
      "cell_type": "code",
      "metadata": {
        "colab": {
          "base_uri": "https://localhost:8080/",
          "height": 357
        },
        "id": "l-4bA_Mj4CFn",
        "outputId": "f02f7eb0-e1b1-4a5a-a47e-5c0cbe47e3c5"
      },
      "source": [
        "base[base['Difficulty'] == 'intermediate'].head(6)"
      ],
      "execution_count": 72,
      "outputs": [
        {
          "output_type": "execute_result",
          "data": {
            "text/html": [
              "<div>\n",
              "<style scoped>\n",
              "    .dataframe tbody tr th:only-of-type {\n",
              "        vertical-align: middle;\n",
              "    }\n",
              "\n",
              "    .dataframe tbody tr th {\n",
              "        vertical-align: top;\n",
              "    }\n",
              "\n",
              "    .dataframe thead th {\n",
              "        text-align: right;\n",
              "    }\n",
              "</style>\n",
              "<table border=\"1\" class=\"dataframe\">\n",
              "  <thead>\n",
              "    <tr style=\"text-align: right;\">\n",
              "      <th></th>\n",
              "      <th>Artist</th>\n",
              "      <th>Song Name</th>\n",
              "      <th>Song Rating</th>\n",
              "      <th>Song Hits</th>\n",
              "      <th>Page Type</th>\n",
              "      <th>Difficulty</th>\n",
              "      <th>Key</th>\n",
              "      <th>Capo</th>\n",
              "      <th>Tuning</th>\n",
              "      <th>song_r_disct_larg</th>\n",
              "      <th>song_r_disct_freq</th>\n",
              "      <th>song_h_disct_larg</th>\n",
              "      <th>song_h_disct_freq</th>\n",
              "      <th>song_h_norm</th>\n",
              "      <th>song_r_norm</th>\n",
              "      <th>song_h_log</th>\n",
              "    </tr>\n",
              "  </thead>\n",
              "  <tbody>\n",
              "    <tr>\n",
              "      <th>4</th>\n",
              "      <td>Led Zeppelin</td>\n",
              "      <td>Stairway To Heaven</td>\n",
              "      <td>11839</td>\n",
              "      <td>20762763</td>\n",
              "      <td>Tab</td>\n",
              "      <td>intermediate</td>\n",
              "      <td>Am</td>\n",
              "      <td>No Capo</td>\n",
              "      <td>E A D G B E</td>\n",
              "      <td>(10016.5, 20026.0]</td>\n",
              "      <td>(2677.0, 40045.0]</td>\n",
              "      <td>(16290069.5, 23732297.75]</td>\n",
              "      <td>(3416779.0, 31174526.0]</td>\n",
              "      <td>0.650247</td>\n",
              "      <td>0.295519</td>\n",
              "      <td>7.317285</td>\n",
              "    </tr>\n",
              "    <tr>\n",
              "      <th>6</th>\n",
              "      <td>Elvis Presley</td>\n",
              "      <td>Cant Help Falling In Love</td>\n",
              "      <td>19747</td>\n",
              "      <td>19857493</td>\n",
              "      <td>Chords</td>\n",
              "      <td>intermediate</td>\n",
              "      <td>C</td>\n",
              "      <td>2nd fret</td>\n",
              "      <td>E A D G B E</td>\n",
              "      <td>(10016.5, 20026.0]</td>\n",
              "      <td>(2677.0, 40045.0]</td>\n",
              "      <td>(16290069.5, 23732297.75]</td>\n",
              "      <td>(3416779.0, 31174526.0]</td>\n",
              "      <td>0.619837</td>\n",
              "      <td>0.493032</td>\n",
              "      <td>7.297924</td>\n",
              "    </tr>\n",
              "    <tr>\n",
              "      <th>8</th>\n",
              "      <td>Plain White T's</td>\n",
              "      <td>Airplane</td>\n",
              "      <td>695</td>\n",
              "      <td>16867243</td>\n",
              "      <td>Tab</td>\n",
              "      <td>intermediate</td>\n",
              "      <td>Gm</td>\n",
              "      <td>No Capo</td>\n",
              "      <td>E A D G B E</td>\n",
              "      <td>(-33.038, 10016.5]</td>\n",
              "      <td>(582.0, 1260.5]</td>\n",
              "      <td>(16290069.5, 23732297.75]</td>\n",
              "      <td>(3416779.0, 31174526.0]</td>\n",
              "      <td>0.519388</td>\n",
              "      <td>0.017184</td>\n",
              "      <td>7.227044</td>\n",
              "    </tr>\n",
              "    <tr>\n",
              "      <th>10</th>\n",
              "      <td>Adele</td>\n",
              "      <td>Someone Like You</td>\n",
              "      <td>3166</td>\n",
              "      <td>14972548</td>\n",
              "      <td>Chords</td>\n",
              "      <td>intermediate</td>\n",
              "      <td>A</td>\n",
              "      <td>No Capo</td>\n",
              "      <td>E A D G B E</td>\n",
              "      <td>(-33.038, 10016.5]</td>\n",
              "      <td>(2677.0, 40045.0]</td>\n",
              "      <td>(8847841.25, 16290069.5]</td>\n",
              "      <td>(3416779.0, 31174526.0]</td>\n",
              "      <td>0.455742</td>\n",
              "      <td>0.078900</td>\n",
              "      <td>7.175296</td>\n",
              "    </tr>\n",
              "    <tr>\n",
              "      <th>12</th>\n",
              "      <td>Metallica</td>\n",
              "      <td>Nothing Else Matters</td>\n",
              "      <td>2999</td>\n",
              "      <td>14583222</td>\n",
              "      <td>Tab</td>\n",
              "      <td>intermediate</td>\n",
              "      <td>Em</td>\n",
              "      <td>No Capo</td>\n",
              "      <td>E A D G B E</td>\n",
              "      <td>(-33.038, 10016.5]</td>\n",
              "      <td>(2677.0, 40045.0]</td>\n",
              "      <td>(8847841.25, 16290069.5]</td>\n",
              "      <td>(3416779.0, 31174526.0]</td>\n",
              "      <td>0.442663</td>\n",
              "      <td>0.074729</td>\n",
              "      <td>7.163853</td>\n",
              "    </tr>\n",
              "    <tr>\n",
              "      <th>18</th>\n",
              "      <td>Oasis</td>\n",
              "      <td>Wonderwall</td>\n",
              "      <td>7767</td>\n",
              "      <td>13017729</td>\n",
              "      <td>Chords</td>\n",
              "      <td>intermediate</td>\n",
              "      <td>F#m</td>\n",
              "      <td>2nd fret</td>\n",
              "      <td>E A D G B E</td>\n",
              "      <td>(-33.038, 10016.5]</td>\n",
              "      <td>(2677.0, 40045.0]</td>\n",
              "      <td>(8847841.25, 16290069.5]</td>\n",
              "      <td>(3416779.0, 31174526.0]</td>\n",
              "      <td>0.390075</td>\n",
              "      <td>0.193816</td>\n",
              "      <td>7.114535</td>\n",
              "    </tr>\n",
              "  </tbody>\n",
              "</table>\n",
              "</div>"
            ],
            "text/plain": [
              "             Artist                  Song Name  ...  song_r_norm  song_h_log\n",
              "4      Led Zeppelin         Stairway To Heaven  ...     0.295519    7.317285\n",
              "6     Elvis Presley  Cant Help Falling In Love  ...     0.493032    7.297924\n",
              "8   Plain White T's                   Airplane  ...     0.017184    7.227044\n",
              "10            Adele          Someone Like You   ...     0.078900    7.175296\n",
              "12        Metallica       Nothing Else Matters  ...     0.074729    7.163853\n",
              "18            Oasis                Wonderwall   ...     0.193816    7.114535\n",
              "\n",
              "[6 rows x 16 columns]"
            ]
          },
          "metadata": {},
          "execution_count": 72
        }
      ]
    },
    {
      "cell_type": "code",
      "metadata": {
        "colab": {
          "base_uri": "https://localhost:8080/",
          "height": 357
        },
        "id": "L-uexaQp4C9Z",
        "outputId": "e6af4395-1d15-45ed-9146-6fc2dc1a9998"
      },
      "source": [
        "base[base['Difficulty'] == 'novice'].head(6)"
      ],
      "execution_count": 73,
      "outputs": [
        {
          "output_type": "execute_result",
          "data": {
            "text/html": [
              "<div>\n",
              "<style scoped>\n",
              "    .dataframe tbody tr th:only-of-type {\n",
              "        vertical-align: middle;\n",
              "    }\n",
              "\n",
              "    .dataframe tbody tr th {\n",
              "        vertical-align: top;\n",
              "    }\n",
              "\n",
              "    .dataframe thead th {\n",
              "        text-align: right;\n",
              "    }\n",
              "</style>\n",
              "<table border=\"1\" class=\"dataframe\">\n",
              "  <thead>\n",
              "    <tr style=\"text-align: right;\">\n",
              "      <th></th>\n",
              "      <th>Artist</th>\n",
              "      <th>Song Name</th>\n",
              "      <th>Song Rating</th>\n",
              "      <th>Song Hits</th>\n",
              "      <th>Page Type</th>\n",
              "      <th>Difficulty</th>\n",
              "      <th>Key</th>\n",
              "      <th>Capo</th>\n",
              "      <th>Tuning</th>\n",
              "      <th>song_r_disct_larg</th>\n",
              "      <th>song_r_disct_freq</th>\n",
              "      <th>song_h_disct_larg</th>\n",
              "      <th>song_h_disct_freq</th>\n",
              "      <th>song_h_norm</th>\n",
              "      <th>song_r_norm</th>\n",
              "      <th>song_h_log</th>\n",
              "    </tr>\n",
              "  </thead>\n",
              "  <tbody>\n",
              "    <tr>\n",
              "      <th>0</th>\n",
              "      <td>Jeff Buckley</td>\n",
              "      <td>Hallelujah</td>\n",
              "      <td>40045</td>\n",
              "      <td>31174526</td>\n",
              "      <td>Chords</td>\n",
              "      <td>novice</td>\n",
              "      <td>Db</td>\n",
              "      <td>1st fret</td>\n",
              "      <td>E A D G B E</td>\n",
              "      <td>(30035.5, 40045.0]</td>\n",
              "      <td>(2677.0, 40045.0]</td>\n",
              "      <td>(23732297.75, 31174526.0]</td>\n",
              "      <td>(3416779.0, 31174526.0]</td>\n",
              "      <td>1.000000</td>\n",
              "      <td>1.000000</td>\n",
              "      <td>7.493800</td>\n",
              "    </tr>\n",
              "    <tr>\n",
              "      <th>1</th>\n",
              "      <td>Ed Sheeran</td>\n",
              "      <td>Perfect</td>\n",
              "      <td>31694</td>\n",
              "      <td>25794778</td>\n",
              "      <td>Chords</td>\n",
              "      <td>novice</td>\n",
              "      <td>Ab</td>\n",
              "      <td>1st fret</td>\n",
              "      <td>E A D G B E</td>\n",
              "      <td>(30035.5, 40045.0]</td>\n",
              "      <td>(2677.0, 40045.0]</td>\n",
              "      <td>(23732297.75, 31174526.0]</td>\n",
              "      <td>(3416779.0, 31174526.0]</td>\n",
              "      <td>0.819283</td>\n",
              "      <td>0.791423</td>\n",
              "      <td>7.411532</td>\n",
              "    </tr>\n",
              "    <tr>\n",
              "      <th>2</th>\n",
              "      <td>John Legend</td>\n",
              "      <td>All Of Me</td>\n",
              "      <td>20169</td>\n",
              "      <td>25653362</td>\n",
              "      <td>Chords</td>\n",
              "      <td>novice</td>\n",
              "      <td>Fm</td>\n",
              "      <td>1st fret</td>\n",
              "      <td>E A D G B E</td>\n",
              "      <td>(20026.0, 30035.5]</td>\n",
              "      <td>(2677.0, 40045.0]</td>\n",
              "      <td>(23732297.75, 31174526.0]</td>\n",
              "      <td>(3416779.0, 31174526.0]</td>\n",
              "      <td>0.814533</td>\n",
              "      <td>0.503572</td>\n",
              "      <td>7.409144</td>\n",
              "    </tr>\n",
              "    <tr>\n",
              "      <th>3</th>\n",
              "      <td>Passenger</td>\n",
              "      <td>Let Her Go</td>\n",
              "      <td>17267</td>\n",
              "      <td>24556593</td>\n",
              "      <td>Chords</td>\n",
              "      <td>novice</td>\n",
              "      <td>Em</td>\n",
              "      <td>7th fret</td>\n",
              "      <td>E A D G B E</td>\n",
              "      <td>(10016.5, 20026.0]</td>\n",
              "      <td>(2677.0, 40045.0]</td>\n",
              "      <td>(23732297.75, 31174526.0]</td>\n",
              "      <td>(3416779.0, 31174526.0]</td>\n",
              "      <td>0.777690</td>\n",
              "      <td>0.431090</td>\n",
              "      <td>7.390168</td>\n",
              "    </tr>\n",
              "    <tr>\n",
              "      <th>5</th>\n",
              "      <td>Jason Mraz</td>\n",
              "      <td>Im Yours</td>\n",
              "      <td>12247</td>\n",
              "      <td>20326678</td>\n",
              "      <td>Chords</td>\n",
              "      <td>novice</td>\n",
              "      <td>B</td>\n",
              "      <td>4th fret</td>\n",
              "      <td>E A D G B E</td>\n",
              "      <td>(10016.5, 20026.0]</td>\n",
              "      <td>(2677.0, 40045.0]</td>\n",
              "      <td>(16290069.5, 23732297.75]</td>\n",
              "      <td>(3416779.0, 31174526.0]</td>\n",
              "      <td>0.635598</td>\n",
              "      <td>0.305710</td>\n",
              "      <td>7.308066</td>\n",
              "    </tr>\n",
              "    <tr>\n",
              "      <th>7</th>\n",
              "      <td>Ed Sheeran</td>\n",
              "      <td>Thinking Out Loud</td>\n",
              "      <td>12130</td>\n",
              "      <td>17939245</td>\n",
              "      <td>Chords</td>\n",
              "      <td>novice</td>\n",
              "      <td>D</td>\n",
              "      <td>2nd fret</td>\n",
              "      <td>E A D G B E</td>\n",
              "      <td>(10016.5, 20026.0]</td>\n",
              "      <td>(2677.0, 40045.0]</td>\n",
              "      <td>(16290069.5, 23732297.75]</td>\n",
              "      <td>(3416779.0, 31174526.0]</td>\n",
              "      <td>0.555399</td>\n",
              "      <td>0.302787</td>\n",
              "      <td>7.253804</td>\n",
              "    </tr>\n",
              "  </tbody>\n",
              "</table>\n",
              "</div>"
            ],
            "text/plain": [
              "         Artist          Song Name  ...  song_r_norm  song_h_log\n",
              "0  Jeff Buckley        Hallelujah   ...     1.000000    7.493800\n",
              "1    Ed Sheeran            Perfect  ...     0.791423    7.411532\n",
              "2   John Legend          All Of Me  ...     0.503572    7.409144\n",
              "3     Passenger         Let Her Go  ...     0.431090    7.390168\n",
              "5    Jason Mraz          Im Yours   ...     0.305710    7.308066\n",
              "7    Ed Sheeran  Thinking Out Loud  ...     0.302787    7.253804\n",
              "\n",
              "[6 rows x 16 columns]"
            ]
          },
          "metadata": {},
          "execution_count": 73
        }
      ]
    },
    {
      "cell_type": "markdown",
      "metadata": {
        "id": "IbeKPjHM4EX3"
      },
      "source": [
        "Após observar essas características. Percebemos que as músicas consideradas Iniciantes (novice) são todas do tipo de páginas de acordes, mas a surpresa está na coluna Capo, todas essas músicas utilizam capotraste.\n",
        "\n",
        "Ao observar o resultado do nível Intermediário temos uma alternância nas colunas Capo e PageType. \n",
        "\n",
        "Então, provavelmente, o nível de dificuldade da música, está mais relacionado com a forma de execução dela (Page Type) do que com o uso de capotraste, pois embora use, a execução é igual: apenas Acordes (Chords). \n",
        "\n",
        "Foi observado, também, músicas do mesmo Artista com dificuldades diferentes. Não seria interessante remover essas linhas \"duplicadas\", pois é muito comum nesse tipo de site (de onde foi extraída as informações do dataset) uma música apresentar diferentes níveis de dificuldades, e com isso, páginas diferentes. Pois, em níveis diferentes apresentam mais ou menos detalhes para a execução da música. \n"
      ]
    },
    {
      "cell_type": "code",
      "metadata": {
        "id": "F_9OEDL8RjTk",
        "colab": {
          "base_uri": "https://localhost:8080/"
        },
        "outputId": "8917171e-3fdf-4b71-d4aa-80dd2f6a1d69"
      },
      "source": [
        "base.groupby('Difficulty')['Song Hits'].mean()"
      ],
      "execution_count": 74,
      "outputs": [
        {
          "output_type": "execute_result",
          "data": {
            "text/plain": [
              "Difficulty\n",
              "advanced        4.256934e+06\n",
              "intermediate    2.839772e+06\n",
              "novice          3.948278e+06\n",
              "Name: Song Hits, dtype: float64"
            ]
          },
          "metadata": {},
          "execution_count": 74
        }
      ]
    },
    {
      "cell_type": "code",
      "metadata": {
        "id": "YGmq5Hd-iv9X",
        "colab": {
          "base_uri": "https://localhost:8080/",
          "height": 363
        },
        "outputId": "3c4b0a94-ced6-4f8e-af2c-39a865e7666b"
      },
      "source": [
        "df_sh = base.groupby('Difficulty')['Song Hits'].mean()\n",
        "df_sh.plot.bar()"
      ],
      "execution_count": 75,
      "outputs": [
        {
          "output_type": "execute_result",
          "data": {
            "text/plain": [
              "<matplotlib.axes._subplots.AxesSubplot at 0x7f42544a93d0>"
            ]
          },
          "metadata": {},
          "execution_count": 75
        },
        {
          "output_type": "display_data",
          "data": {
            "image/png": "[encoded data removed]",
            "text/plain": [
              "<Figure size 432x288 with 1 Axes>"
            ]
          },
          "metadata": {
            "needs_background": "light"
          }
        }
      ]
    },
    {
      "cell_type": "markdown",
      "metadata": {
        "id": "Ujm3L8E68e6S"
      },
      "source": [
        "Os dados acima, apontam que a média de acessos a uma página é maior nas músicas consideradas Avançadas. O que faz sentido, pois quanto maior a dificuldade da música, provavelmente, iremos acessa-la mais vezes, para entender e conseguir aprender os detalhes. Quanto à uma música considerada iniciante ou intermediária podemos acessa-la poucas vezes e já conseguir aprende-la. \n",
        "\n",
        "Por exemplo, [Ainda é Cedo da Banda Legião Urbana](https://www.cifraclub.com.br/legiao-urbana/ainda-cedo/) é mais fácil se comparado à música [Sapato Velho da Banda Roupa Nova](https://www.cifraclub.com.br/roupa-nova/sapato-velho/). "
      ]
    },
    {
      "cell_type": "code",
      "metadata": {
        "colab": {
          "base_uri": "https://localhost:8080/",
          "height": 352
        },
        "id": "PNolHfKcCyDY",
        "outputId": "549c3712-36ab-43c5-c760-0a3c75f057ca"
      },
      "source": [
        "df_sh = base.groupby('Difficulty')['Song Rating'].mean()\n",
        "df_sh.plot.bar()"
      ],
      "execution_count": 76,
      "outputs": [
        {
          "output_type": "execute_result",
          "data": {
            "text/plain": [
              "<matplotlib.axes._subplots.AxesSubplot at 0x7f425424ed50>"
            ]
          },
          "metadata": {},
          "execution_count": 76
        },
        {
          "output_type": "display_data",
          "data": {
            "image/png": "[encoded data removed]",
            "text/plain": [
              "<Figure size 432x288 with 1 Axes>"
            ]
          },
          "metadata": {
            "needs_background": "light"
          }
        }
      ]
    },
    {
      "cell_type": "code",
      "metadata": {
        "colab": {
          "base_uri": "https://localhost:8080/",
          "height": 330
        },
        "id": "RKMCFeEJNKG7",
        "outputId": "6e4908ba-e40f-4586-8b81-0cd8a8c37f7b"
      },
      "source": [
        "cp_sh = base.groupby('Capo')['Song Rating'].mean()\n",
        "cp_sh.plot.bar()"
      ],
      "execution_count": 77,
      "outputs": [
        {
          "output_type": "execute_result",
          "data": {
            "text/plain": [
              "<matplotlib.axes._subplots.AxesSubplot at 0x7f425413b1d0>"
            ]
          },
          "metadata": {},
          "execution_count": 77
        },
        {
          "output_type": "display_data",
          "data": {
            "image/png": "[encoded data removed]",
            "text/plain": [
              "<Figure size 432x288 with 1 Axes>"
            ]
          },
          "metadata": {
            "needs_background": "light"
          }
        }
      ]
    },
    {
      "cell_type": "markdown",
      "metadata": {
        "id": "7sNJcqWSBlF8"
      },
      "source": [
        "A realização dessa análise consguiu apresentar informações interessantes sobre o dataset. Além disso, foi de suma importância para praticar e fixar o conteúdo apresentado na disciplina de Introdução à Análise de Dados. \n",
        "\n"
      ]
    },
    {
      "cell_type": "markdown",
      "metadata": {
        "id": "0L6BcgXPXEhN"
      },
      "source": [
        "**E a pergunta inicial: O que leva um \"músico\" a aprender uma música?**\n",
        "\n",
        "A partir das informações que temos é possivel perceber que existem alguns fatores que cotribuem para isso. A afinação (Tuning) padrão (EADGBE) é a mais marcante das variáveis. E faz sentido, alterar a afinação do instrumento é muito \"específico\" ou nichado, mais comum em bandas de Metal e suas derivações, onde a afinação é mais baixa que a padrão, provocando um som mais grave e \"sujo\", a exemplo da banda [Slipknot](https://www.youtube.com/watch?v=RyZrFgE153M) usa uma afinação em B (Si) ou A (Lá).\n",
        "\n",
        "As músicas \"pop\" raramente mudam a afinação, será que por isso se tornam Pop (Populares)? Pela facilidade de entender/tocar, melodias relativamente simples e assim fácil de reproduzir e compartilhar na internet?\n",
        "\n",
        "Além disso, as páginas do tipo Acordes (Chords) apontam maior quantidade. Como já mencionado anteriormente, esse tipo de página é mais fácil de ler/entender e reproduzir/acompanhar. É possível que com poucas semanas (dependendo da dedicação) um iniciante consiga acompanhar uma música lendo a cifra numa página desse tipo. Dificilmente isso vai acontecer com uma página do tipo Tablatura. As técnicas envolvidas pedem ainda mais dedicação, e a execução precisa ser bem feita para que a nota possa soar da forma adequada, um bend vai soar diferente de um slide. \n",
        "\n",
        "A princípio, a partir dos dados, seriam essas as principais características (Afinação Padrão e Páginas do tipo Acorde). Uma outra, seria o uso do capotraste, há muitas músicas que possem capotraste em alguma traste. O acesso a esses objetos pode ser mais fácil hoje em dia (quando comecei não era fácil) porém, utilizar não quer dizer que entende o funcionamento. Mas ainda assim, foi uma caracteristica presente em muitas músicas do conjuto de dados analisado, mas não parece influenciar tanto na dificuldade ou e levar um músico a aprender ou não determinada música. \n"
      ]
    },
    {
      "cell_type": "markdown",
      "metadata": {
        "id": "FfGMZjNxdOVk"
      },
      "source": [
        "# 4 - **Conclusão**"
      ]
    },
    {
      "cell_type": "markdown",
      "metadata": {
        "id": "iEwpMOqedvZe"
      },
      "source": [
        "A análise, ainda que inicial, provocou uma mudança de comportamento no autor em relação aos dados, como estes se comportam e como provavelmente são entregues a ele. Por isso, para a realização de um trabalho/atividade futura seria interessante retirar as informações do site [CifraClub](https://www.cifraclub.com.br/), que é brasileiro, e perceber o comportamento dos dados. E avaliar os resultados com os dessa análise. "
      ]
    }
  ]
}